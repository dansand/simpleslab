{
 "cells": [
  {
   "cell_type": "markdown",
   "metadata": {
    "deletable": true,
    "editable": true
   },
   "source": [
    "## 2D thermo mechanical subduction models\n",
    "\n",
    "This notebook develops a flexible model for 2d thermo-mechanical subduction using Underworld2. All functionality is parallel-compatible. The code has been run on 48 processors, at a vertical resolution of 256 elements (Q1).\n",
    "\n",
    "Some of the features of this model:\n",
    "\n",
    "* use markerLines and 'proximity' to impose geometry / thermal structure\n",
    "* easy switch between thermal and compositional models\n",
    "* paramter non-dimensionlisation\n",
    "* checkpointing\n",
    "* command line arguments can be supplied to control paramters and modelling choices\n",
    "\n",
    "\n",
    "\n",
    "<hr>\n",
    "<a rel=\"license\" href=\"http://creativecommons.org/licenses/by-nc-sa/4.0/\"><img alt=\"Creative Commons License\" style=\"border-width:0\" src=\"https://i.creativecommons.org/l/by-nc-sa/4.0/88x31.png\" /></a><br />This work is copyright Dan Sandiford and Louis Moresi. It is licensed under a <a rel=\"license\" href=\"http://creativecommons.org/licenses/by-nc-sa/4.0/\">Creative Commons Attribution-NonCommercial-ShareAlike 4.0 International License</a>."
   ]
  },
  {
   "cell_type": "markdown",
   "metadata": {},
   "source": [
    "## Notes\n",
    "\n",
    "### General\n",
    "\n",
    "Many of the functions and scripts (unsupported module) were written by Dan Sandiford during his PhD. This code has no formal testing proceedure, and is likely to break if adapated to new settings. Consider helping us improving the module!\n",
    "\n",
    "### Checkpointing\n",
    "\n",
    "All parts of the code that relate to checkpointing have the following identifier:\n",
    "\n",
    "`#*************CHECKPOINT-BLOCK**************#`\n",
    "\n",
    "### Materials\n",
    "\n",
    "Currently a weak material is added to the top of the lower plate to decouple the plates. In this notbook, the is no functionality for updating materials. An example of one way you could add this functionality can be found here: https://github.com/dansand/materialTransformations\n",
    "\n",
    "\n",
    "\n",
    "### Resolution and particles\n",
    "\n",
    "Properly resolving the weak crust is critical to this model, which means that resolution (and particle numbers) need to be quite high (i.e. don't expect quick models on your laptop)"
   ]
  },
  {
   "cell_type": "markdown",
   "metadata": {
    "deletable": true,
    "editable": true
   },
   "source": [
    "## Package requirements\n",
    "\n",
    "Assuming you're running underworld2 through a docker image, you will need the following python packages:\n",
    "\n",
    "* easydict  https://pypi.python.org/pypi/easydict/\n",
    "\n",
    "It should be simple enough to do `pip install easydict` (though you'll need to do this for each container you start)\n",
    "\n",
    "You'll also need a copy of this module: https://github.com/dansand/unsupported.git\n",
    "\n",
    "This is occasionally merged with the official underworld2 module of the same name, but it's safest to grab a copy of the repo: \n",
    "\n",
    "`git clone https://github.com/dansand/unsupported.git`, \n",
    "\n",
    "(easiest to clone straight into in the same directory as this notebook.)\n",
    "\n",
    "To add the module to the pythonpath do:\n",
    "\n",
    "```python\n",
    "import os\n",
    "import sys\n",
    "\n",
    "if os.getcwd() == '/workspace/newSlab':\n",
    "    sys.path.append('./unsupported')\n",
    "    \n",
    "```"
   ]
  },
  {
   "cell_type": "code",
   "execution_count": 47,
   "metadata": {
    "collapsed": false,
    "deletable": true,
    "editable": true
   },
   "outputs": [],
   "source": [
    "import os\n",
    "import sys\n",
    "\n",
    "if '/workspace' in os.getcwd(): #a simple test for the standard Docker image\n",
    "    #sys.path.append('./unsupported') #unsupported module located in current working dir\n",
    "    sys.path.append('../unsupported') #unsupported module located in parent dir.\n",
    "\n",
    "else:\n",
    "    pass #put your non-docker path here"
   ]
  },
  {
   "cell_type": "code",
   "execution_count": 48,
   "metadata": {
    "collapsed": false,
    "deletable": true,
    "editable": true
   },
   "outputs": [],
   "source": [
    "import numpy as np\n",
    "import underworld as uw\n",
    "import math\n",
    "from underworld import function as fn\n",
    "import glucifer\n",
    "from easydict import EasyDict as edict\n",
    "import operator\n",
    "import pickle\n",
    "\n",
    "\n",
    "#\n",
    "from unsupported_dan.utilities.interpolation import nn_evaluation\n",
    "from unsupported_dan.utilities.subduction import slab_top\n",
    "from unsupported_dan.interfaces.marker2D import markerLine2D\n",
    "from unsupported_dan.easymodels import checkpoint\n",
    "from unsupported_dan.easymodels import easy_args\n",
    "from unsupported_dan.utilities.misc import *"
   ]
  },
  {
   "cell_type": "markdown",
   "metadata": {
    "deletable": true,
    "editable": true
   },
   "source": [
    "## Setup output directories"
   ]
  },
  {
   "cell_type": "code",
   "execution_count": 49,
   "metadata": {
    "collapsed": true,
    "deletable": true,
    "editable": true
   },
   "outputs": [],
   "source": [
    "###########\n",
    "#Standard output directory setup\n",
    "###########\n",
    "\n",
    "\n",
    "#Model letter identifier demarker\n",
    "Model = \"T\"\n",
    "\n",
    "#Model number identifier demarker:\n",
    "ModNum = 1\n",
    "\n",
    "#Any isolated letter / integer command line args are interpreted as Model/ModelNum\n",
    "\n",
    "if len(sys.argv) == 1:\n",
    "    ModNum = ModNum \n",
    "elif sys.argv[1] == '-f': #\n",
    "    ModNum = ModNum \n",
    "else:\n",
    "    for farg in sys.argv[1:]:\n",
    "        if not '=' in farg: #then Assume it's a not a paramter argument\n",
    "            try:\n",
    "                ModNum = int(farg) #try to convert everingthing to a float, else remains string\n",
    "            except ValueError:\n",
    "                Model  = farg\n",
    "                \n",
    "                \n",
    "###########\n",
    "#Standard output directory setup\n",
    "###########\n",
    "\n",
    "outputPath = \"results\" + \"/\" +  str(Model) + \"/\" + str(ModNum) + \"/\" \n",
    "imagePath = outputPath + 'images/'\n",
    "filePath = outputPath + 'files/'\n",
    "#checkpointPath = outputPath + 'checkpoint/'\n",
    "dbPath = outputPath + 'gldbs/'\n",
    "xdmfPath = outputPath + 'xdmf/'\n",
    "outputFile = 'results_model' + Model + '_' + str(ModNum) + '.dat'\n",
    "\n",
    "if uw.rank()==0:\n",
    "    # make directories if they don't exist\n",
    "    if not os.path.isdir(outputPath):\n",
    "        os.makedirs(outputPath)\n",
    "    if not os.path.isdir(imagePath):\n",
    "        os.makedirs(imagePath)\n",
    "    if not os.path.isdir(dbPath):\n",
    "        os.makedirs(dbPath)\n",
    "    if not os.path.isdir(filePath):\n",
    "        os.makedirs(filePath)\n",
    "    if not os.path.isdir(xdmfPath):\n",
    "        os.makedirs(xdmfPath)\n",
    "        \n",
    "uw.barrier() #Barrier here so no procs run the check in the next cell too early        "
   ]
  },
  {
   "cell_type": "markdown",
   "metadata": {
    "collapsed": false,
    "deletable": true,
    "editable": true
   },
   "source": [
    "## Checkpointing"
   ]
  },
  {
   "cell_type": "code",
   "execution_count": 50,
   "metadata": {
    "collapsed": false,
    "deletable": true,
    "editable": true
   },
   "outputs": [],
   "source": [
    "#*************CHECKPOINT-BLOCK**************#\n",
    "\n",
    "#cp = checkpoint(outputPath + 'checkpoint/', loadpath='./results/A/1/checkpoint/10')\n",
    "cp = checkpoint(outputPath + 'checkpoint/')\n",
    "\n",
    "#*************CHECKPOINT-BLOCK**************#\n"
   ]
  },
  {
   "cell_type": "markdown",
   "metadata": {
    "deletable": true,
    "editable": true
   },
   "source": [
    "## Model parameters and scaling"
   ]
  },
  {
   "cell_type": "code",
   "execution_count": null,
   "metadata": {
    "collapsed": false,
    "deletable": true,
    "editable": true
   },
   "outputs": [],
   "source": []
  },
  {
   "cell_type": "code",
   "execution_count": 51,
   "metadata": {
    "collapsed": false,
    "deletable": true,
    "editable": true
   },
   "outputs": [],
   "source": [
    "dp = edict({})\n",
    "#Main physical paramters\n",
    "dp.depth=1000e3                         #Depth\n",
    "dp.refDensity=3300.                        #reference density\n",
    "dp.refGravity=9.8                          #surface gravity\n",
    "dp.viscosityScale=1e20                       #reference upper mantle visc., \n",
    "dp.refDiffusivity=1e-6                     #thermal diffusivity\n",
    "dp.refExpansivity=3e-5                     #surface thermal expansivity\n",
    "dp.gasConstant=8.314                    #gas constant\n",
    "dp.specificHeat=1250.                   #Specific heat (Jkg-1K-1)\n",
    "dp.potentialTemp=1573.                  #mantle potential temp (K)\n",
    "dp.surfaceTemp=273.                     #surface temp (K)\n",
    "#Rheology - flow law paramters\n",
    "dp.cohesionMantle=20e6                   #mantle cohesion in Byerlee law\n",
    "dp.cohesionCrust=1e6                    #crust cohesion in Byerlee law\n",
    "dp.frictionMantle=0.2                   #mantle friction coefficient in Byerlee law (tan(phi))\n",
    "dp.frictionCrust=0.02                   #crust friction coefficient \n",
    "dp.diffusionPreExp=5.34e-10             #1./1.87e9, pre-exp factor for diffusion creep\n",
    "dp.diffusionEnergy=3e5 \n",
    "dp.diffusionVolume=5e-6\n",
    "dp.lowerMantlePreExp=4.23e-15           #1./2.36e14\n",
    "dp.lowerMantleEnergy=2.0e5\n",
    "dp.lowerMantleVolume=1.5e-6\n",
    "dp.lowerMantleViscFac = 30.\n",
    "\n",
    "\n",
    "dp.interfacePreExp=2e7*5.34e-10            \n",
    "dp.interfaceEnergy=0.5*3e5\n",
    "dp.interfaceVolume=10.*5e-6\n",
    "#dp.crustExponent=3.5  \n",
    "\n",
    "dp.dislocationPreExp=5e-16              #pre-exp factor for dislocation creep\n",
    "dp.dislocationEnergy=5.4e5\n",
    "dp.dislocationVolume=0.9*12e-6\n",
    "dp.dislocationExponent=3.5              #Dislocation creep stress exponent\n",
    "\n",
    "\n",
    "#Rheology - cutoff values\n",
    "dp.viscosityMin=1e18\n",
    "dp.viscosityMax=1e25                #viscosity max in the mantle material\n",
    "dp.viscosityMinCrust=1e20               #viscosity min in the weak-crust material\n",
    "dp.viscosityMaxCrust=1e20               #viscosity max in the weak-crust material\n",
    "dp.yieldStressMax=300*1e6              #\n",
    "dp.crustViscCutoffDepth = 100e3\n",
    "dp.crustViscEndWidth = 20e3\n",
    "\n",
    "#Intrinsic Lengths\n",
    "dp.mantleCrustDepth=10.*1e3              #Crust depth\n",
    "dp.faultThickness = 10.*1e3              #interface material (crust) an top of slabs\n",
    "dp.crustMantleDepth=250.*1e3 \n",
    "dp.lowerMantleDepth=660.*1e3  \n",
    "dp.crustLimitDepth=650.*1e3             #Deeper than this, crust material rheology reverts to mantle rheology\n",
    "#Slab and plate init. parameters\n",
    "dp.subZoneLoc=-100e3                    #X position of subduction zone...km\n",
    "dp.leftRidge=-1.*(5000e3)               #\n",
    "dp.rightRidge=(5000e3)\n",
    "dp.maxDepth=150e3\n",
    "dp.theta=40                             #Angle of slab\n",
    "dp.radiusOfCurv = 250e3                          #radius of curvature\n",
    "dp.slabMaxAge=70e6                     #age of subduction plate at trench\n",
    "dp.plateMaxAge=100e6                    #max age of slab (Plate model)\n",
    "dp.opMaxAge=35e6                       #age of op\n",
    "#Misc\n",
    "dp.stickyAirDepth=100e3                 #depth of sticky air layer\n",
    "dp.viscosityStickyAir=1e19              #stick air viscosity, normal\n",
    "#derived params\n",
    "dp.deltaTemp = dp.potentialTemp-dp.surfaceTemp\n",
    "dp.tempGradMantle = (dp.refExpansivity*dp.refGravity*(dp.potentialTemp))/dp.specificHeat\n",
    "dp.tempGradSlab = (dp.refExpansivity*dp.refGravity*(dp.surfaceTemp + 400.))/dp.specificHeat\n",
    "\n",
    "\n",
    "#Modelling and Physics switches\n",
    "\n",
    "md = edict({})\n",
    "md.refineMeshStatic=True\n",
    "md.stickyAir=False\n",
    "md.aspectRatio=5.\n",
    "md.res=32\n",
    "md.ppc=25                                 #particles per cell\n",
    "md.elementType=\"Q1/dQ0\"\n",
    "#md.elementType=\"Q2/DPC1\"\n",
    "md.secInvFac=math.sqrt(1.)\n",
    "md.courantFac=0.5                         #extra limitation on timestepping\n",
    "md.thermal = True                        #thermal system or compositional\n",
    "md.swarmInitialFac = 0.6                 #initial swarm layout will be int(md.ppc*md.swarmInitialFac), popControl will densify later\n",
    "md.compBuoyancy = False\n",
    "md.nltol = 0.01\n",
    "md.maxSteps = 20000\n",
    "md.checkpointEvery = 50\n",
    "md.swarmUpdate = 10\n",
    "md.druckerAlpha = 0.\n",
    "md.druckerAlphaFault = 0.\n",
    "md.penaltyMethod = True\n",
    "md.opuniform = False\n",
    "md.spuniform = False\n",
    "md.opfixed = False\n",
    "md.spfixed = False\n",
    "md.buoyancyFac = 1.0\n",
    "#The following are time-based actions\n",
    "md.filesMy = 1.0e6 #dimensional time interval to write files\n",
    "md.diffuseInitial = 5e6 # years to run initial diffusion for. Or set to zero\n",
    "\n",
    "#some temporary flags\n",
    "md.specialCaseU = 0 #md.specialCaseU=0, byerlee down to bdt\n",
    "md.specialCaseL = 0 #md.specialCaseL=0, byerlee down to decoupling\n",
    "\n",
    "md.deepCohesionFac = 1.0\n",
    "md.deepFcFac = 0.0\n",
    "\n",
    "\n",
    "uw.barrier()"
   ]
  },
  {
   "cell_type": "code",
   "execution_count": 52,
   "metadata": {
    "collapsed": false,
    "deletable": true,
    "editable": true
   },
   "outputs": [],
   "source": [
    "##Parse any command-line args\n",
    "\n",
    "sysArgs = sys.argv\n",
    "\n",
    "#We want to run this on both the parameter dict, and the model dict\n",
    "easy_args(sysArgs, dp)\n",
    "easy_args(sysArgs, md)\n",
    "\n",
    "\n",
    "uw.barrier()"
   ]
  },
  {
   "cell_type": "code",
   "execution_count": 53,
   "metadata": {
    "collapsed": false,
    "deletable": true,
    "editable": true
   },
   "outputs": [],
   "source": [
    "sf = edict({})\n",
    "\n",
    "sf.lengthScale=2900e3\n",
    "sf.viscosityScale = dp.viscosityScale\n",
    "sf.stress = (dp.refDiffusivity*sf.viscosityScale)/sf.lengthScale**2\n",
    "#sf.lithGrad = dp.refDensity*dp.refGravity*(sf.lengthScale)**3/(sf.viscosityScale*dp.refDiffusivity) \n",
    "sf.lithGrad = (sf.viscosityScale*dp.refDiffusivity) /(dp.refDensity*dp.refGravity*(sf.lengthScale)**3)\n",
    "sf.velocity = dp.refDiffusivity/sf.lengthScale\n",
    "sf.strainRate = dp.refDiffusivity/(sf.lengthScale**2)\n",
    "sf.time = 1./sf.strainRate\n",
    "sf.actVolume = (dp.gasConstant*dp.deltaTemp)/(dp.refDensity*dp.refGravity*sf.lengthScale)\n",
    "sf.actEnergy = (dp.gasConstant*dp.deltaTemp)\n",
    "sf.diffusionPreExp = 1./sf.viscosityScale\n",
    "sf.deltaTemp  = dp.deltaTemp\n",
    "sf.pressureDepthGrad = (dp.refDensity*dp.refGravity*sf.lengthScale**3)/(dp.viscosityScale*dp.refDiffusivity)\n",
    "\n",
    "\n",
    "#dimesionless params\n",
    "ndp  = edict({})\n",
    "\n",
    "ndp.rayleigh = md.buoyancyFac*(dp.refExpansivity*dp.refDensity*dp.refGravity*dp.deltaTemp*sf.lengthScale**3)/(dp.viscosityScale*dp.refDiffusivity)\n",
    "ndp.dissipation = (dp.refExpansivity*sf.lengthScale*dp.refGravity)/dp.specificHeat\n",
    "\n",
    "\n",
    "#Take care with these definitions, \n",
    "ndp.surfaceTemp = dp.surfaceTemp/sf.deltaTemp  #Ts\n",
    "ndp.potentialTemp = dp.potentialTemp/sf.deltaTemp - ndp.surfaceTemp #Tp' = Tp - TS\n",
    "\n",
    "ndp.tempGradMantle = dp.tempGradMantle/(sf.deltaTemp/sf.lengthScale)\n",
    "ndp.tempGradSlab = dp.tempGradSlab/(sf.deltaTemp/sf.lengthScale)\n",
    "\n",
    "#lengths / distances\n",
    "ndp.depth = dp.depth/sf.lengthScale\n",
    "ndp.leftLim = -0.5*ndp.depth*md.aspectRatio\n",
    "ndp.rightLim = 0.5*ndp.depth*md.aspectRatio\n",
    "ndp.faultThickness = dp.faultThickness/sf.lengthScale\n",
    "ndp.leftRidge = max(ndp.leftLim,  dp.leftRidge/sf.lengthScale)\n",
    "ndp.rightRidge = min(ndp.rightLim, dp.rightRidge/sf.lengthScale)\n",
    "ndp.mantleCrustDepth =  dp.mantleCrustDepth/sf.lengthScale\n",
    "ndp.crustLimitDepth = dp.crustLimitDepth/sf.lengthScale\n",
    "ndp.lowerMantleDepth = dp.lowerMantleDepth/sf.lengthScale\n",
    "\n",
    "\n",
    "#times - for convenience and sanity the dimensional values are in years, conversion to seconds happens here\n",
    "ndp.slabMaxAge =  dp.slabMaxAge*(3600*24*365)/sf.time\n",
    "ndp.plateMaxAge =  dp.plateMaxAge*(3600*24*365)/sf.time\n",
    "ndp.opMaxAge = dp.opMaxAge*(3600*24*365)/sf.time\n",
    "\n",
    "\n",
    "#Rheology - flow law paramters\n",
    "ndp.cohesionMantle=dp.cohesionMantle/sf.stress                  #mantle cohesion in Byerlee law\n",
    "ndp.cohesionCrust=dp.cohesionCrust/sf.stress                  #crust cohesion in Byerlee law\n",
    "ndp.frictionMantle=dp.frictionMantle/sf.lithGrad                  #mantle friction coefficient in Byerlee law (tan(phi))\n",
    "ndp.frictionCrust=dp.frictionCrust/sf.lithGrad                  #crust friction coefficient \n",
    "ndp.diffusionPreExp=dp.diffusionPreExp/sf.diffusionPreExp                #pre-exp factor for diffusion creep\n",
    "ndp.diffusionEnergy=dp.diffusionEnergy/sf.actEnergy\n",
    "ndp.diffusionVolume=dp.diffusionVolume/sf.actVolume\n",
    "\n",
    "ndp.interfacePreExp = dp.interfacePreExp/sf.diffusionPreExp           \n",
    "ndp.interfaceEnergy = dp.interfaceEnergy/sf.actEnergy\n",
    "ndp.interfaceVolume = dp.interfaceVolume/sf.actVolume\n",
    "\n",
    "ndp.lowerMantlePreExp=dp.lowerMantlePreExp/sf.diffusionPreExp \n",
    "ndp.lowerMantleEnergy=dp.lowerMantleEnergy/sf.actEnergy\n",
    "ndp.lowerMantleVolume=dp.lowerMantleVolume/sf.actVolume\n",
    "ndp.yieldStressMax=dp.yieldStressMax/sf.stress \n",
    "#Rheology - cutoff values\n",
    "ndp.viscosityMin= dp.viscosityMin /sf.viscosityScale\n",
    "ndp.viscosityMax=dp.viscosityMax/sf.viscosityScale\n",
    "ndp.viscosityMinCrust= dp.viscosityMinCrust /sf.viscosityScale\n",
    "ndp.viscosityMaxCrust = dp.viscosityMaxCrust/sf.viscosityScale\n",
    "ndp.lowerMantleViscFac = dp.lowerMantleViscFac\n",
    "ndp.crustViscCutoffDepth = dp.crustViscCutoffDepth/sf.lengthScale\n",
    "ndp.crustViscEndWidth = dp.crustViscEndWidth/sf.lengthScale\n",
    "\n",
    "\n",
    "#Slab and plate init. parameters\n",
    "ndp.subZoneLoc = dp.subZoneLoc/sf.lengthScale\n",
    "ndp.maxDepth = dp.maxDepth/sf.lengthScale\n",
    "ndp.radiusOfCurv = dp.radiusOfCurv/sf.lengthScale\n",
    "\n"
   ]
  },
  {
   "cell_type": "code",
   "execution_count": 54,
   "metadata": {
    "collapsed": false,
    "deletable": true,
    "editable": true
   },
   "outputs": [],
   "source": [
    "#*************CHECKPOINT-BLOCK**************#\n",
    "\n",
    "\n",
    "#if restart, attempt to read in saved dicts. \n",
    "if cp.restart:\n",
    "    try:\n",
    "        with open(os.path.join(cp.loadpath, 'dp.pkl'), 'rb') as fp:\n",
    "                            dp = pickle.load(fp)\n",
    "        with open(os.path.join(cp.loadpath, 'sf.pkl'), 'rb') as fp:\n",
    "                            sf = pickle.load(fp)\n",
    "        with open(os.path.join(cp.loadpath, 'md.pkl'), 'rb') as fp:\n",
    "                            md = pickle.load(fp)\n",
    "\n",
    "    except:\n",
    "        print(\"couldn't load paramter dictionaries on restart\")\n",
    "\n",
    "\n",
    "    \n",
    "#add dicts to the checkpointinng object\n",
    "cp.addDict(dp, 'dp')\n",
    "cp.addDict(sf, 'sf')\n",
    "cp.addDict(md, 'md')\n",
    "\n",
    "#*************CHECKPOINT-BLOCK**************#\n"
   ]
  },
  {
   "cell_type": "markdown",
   "metadata": {
    "deletable": true,
    "editable": true
   },
   "source": [
    "## Build Mesh and FE variables"
   ]
  },
  {
   "cell_type": "code",
   "execution_count": 55,
   "metadata": {
    "collapsed": false,
    "deletable": true,
    "editable": true
   },
   "outputs": [],
   "source": [
    "#Domain and Mesh paramters\n",
    "yres = int(md.res)\n",
    "xres = int(md.res*12) \n",
    "\n",
    "\n",
    "\n",
    "mesh = uw.mesh.FeMesh_Cartesian( elementType = (md.elementType),\n",
    "                                 elementRes  = (xres, yres), \n",
    "                                 minCoord    = (ndp.leftLim, 1. - ndp.depth), \n",
    "                                 maxCoord    = (ndp.rightLim, 1.)) \n",
    "\n",
    "velocityField   = uw.mesh.MeshVariable( mesh=mesh,         nodeDofCount=2 )\n",
    "pressureField   = uw.mesh.MeshVariable( mesh=mesh.subMesh, nodeDofCount=1 )\n",
    "temperatureField    = uw.mesh.MeshVariable( mesh=mesh,         nodeDofCount=1 )\n",
    "\n",
    "if md.thermal:\n",
    "    temperatureDotField = uw.mesh.MeshVariable( mesh=mesh,         nodeDofCount=1 ) #create this only if Adv-diff\n",
    "    diffusivityFn = fn.misc.constant(1.)\n",
    "    \n",
    "    \n",
    "    \n",
    "# Any extra mesh vars. we want to define (mostly to facilite saving as xdmf)\n",
    "strainRateField    = uw.mesh.MeshVariable( mesh=mesh,         nodeDofCount=1 )\n",
    "viscosityField    = uw.mesh.MeshVariable( mesh=mesh,         nodeDofCount=1 )\n",
    "    \n"
   ]
  },
  {
   "cell_type": "code",
   "execution_count": 56,
   "metadata": {
    "collapsed": true,
    "deletable": true,
    "editable": true
   },
   "outputs": [],
   "source": [
    "#*************CHECKPOINT-BLOCK**************#\n",
    "cp.addObject(velocityField,'velocityField')\n",
    "cp.addObject(pressureField,'pressureField')\n",
    "if md.thermal:\n",
    "    cp.addObject(temperatureField,'temperatureField')\n",
    "    cp.addObject(temperatureDotField,'temperatureDotField')\n",
    "    \n",
    "\n",
    "#*************CHECKPOINT-BLOCK**************#"
   ]
  },
  {
   "cell_type": "code",
   "execution_count": 57,
   "metadata": {
    "collapsed": false,
    "deletable": true,
    "editable": true
   },
   "outputs": [],
   "source": [
    "#print(cp.objDict.keys())"
   ]
  },
  {
   "cell_type": "code",
   "execution_count": 58,
   "metadata": {
    "collapsed": false,
    "deletable": true,
    "editable": true
   },
   "outputs": [],
   "source": [
    "#*************CHECKPOINT-BLOCK**************#\n",
    "\n",
    "if cp.restart:\n",
    "    velocityField.load(cp.loadpath + '/velocityField.h5')\n",
    "    pressureField.load(cp.loadpath + '/pressureField.h5')\n",
    "    if md.thermal:\n",
    "        temperatureField.load(cp.loadpath + '/temperatureField.h5')\n",
    "        temperatureDotField.load(cp.loadpath + '/temperatureDotField.h5')\n",
    "        \n",
    "#*************CHECKPOINT-BLOCK**************#\n"
   ]
  },
  {
   "cell_type": "code",
   "execution_count": 59,
   "metadata": {
    "collapsed": false,
    "deletable": true,
    "editable": true
   },
   "outputs": [],
   "source": [
    "#miscellaneous Uw functions functions\n",
    "\n",
    "coordinate = fn.input()\n",
    "depthFn = mesh.maxCoord[1] - coordinate[1] #a function providing the depth\n",
    "\n",
    "\n",
    "xFn = coordinate[0]  #a function providing the x-coordinate\n",
    "yFn = coordinate[1]\n",
    "\n",
    "\n",
    "\n",
    "\n",
    "\n",
    "#Create a binary circle\n",
    "def inCircleFnGenerator(centre, radius):\n",
    "    coord = fn.input()\n",
    "    offsetFn = coord - centre\n",
    "    return fn.math.dot( offsetFn, offsetFn ) < radius**2\n"
   ]
  },
  {
   "cell_type": "markdown",
   "metadata": {
    "deletable": true,
    "editable": true
   },
   "source": [
    "## Boundary Conditions"
   ]
  },
  {
   "cell_type": "code",
   "execution_count": 60,
   "metadata": {
    "collapsed": false,
    "deletable": true,
    "editable": true
   },
   "outputs": [],
   "source": [
    "#Stokes BCs\n",
    "\n",
    "iWalls = mesh.specialSets[\"MinI_VertexSet\"] + mesh.specialSets[\"MaxI_VertexSet\"]\n",
    "jWalls = mesh.specialSets[\"MinJ_VertexSet\"] + mesh.specialSets[\"MaxJ_VertexSet\"]\n",
    "tWalls = mesh.specialSets[\"MaxJ_VertexSet\"]\n",
    "bWalls =mesh.specialSets[\"MinJ_VertexSet\"]\n",
    "      \n",
    "        \n",
    "freeslipBC = uw.conditions.DirichletCondition( variable      = velocityField, \n",
    "                                               indexSetsPerDof = ( iWalls, jWalls) )"
   ]
  },
  {
   "cell_type": "code",
   "execution_count": 61,
   "metadata": {
    "collapsed": true,
    "deletable": true,
    "editable": true
   },
   "outputs": [],
   "source": [
    "#Energy BCs\n",
    "\n",
    "if md.thermal:\n",
    "    dirichTempBC = uw.conditions.DirichletCondition(     variable=temperatureField, \n",
    "                                              indexSetsPerDof=(tWalls,) )"
   ]
  },
  {
   "cell_type": "code",
   "execution_count": null,
   "metadata": {
    "collapsed": false,
    "deletable": true,
    "editable": true
   },
   "outputs": [],
   "source": []
  },
  {
   "cell_type": "markdown",
   "metadata": {
    "deletable": true,
    "editable": true
   },
   "source": [
    "## Swarm"
   ]
  },
  {
   "cell_type": "code",
   "execution_count": 62,
   "metadata": {
    "collapsed": true,
    "deletable": true,
    "editable": true
   },
   "outputs": [],
   "source": [
    "#Materials\n",
    "mantleID = 0\n",
    "crustID = 1\n",
    "airID = 2      #in case we use sticky air\n",
    "\n",
    "#list of all material indexes\n",
    "material_list = [mantleID, crustID, airID]"
   ]
  },
  {
   "cell_type": "code",
   "execution_count": 63,
   "metadata": {
    "collapsed": false,
    "deletable": true,
    "editable": true
   },
   "outputs": [],
   "source": [
    "#*************CHECKPOINT-BLOCK**************#\n",
    "\n",
    "swarm = uw.swarm.Swarm(mesh=mesh, particleEscape=True)\n",
    "cp.addObject(swarm,'swarm')\n",
    "materialVariable      = swarm.add_variable( dataType=\"int\", count=1 )\n",
    "cp.addObject(materialVariable,'materialVariable')\n",
    "proxyTempVariable = swarm.add_variable( dataType=\"double\", count=1 )\n",
    "if not md.thermal:\n",
    "    cp.addObject(proxyTempVariable,'proxyTempVariable')\n",
    "\n",
    "\n",
    "if cp.restart:\n",
    "    swarm.load(cp.loadpath + '/swarm.h5')\n",
    "    materialVariable.load(cp.loadpath + '/materialVariable.h5')\n",
    "    if not md.thermal:\n",
    "        proxyTempVariable.load(cp.loadpath + '/proxyTempVariable.h5')   \n",
    "\n",
    "\n",
    "else:\n",
    "    layout = uw.swarm.layouts.PerCellRandomLayout(swarm=swarm, particlesPerCell=int(md.ppc*md.swarmInitialFac))\n",
    "    swarm.populate_using_layout( layout=layout ) # Now use it to populate.\n",
    "    proxyTempVariable.data[:] = 0.0\n",
    "    materialVariable.data[:] = mantleID\n",
    "\n",
    "#*************CHECKPOINT-BLOCK**************#\n"
   ]
  },
  {
   "cell_type": "code",
   "execution_count": 64,
   "metadata": {
    "collapsed": true,
    "deletable": true,
    "editable": true
   },
   "outputs": [],
   "source": [
    "#These variables don;t need checkpointing. They can / should be rebuilt\n",
    "\n",
    "signedDistanceVariable = swarm.add_variable( dataType=\"double\", count=1 )\n",
    "#directorVector   = swarm.add_variable( dataType=\"double\", count=2)\n",
    "\n",
    "#directorVector.data[:,:] = 0.0\n",
    "signedDistanceVariable.data[:] = 0.0\n"
   ]
  },
  {
   "cell_type": "code",
   "execution_count": 65,
   "metadata": {
    "collapsed": false,
    "deletable": true,
    "editable": true
   },
   "outputs": [],
   "source": [
    "\n",
    "#Pass this to Figures to see full extent\n",
    "bBox=((mesh.minCoord[0], mesh.minCoord[1]),(mesh.maxCoord[0], mesh.maxCoord[1]))"
   ]
  },
  {
   "cell_type": "markdown",
   "metadata": {
    "deletable": true,
    "editable": true
   },
   "source": [
    "## Initial Conditions"
   ]
  },
  {
   "cell_type": "code",
   "execution_count": 66,
   "metadata": {
    "collapsed": false,
    "deletable": true,
    "editable": true
   },
   "outputs": [],
   "source": [
    "#plate depth\n",
    "\n",
    "#Flags to control plate behaviour: md.opuniform, md.spuniform, md.opfixed, md.spfixed\n",
    "\n",
    "#T&S 4.126\n",
    "thicknessAtTrench = 2.32*math.sqrt(1.*ndp.slabMaxAge)\n",
    "\n",
    "sig = 150e3/sf.lengthScale\n",
    "ridgeFn = 1. -  \\\n",
    "                fn.math.exp(-1.*(xFn - ndp.leftRidge)**2/(2 * sig**2))- \\\n",
    "                fn.math.exp(-1.*(xFn - ndp.rightRidge)**2/(2 * sig**2))\n",
    "\n",
    "spAge = ndp.slabMaxAge*fn.math.abs((ndp.leftRidge - xFn)/(ndp.subZoneLoc - ndp.leftRidge))\n",
    "opAge = ndp.opMaxAge*fn.math.abs((ndp.rightRidge - xFn)/(ndp.subZoneLoc - ndp.rightRidge))\n",
    "\n",
    "if md.spuniform:\n",
    "    if not md.spfixed:\n",
    "        spAge = ridgeFn*ndp.slabMaxAge\n",
    "    else:\n",
    "        spAge = fn.misc.constant(ndp.slabMaxAge)\n",
    "        \n",
    "if md.opuniform:\n",
    "    if not md.opfixed:\n",
    "        opAge = ridgeFn*ndp.opMaxAge\n",
    "    else:\n",
    "        opAge = fn.misc.constant(ndp.opMaxAge)\n",
    "\n",
    "proxyageFn = fn.branching.conditional([(xFn <= ndp.subZoneLoc, spAge), #idea is to make this arbitrarily complex\n",
    "                                  (True, opAge)])\n",
    "\n"
   ]
  },
  {
   "cell_type": "markdown",
   "metadata": {
    "deletable": true,
    "editable": true
   },
   "source": [
    "## Marker lines  for slab, fault, tracking"
   ]
  },
  {
   "cell_type": "markdown",
   "metadata": {
    "deletable": true,
    "editable": true
   },
   "source": [
    "### slab top"
   ]
  },
  {
   "cell_type": "code",
   "execution_count": 67,
   "metadata": {
    "collapsed": false,
    "deletable": true,
    "editable": true
   },
   "outputs": [
    {
     "name": "stdout",
     "output_type": "stream",
     "text": [
      "Help on function slab_top in module unsupported_dan.utilities.subduction:\n",
      "\n",
      "slab_top(trench, normal, gradientFn, ds, maxDepth, mesh)\n",
      "    Create points representing the top of a slab from trench to maxDepth\n",
      "    \n",
      "    Parameter\n",
      "    ---------\n",
      "    trench : list or list like \n",
      "            Points represnting trench location, \n",
      "    normal: list or list like\n",
      "            vector in the horizontal plane normal to trench\n",
      "    gradientFn: function\n",
      "             function that returns the dip or the slab dz/ds \n",
      "             where s is the distance along the normal vector\n",
      "    ds: float\n",
      "            distance between points, in model coordinates\n",
      "    \n",
      "    max depth: float, or list or list like\n",
      "            Maximum depth of slab\n",
      "    mesh: uw 2 mesh\n",
      "\n"
     ]
    }
   ],
   "source": [
    "help(slab_top)"
   ]
  },
  {
   "cell_type": "code",
   "execution_count": 68,
   "metadata": {
    "collapsed": true,
    "deletable": true,
    "editable": true
   },
   "outputs": [],
   "source": [
    "#Create some slab gradient functions to use with slab_top()\n",
    "\n",
    "\n",
    "def linearGradientFn(S):\n",
    "    return np.tan(np.deg2rad(-45.))\n",
    "\n",
    "\n",
    "def circGradientFn(S):\n",
    "    if S == 0.:\n",
    "        return 0.\n",
    "    elif S < ndp.radiusOfCurv:\n",
    "        return -S/np.sqrt((ndp.radiusOfCurv**2 - S**2))\n",
    "    else:\n",
    "        return -1e5\n",
    "    \n",
    "    \n",
    "def polyGradientFn(S):\n",
    "    if S == 0.:\n",
    "        return 0.\n",
    "    else:\n",
    "        return -1*(S/ndp.radiusOfCurv)**2\n"
   ]
  },
  {
   "cell_type": "code",
   "execution_count": 69,
   "metadata": {
    "collapsed": false,
    "deletable": true,
    "editable": true
   },
   "outputs": [],
   "source": [
    "ds = 5e3/sf.lengthScale\n",
    "normal = [1.,0.]\n",
    "\n",
    "\n",
    "\n",
    "#data = slab_top([ndp.subZoneLoc, 1.0], normal, linearGradientFn, ds, ndp.maxDepth, mesh)\n",
    "data = slab_top([ndp.subZoneLoc, 1.0], normal, polyGradientFn, ds, ndp.maxDepth, mesh)\n",
    "#data = slab_top([ndp.subZoneLoc, 1.0], normal, circGradientFn, ds, ndp.maxDepth, mesh)"
   ]
  },
  {
   "cell_type": "code",
   "execution_count": 70,
   "metadata": {
    "collapsed": false,
    "deletable": true,
    "editable": true
   },
   "outputs": [],
   "source": [
    "slabxs = data[:,0]\n",
    "slabys = data[:,1]"
   ]
  },
  {
   "cell_type": "code",
   "execution_count": 71,
   "metadata": {
    "collapsed": true,
    "deletable": true,
    "editable": true
   },
   "outputs": [],
   "source": [
    "slabLine = markerLine2D(mesh, velocityField, slabxs, slabys, thicknessAtTrench, 1.)\n"
   ]
  },
  {
   "cell_type": "code",
   "execution_count": 72,
   "metadata": {
    "collapsed": false,
    "deletable": true,
    "editable": true
   },
   "outputs": [
    {
     "name": "stdout",
     "output_type": "stream",
     "text": [
      "1\n"
     ]
    }
   ],
   "source": [
    "#Assign the signed distance for the slab - in this case we only want the portion where the signed distance is positive\n",
    "sd, pts = slabLine.compute_signed_distance(swarm.particleCoordinates.data, distance=2.*thicknessAtTrench)\n",
    "signedDistanceVariable.data[np.logical_and(sd>0, sd<=slabLine.thickness)] = sd[np.logical_and(sd>0, sd<=slabLine.thickness)]\n",
    "\n",
    "\n",
    "#Note distance=2.*thicknessAtTrench: we actually want to allow distance greater than thicknessAtTrench in the kDTree query, \n",
    "#as some of these distances will not be orthogonal to the marker line, the dot product in the function will project these distances onto the normal vector\n",
    "#We'll cull distances greater than thicknessAtTrench with a numpy boolean slice - this helps things work parallel\n"
   ]
  },
  {
   "cell_type": "code",
   "execution_count": 73,
   "metadata": {
    "collapsed": false,
    "deletable": true,
    "editable": true
   },
   "outputs": [],
   "source": [
    "slabXConds = operator.and_(xFn > slabxs.min(), xFn < slabxs.max())\n",
    "slabYConds = depthFn < 1. - slabys.min()\n",
    "\n",
    "#Two functions we'll use to limit the region of the initial thermal stancil\n",
    "slabRegion =  fn.branching.conditional([(operator.and_(slabXConds,slabYConds), True),\n",
    "                          (True, False)])\n",
    "\n",
    "#slabCirc = inCircleFnGenerator((ndp.subZoneLoc, 1.0 - ndp.maxDepth), ndp.maxDepth)"
   ]
  },
  {
   "cell_type": "code",
   "execution_count": 74,
   "metadata": {
    "collapsed": false,
    "deletable": true,
    "editable": true
   },
   "outputs": [],
   "source": [
    "bufferlength = 1e3/sf.lengthScale\n",
    "\n",
    "plateDepthFn = fn.branching.conditional([(depthFn < thicknessAtTrench, depthFn),\n",
    "                                        (True, 1.)])\n",
    "\n",
    "plateTempProxFn = ndp.potentialTemp*fn.math.erf((plateDepthFn)/(2.*fn.math.sqrt(1.*proxyageFn)))\n",
    "\n",
    "slabTempProx  = ndp.potentialTemp*fn.math.erf((signedDistanceVariable)/(2.*np.sqrt(1.*ndp.slabMaxAge)))\n",
    "\n",
    "\n",
    "proxytempConds = fn.branching.conditional([(signedDistanceVariable < bufferlength, plateTempProxFn),\n",
    "                          #(operator.and_(slabRegion, slabCirc), fn.misc.min(slabTempProx , plateTempProxFn)),\n",
    "                          (slabRegion,  fn.misc.min(slabTempProx , plateTempProxFn)),                 \n",
    "\n",
    "                          (True, plateTempProxFn)]) \n",
    "\n",
    "\n",
    "#*************CHECKPOINT-BLOCK**************#\n",
    "\n",
    "if not cp.restart:\n",
    "    proxyTempVariable.data[:] = proxytempConds.evaluate(swarm)\n",
    "\n",
    "#*************CHECKPOINT-BLOCK**************#\n"
   ]
  },
  {
   "cell_type": "markdown",
   "metadata": {
    "deletable": true,
    "editable": true
   },
   "source": [
    "### marker\n",
    "\n",
    "In this notebook, the markerLine helps us set up the weak interface material, as well as tracking various flow metrics\n",
    "\n",
    "It could also be used it to define a proximity of Transversely Isotropic frictional behaviour"
   ]
  },
  {
   "cell_type": "code",
   "execution_count": 75,
   "metadata": {
    "collapsed": false,
    "deletable": true,
    "editable": true
   },
   "outputs": [],
   "source": [
    "morexs = np.arange(mesh.minCoord[0] + 100e3/sf.lengthScale, ndp.subZoneLoc, ds)[:-1]\n",
    "moreys = mesh.maxCoord[1]*np.ones(morexs.shape)\n"
   ]
  },
  {
   "cell_type": "code",
   "execution_count": 76,
   "metadata": {
    "collapsed": false,
    "deletable": true,
    "editable": true
   },
   "outputs": [],
   "source": [
    "#Build marker: copy the slab line, then move using the normal vector (director)\n",
    "\n",
    "markerxs = np.concatenate((morexs,slabxs[:-2]))\n",
    "markerys = np.concatenate((moreys,slabys[:-2]))\n",
    "marker = markerLine2D(mesh, velocityField,markerxs, markerys, ndp.faultThickness,  1)\n",
    "\n",
    "with marker.swarm.deform_swarm():\n",
    "    marker.swarm.particleCoordinates.data[:] += marker.director.data*ndp.faultThickness\n",
    "    \n",
    "\n",
    "marker.rebuild()\n",
    "marker.swarm.update_particle_owners()"
   ]
  },
  {
   "cell_type": "code",
   "execution_count": 77,
   "metadata": {
    "collapsed": false,
    "deletable": true,
    "editable": true
   },
   "outputs": [
    {
     "name": "stdout",
     "output_type": "stream",
     "text": [
      "1\n"
     ]
    }
   ],
   "source": [
    "#inform the mesh of the marker\n",
    "\n",
    "sd, pts0 = marker.compute_signed_distance(swarm.particleCoordinates.data, distance=thicknessAtTrench)\n",
    "sp, pts0 = marker.compute_marker_proximity(swarm.particleCoordinates.data, distance=ndp.faultThickness)\n",
    "\n",
    "#*************CHECKPOINT-BLOCK**************#\n",
    "if not cp.restart:\n",
    "    materialVariable.data[np.logical_and(sd<0,sp == marker.ID)] = sp[np.logical_and(sd<0,sp == marker.ID)]\n",
    "#*************CHECKPOINT-BLOCK**************#\n",
    "\n"
   ]
  },
  {
   "cell_type": "markdown",
   "metadata": {
    "deletable": true,
    "editable": true
   },
   "source": [
    "## Interpolate to temperature field"
   ]
  },
  {
   "cell_type": "code",
   "execution_count": 78,
   "metadata": {
    "collapsed": false,
    "deletable": true,
    "editable": true
   },
   "outputs": [],
   "source": [
    "def swarmToTemp():\n",
    "\n",
    "    _ix, _weights, _dist = nn_evaluation(swarm.particleCoordinates.data, mesh.data, n=4, weighted=True)\n",
    "\n",
    "\n",
    "    #_dist.shape, mesh.data.shape\n",
    "    #if \n",
    "    tempMapTol = 0.2\n",
    "    tempMapMask = _dist.min(axis=1) < tempMapTol*(1. - mesh.minCoord[1])/mesh.elementRes[1] \n",
    "    \n",
    "    #temperatureField.data[:] = 0.\n",
    "    temperatureField.data[:] = ndp.potentialTemp #first set to dimensionless potential temp\n",
    "\n",
    "    #now used IDW to assign temp from particles to Field\n",
    "    #this is looking pretty ugly; nn_evaluation could use some grooming\n",
    "    temperatureField.data[:,0][tempMapMask] = np.average(proxyTempVariable.evaluate(swarm)[_ix][tempMapMask][:,:,0],weights=_weights[tempMapMask], axis=1)\n",
    "\n",
    "    #now cleanup any values that have fallen outside the Bcs\n",
    "\n",
    "    temperatureField.data[temperatureField.data > 1.] = ndp.potentialTemp\n",
    "    temperatureField.data[temperatureField.data < 0.] = 0.\n",
    "    \n",
    "    #and cleanup the BCs\n",
    "    \n",
    "    temperatureField.data[bWalls.data] = ndp.potentialTemp\n",
    "    temperatureField.data[tWalls.data] = 0.\n"
   ]
  },
  {
   "cell_type": "code",
   "execution_count": 79,
   "metadata": {
    "collapsed": true,
    "deletable": true,
    "editable": true
   },
   "outputs": [],
   "source": [
    "#map proxy temp (swarm var) to mesh variable\n",
    "\n",
    "if not cp.restart:\n",
    "    swarmToTemp()"
   ]
  },
  {
   "cell_type": "markdown",
   "metadata": {
    "deletable": true,
    "editable": true
   },
   "source": [
    "## choose temp field to use"
   ]
  },
  {
   "cell_type": "code",
   "execution_count": 80,
   "metadata": {
    "collapsed": true,
    "deletable": true,
    "editable": true
   },
   "outputs": [],
   "source": [
    "if md.thermal:\n",
    "    temperatureFn = temperatureField\n",
    "else:\n",
    "    temperatureFn = proxyTempVariable"
   ]
  },
  {
   "cell_type": "markdown",
   "metadata": {
    "deletable": true,
    "editable": true
   },
   "source": [
    "## adiabatic temp correction"
   ]
  },
  {
   "cell_type": "code",
   "execution_count": 81,
   "metadata": {
    "collapsed": false,
    "deletable": true,
    "editable": true
   },
   "outputs": [],
   "source": [
    "#Adiabatic correction: this is added to the arrhenius laws to simulate the adiabatic component\n",
    "\n",
    "adiabaticCorrectFn =  ndp.potentialTemp*fn.math.exp(ndp.dissipation*depthFn) - ndp.potentialTemp\n",
    "\n"
   ]
  },
  {
   "cell_type": "code",
   "execution_count": 82,
   "metadata": {
    "collapsed": false,
    "deletable": true,
    "editable": true
   },
   "outputs": [],
   "source": [
    "#figTemp= glucifer.Figure(quality=3, boundingBox= bBox)\n",
    "#figTemp.append( glucifer.objects.Points(swarm, temperatureFn + adiabaticCorrectFn, pointSize=1))\n",
    "#figTempappend( glucifer.objects.Points(swarm, materialVariable, pointSize=1))\n",
    "#figTemp.show()"
   ]
  },
  {
   "cell_type": "markdown",
   "metadata": {
    "deletable": true,
    "editable": true
   },
   "source": [
    "## Rheology"
   ]
  },
  {
   "cell_type": "code",
   "execution_count": 83,
   "metadata": {
    "collapsed": false,
    "deletable": true,
    "editable": true
   },
   "outputs": [],
   "source": [
    "\n",
    "symStrainrate = fn.tensor.symmetric( \n",
    "                            velocityField.fn_gradient )\n",
    "\n",
    "#Set up any functions required by the rheology\n",
    "strainRate_2ndInvariant = fn.tensor.second_invariant( \n",
    "                            fn.tensor.symmetric( \n",
    "                            velocityField.fn_gradient ))\n",
    "\n",
    "\n",
    "\n",
    "def safe_visc(func, viscmin=ndp.viscosityMin, viscmax=ndp.viscosityMax):\n",
    "    return fn.misc.max(viscmin, fn.misc.min(viscmax, func))\n",
    "\n",
    "\n",
    "\n",
    "#Add some portion of dynamic pressure to the depth-dependent Yield function\n",
    "dynamicPressureProxyDepthFn = pressureField/sf.pressureDepthGrad\n",
    "\n",
    "druckerDepthFn = fn.misc.max(0.0, depthFn + md.druckerAlpha*(dynamicPressureProxyDepthFn))\n",
    "druckerFaultDepthFn = fn.misc.max(0.0, depthFn + md.druckerAlphaFault*(dynamicPressureProxyDepthFn))"
   ]
  },
  {
   "cell_type": "code",
   "execution_count": 84,
   "metadata": {
    "collapsed": false,
    "deletable": true,
    "editable": true
   },
   "outputs": [],
   "source": [
    "##Diffusion Creep\n",
    "diffusionUM = (1./ndp.diffusionPreExp)*\\\n",
    "            fn.math.exp( ((ndp.diffusionEnergy + (depthFn*ndp.diffusionVolume))/((temperatureFn+ adiabaticCorrectFn + ndp.surfaceTemp))))\n",
    "\n",
    "diffusionLM = ndp.lowerMantleViscFac*(1./ndp.lowerMantlePreExp)*\\\n",
    "            fn.math.exp( ((ndp.lowerMantleEnergy + (depthFn*ndp.lowerMantleVolume))/((temperatureFn+ adiabaticCorrectFn + ndp.surfaceTemp))))\n",
    "\n",
    "\n",
    "    \n",
    "    \n",
    "diffusion = fn.branching.conditional( ((depthFn < ndp.lowerMantleDepth, diffusionUM ), \n",
    "                                           (True,                      diffusionLM )  ))\n",
    "\n",
    "\n",
    "\n",
    "    \n",
    "diffusion = safe_visc(diffusion, viscmax=1e5)\n",
    "\n",
    "\n",
    "    \n",
    "#mantle Plasticity\n",
    "ys =  ndp.cohesionMantle + (druckerDepthFn*ndp.frictionMantle)\n",
    "ysf = fn.misc.min(ys, ndp.yieldStressMax)\n",
    "yielding = ysf/(2.*(strainRate_2ndInvariant) + 1e-15) \n",
    "\n",
    "##Crust plasticity\n",
    "crustys =  ndp.cohesionCrust + (druckerFaultDepthFn*ndp.frictionCrust)\n",
    "crustysf = fn.misc.min(crustys, ndp.yieldStressMax)\n",
    "crustyielding0 = crustysf/(2.*(strainRate_2ndInvariant) + 1e-15) \n",
    "\n",
    "\n",
    "#This bit phases out the weak crust (effective plastic viscosity and visc. max) over specified depths\n",
    "depthTaperFn = cosine_taper(depthFn, ndp.crustViscCutoffDepth, ndp.crustViscEndWidth)\n",
    "\n",
    "crustyielding = crustyielding0*(1. - depthTaperFn) + depthTaperFn*yielding\n",
    "viscmaxCrustFn = ndp.viscosityMaxCrust*(1. - depthTaperFn) + depthTaperFn*ndp.viscosityMax\n",
    "\n",
    "\n",
    "#combined rheologies\n",
    "\n",
    "mantleViscosityFn = safe_visc(fn.misc.min(diffusion, yielding), viscmin=ndp.viscosityMin, viscmax=ndp.viscosityMax)\n",
    "#interfaceViscosityFn = safe_visc(fn.misc.min(diffusion, crustyielding), viscmin=ndp.viscosityMinCrust, viscmax=viscmaxCrustFn)\n",
    "\n",
    "#for the moment both the byerlee effective viscosity, and the ad-hoc deep interface visc. are contained in crustyielding\n",
    "interfaceViscosityFn = safe_visc(crustyielding, viscmin=ndp.viscosityMinCrust, viscmax=viscmaxCrustFn)"
   ]
  },
  {
   "cell_type": "code",
   "execution_count": 85,
   "metadata": {
    "collapsed": false,
    "deletable": true,
    "editable": true
   },
   "outputs": [],
   "source": [
    "viscosityMapFn = fn.branching.map( fn_key = materialVariable,\n",
    "                         mapping = {0:mantleViscosityFn,\n",
    "                                    1:interfaceViscosityFn} )\n",
    "\n",
    "\n"
   ]
  },
  {
   "cell_type": "markdown",
   "metadata": {
    "deletable": true,
    "editable": true
   },
   "source": [
    "## Buoyancy"
   ]
  },
  {
   "cell_type": "code",
   "execution_count": 86,
   "metadata": {
    "collapsed": false,
    "deletable": true,
    "editable": true
   },
   "outputs": [],
   "source": [
    "#Thermal Buoyancy\n",
    "\n",
    "z_hat = ( 0.0, -1.0 )\n",
    "\n",
    "\n",
    "if md.thermal:\n",
    "    thermalBuoyancyFn = ndp.rayleigh*(1. - temperatureField)\n",
    "else:\n",
    "    thermalBuoyancyFn = ndp.rayleigh*(1. - proxyTempVariable)\n",
    "    \n",
    "    \n",
    "thermalBuoyancyFn *=z_hat"
   ]
  },
  {
   "cell_type": "markdown",
   "metadata": {
    "deletable": true,
    "editable": true
   },
   "source": [
    "## Any other functions we'll need"
   ]
  },
  {
   "cell_type": "code",
   "execution_count": 87,
   "metadata": {
    "collapsed": false,
    "deletable": true,
    "editable": true
   },
   "outputs": [],
   "source": [
    "###################\n",
    "#Create integral, max/min templates \n",
    "###################\n",
    "\n",
    "globRestFn = 1.\n",
    "\n",
    "def surfint(Fn = 1., rFn=globRestFn, surfaceIndexSet=mesh.specialSets[\"MaxJ_VertexSet\"]):\n",
    "    return uw.utils.Integral( Fn*rFn, mesh=mesh, integrationType='Surface', surfaceIndexSet=surfaceIndexSet)\n",
    "\n"
   ]
  },
  {
   "cell_type": "markdown",
   "metadata": {
    "deletable": true,
    "editable": true
   },
   "source": [
    "## Stokes system and solver"
   ]
  },
  {
   "cell_type": "code",
   "execution_count": 88,
   "metadata": {
    "collapsed": false,
    "deletable": true,
    "editable": true
   },
   "outputs": [
    {
     "name": "stdout",
     "output_type": "stream",
     "text": [
      "got to Stokes\n"
     ]
    }
   ],
   "source": [
    "print('got to Stokes')"
   ]
  },
  {
   "cell_type": "code",
   "execution_count": 89,
   "metadata": {
    "collapsed": false,
    "deletable": true,
    "editable": true
   },
   "outputs": [],
   "source": [
    "stokesPIC = uw.systems.Stokes( velocityField  = velocityField, \n",
    "                                   pressureField  = pressureField,\n",
    "                                   conditions     = [freeslipBC,],\n",
    "                                   fn_viscosity   = viscosityMapFn, \n",
    "                                   fn_bodyforce   = thermalBuoyancyFn )\n",
    "\n"
   ]
  },
  {
   "cell_type": "code",
   "execution_count": 90,
   "metadata": {
    "collapsed": false,
    "deletable": true,
    "editable": true
   },
   "outputs": [
    {
     "name": "stdout",
     "output_type": "stream",
     "text": [
      "\u001b[1;35m\n",
      " \n",
      "Pressure iterations:   3\n",
      "Velocity iterations:   1 (presolve)      \n",
      "Velocity iterations:  -1 (pressure solve)\n",
      "Velocity iterations:   1 (backsolve)     \n",
      "Velocity iterations:   1 (total solve)   \n",
      " \n",
      "SCR RHS  solve time: 2.2453e-01\n",
      "Pressure solve time: 2.3146e-02\n",
      "Velocity solve time: 2.3879e-01 (backsolve)\n",
      "Total solve time   : 5.4419e-01\n",
      " \n",
      "Velocity solution min/max: 0.0000e+00/0.0000e+00\n",
      "Pressure solution min/max: 0.0000e+00/0.0000e+00\n",
      " \n",
      "\u001b[00m\n"
     ]
    }
   ],
   "source": [
    "solver = uw.systems.Solver(stokesPIC)\n",
    "\n",
    "\n",
    "if md.penaltyMethod:\n",
    "    solver.set_inner_method(\"mumps\")\n",
    "    solver.options.scr.ksp_type=\"cg\"\n",
    "    solver.set_penalty(1.0e7)\n",
    "    solver.options.scr.ksp_rtol = 1.0e-4\n",
    "\n",
    "else:\n",
    "    solver.options.main.Q22_pc_type='gkgdiag'\n",
    "    solver.options.scr.ksp_rtol=5e-5\n",
    "    solver.set_inner_method('mg')\n",
    "    solver.options.mg.levels = 4\n",
    "    \n",
    "    \n",
    "    \n",
    "#avoid this solve if restarting\n",
    "if not cp.restart:\n",
    "    solver.solve(nonLinearIterate=True, nonLinearTolerance=md.nltol)\n",
    "    solver.print_stats()"
   ]
  },
  {
   "cell_type": "code",
   "execution_count": 91,
   "metadata": {
    "collapsed": false,
    "deletable": true,
    "editable": true
   },
   "outputs": [],
   "source": [
    "#remove drift in pressure\n",
    "_pressure = surfint(pressureField)\n",
    "_surfLength = surfint()\n",
    "surfLength = _surfLength.evaluate()[0]\n",
    "\n",
    "pressureSurf = _pressure.evaluate()[0]   \n",
    "pressureField.data[:] -= pressureSurf/surfLength"
   ]
  },
  {
   "cell_type": "code",
   "execution_count": 95,
   "metadata": {
    "collapsed": false
   },
   "outputs": [],
   "source": [
    "#figVel= glucifer.Figure(quality=3, boundingBox= bBox)\n",
    "#figVel.append( glucifer.objects.Points(swarm, fn.math.dot(velocityField,velocityField), pointSize=1))\n",
    "#figVel.append( glucifer.objects.VectorArrows(mesh, velocityField, arrowHead=5, scaling=0.0005))\n",
    "#figVel.show()"
   ]
  },
  {
   "cell_type": "markdown",
   "metadata": {
    "deletable": true,
    "editable": true
   },
   "source": [
    "## Setup advection-diffusion, swarm advection"
   ]
  },
  {
   "cell_type": "code",
   "execution_count": 96,
   "metadata": {
    "collapsed": true,
    "deletable": true,
    "editable": true
   },
   "outputs": [],
   "source": [
    "advector = uw.systems.SwarmAdvector( swarm=swarm, velocityField=velocityField, order=2 )\n",
    "\n",
    "\n",
    "\n",
    "\n",
    "if md.thermal:\n",
    "    advDiff = uw.systems.AdvectionDiffusion( phiField       = temperatureField, \n",
    "                                         phiDotField    = temperatureDotField, \n",
    "                                         velocityField  = velocityField,\n",
    "                                         fn_sourceTerm    = 0.0,\n",
    "                                         fn_diffusivity = 1., \n",
    "                                         #conditions     = [neumannTempBC, dirichTempBC] )\n",
    "                                         conditions     = [ dirichTempBC] )\n"
   ]
  },
  {
   "cell_type": "markdown",
   "metadata": {
    "deletable": true,
    "editable": true
   },
   "source": [
    "## Viz"
   ]
  },
  {
   "cell_type": "code",
   "execution_count": 97,
   "metadata": {
    "collapsed": false,
    "deletable": true,
    "editable": true
   },
   "outputs": [],
   "source": [
    "#Build a depth dependent mask for the vizualisation\n",
    "#This helps reduce the size of glucifer databases\n",
    "\n",
    "depthVariable      = swarm.add_variable( dataType=\"float\", count=1 )\n",
    "depthVariable.data[:] = depthFn.evaluate(swarm)\n",
    "\n",
    "vizVariable      = swarm.add_variable( dataType=\"int\", count=1 )\n",
    "vizVariable.data[:] = 0\n",
    "\n",
    "for index, value in enumerate(depthVariable.data[:]):\n",
    "    #print index, value\n",
    "    if np.random.rand(1)**30 > value/(mesh.maxCoord[1] - mesh.minCoord[1]):\n",
    "        vizVariable.data[index] = 1\n",
    "\n",
    "        \n",
    "        \n",
    "del index, value    #get rid of any variables that might be pointing at the .data handles (these are!)\n",
    "\n",
    "#Now randomly cull more particles \n",
    "removeRandom = True\n",
    "if removeRandom:\n",
    "    reducFac = 0.6  #0.9 > remove 90%\n",
    "    nonzs = np.where(vizVariable.data[:,0] == 1)[0].copy()\n",
    "    nstart =  nonzs.shape[0]\n",
    "    nend = int(np.ceil(nstart*reducFac))\n",
    "    np.random.shuffle(nonzs)\n",
    "    nstart, nend\n",
    "\n",
    "    vizVariable.data[nonzs[:nend]] = 0\n",
    "    del nonzs, nstart, nend"
   ]
  },
  {
   "cell_type": "code",
   "execution_count": 98,
   "metadata": {
    "collapsed": false,
    "deletable": true,
    "editable": true
   },
   "outputs": [],
   "source": [
    "#Set up the gLucifer stores\n",
    "\n",
    "fullpath = os.path.join(outputPath + \"gldbs/\")\n",
    "store1 = glucifer.Store(fullpath + 'subduction1.gldb')\n",
    "store2 = glucifer.Store(fullpath + 'subduction2.gldb')\n",
    "\n",
    "\n",
    "\n",
    "fig1 = glucifer.Figure(store1,figsize=(300*np.round(md.aspectRatio,2),300))\n",
    "if md.thermal:\n",
    "    fig1.append( glucifer.objects.Points(swarm, temperatureField, pointSize=2,  valueRange=[0.0, 1.0], fn_mask=vizVariable))\n",
    "else:\n",
    "    fig1.append( glucifer.objects.Points(swarm, proxyTempVariable, pointSize=2, valueRange=[0.0, 1.0],  fn_mask=vizVariable))\n",
    "\n",
    " \n",
    "\n",
    "\n",
    "fig2 = glucifer.Figure(store2,figsize=(300*np.round(md.aspectRatio,2),300))\n",
    "fig2.append( glucifer.objects.Points(swarm, viscosityMapFn, pointSize=2, fn_mask=vizVariable, logScale=True, valueRange=[100.*ndp.viscosityMin, ndp.viscosityMax]))\n",
    "fig2.append( glucifer.objects.VectorArrows(mesh, velocityField, arrowHead=1, scaling=0.00005))\n",
    "\n",
    "\n"
   ]
  },
  {
   "cell_type": "markdown",
   "metadata": {
    "deletable": true,
    "editable": true
   },
   "source": [
    "## Update functions for main loop"
   ]
  },
  {
   "cell_type": "code",
   "execution_count": 99,
   "metadata": {
    "collapsed": true,
    "deletable": true,
    "editable": true
   },
   "outputs": [],
   "source": [
    "def main_update():\n",
    "    \n",
    "    \n",
    "    if md.thermal:\n",
    "        dt = advDiff.get_max_dt()*md.courantFac #additional md.courantFac helps stabilise advDiff\n",
    "        advDiff.integrate(dt)\n",
    "        \n",
    "    else:\n",
    "        dt = advector.get_max_dt()\n",
    "        \n",
    "    advector.integrate(dt)\n",
    "    marker.advection(dt)\n",
    "    \n",
    "    #remove drift in pressure\n",
    "    pressureSurf = _pressure.evaluate()[0]   \n",
    "    pressureField.data[:] -= pressureSurf/surfLength\n",
    "    \n",
    "    \n",
    "    return time+dt, step+1\n",
    "    "
   ]
  },
  {
   "cell_type": "code",
   "execution_count": 100,
   "metadata": {
    "collapsed": true,
    "deletable": true,
    "editable": true
   },
   "outputs": [],
   "source": [
    "def viz_update():\n",
    "    \n",
    "    #Rebuild the viz. mask\n",
    "    vizVariable.data[:] = 0\n",
    "\n",
    "    for index, value in enumerate(depthVariable.data[:]):\n",
    "        #print index, value\n",
    "        if np.random.rand(1)**5 > value/(mesh.maxCoord[1] - mesh.minCoord[1]):\n",
    "            vizVariable.data[index] = 1\n",
    "\n",
    "    del index, value    #get rid of any variables that might be pointing at the .data handles\n",
    "    \n",
    "    if removeRandom:\n",
    "        reducFac = 0.6  #0.9 > remove 90%\n",
    "        nonzs = np.where(vizVariable.data[:,0] == 1)[0].copy()\n",
    "        nstart =  nonzs.shape[0]\n",
    "        nend = int(np.ceil(nstart*reducFac))\n",
    "        np.random.shuffle(nonzs)\n",
    "        nstart, nend\n",
    "\n",
    "        vizVariable.data[nonzs[:nend]] = 0\n",
    "        del nonzs, nstart, nend   \n",
    "    \n",
    "    #save gldbs\n",
    "    fullpath = os.path.join(outputPath + \"gldbs/\")\n",
    "    \n",
    "    store1.step = step\n",
    "    fig1.save( fullpath + \"Temp\" + str(step).zfill(5))\n",
    "    \n",
    "    store2.step = step\n",
    "    fig2.save( fullpath + \"visc\" + str(step).zfill(5))\n",
    "\n",
    "    "
   ]
  },
  {
   "cell_type": "code",
   "execution_count": 101,
   "metadata": {
    "collapsed": true,
    "deletable": true,
    "editable": true
   },
   "outputs": [],
   "source": [
    "def swarm_update():\n",
    "    \n",
    "    #run swarm repopulation\n",
    "    repopulate()\n",
    "    \n",
    "    \n",
    "    "
   ]
  },
  {
   "cell_type": "code",
   "execution_count": 102,
   "metadata": {
    "collapsed": false,
    "deletable": true,
    "editable": true
   },
   "outputs": [],
   "source": [
    "def markerLine_update():\n",
    "    \n",
    "    #cull particles once they reach a given depth\n",
    "    \n",
    "    cutoffDepth = 250e3/sf.lengthScale\n",
    "    mask = marker.swarm.particleCoordinates.data[:,1] < (mesh.maxCoord[1] - cutoffDepth)\n",
    "\n",
    "    with marker.swarm.deform_swarm():\n",
    "        marker.swarm.particleCoordinates.data[mask] = (999999.,999999.)\n",
    "        \n"
   ]
  },
  {
   "cell_type": "code",
   "execution_count": 103,
   "metadata": {
    "collapsed": true,
    "deletable": true,
    "editable": true
   },
   "outputs": [],
   "source": [
    "def xdmfs_update():\n",
    "    \n",
    "    #define any NN interps we'll need\n",
    "    ix1, weights1, d1 = nn_evaluation(swarm.particleCoordinates.data, mesh.data, n=5, weighted=True)\n",
    "    \n",
    "    \n",
    "    #rebuild any mesh vars that are not self-updating\n",
    "    viscosityField.data[:,0] =  np.average(viscosityMapFn.evaluate(swarm)[:,0][ix1], weights=weights1, axis=len((weights1.shape)) - 1)\n",
    "    strainRateField.data[:] = strainRate_2ndInvariant.evaluate(mesh)\n",
    "     \n",
    "    \n",
    "    fullpath = os.path.join(outputPath + \"xdmf/\")\n",
    "    #if not os.path.exists(fullpath+\"mesh.h5\"):\n",
    "    #    _mH = mesh.save(fullpath+\"mesh.h5\")\n",
    "    \n",
    "    try:\n",
    "        _mH\n",
    "    except:\n",
    "        _mH = mesh.save(fullpath+\"mesh.h5\")\n",
    "    \n",
    "    \n",
    "    #Part 1\n",
    "    mh = _mH\n",
    "    vH = velocityField.save(fullpath + \"velocity_\" + str(step) +\".h5\")\n",
    "    tH = temperatureField.save(fullpath + \"temp_\" + str(step) + \".h5\")\n",
    "    srH = strainRateField.save(fullpath + \"strainrate_\" + str(step) +\".h5\")\n",
    "    viscH = viscosityField.save(fullpath + \"visc_\" + str(step) + \".h5\")\n",
    "    \n",
    "    #part2\n",
    "    \n",
    "    velocityField.xdmf(fullpath + \"velocity_\" + str(step), vH, 'velocity', mh, 'mesh', modeltime=time)\n",
    "    temperatureField.xdmf(fullpath + \"temp_\" + str(step), tH, 'temperature', mh, 'mesh', modeltime=time)\n",
    "    strainRateField.xdmf(fullpath + \"strainrate_\" + str(step), srH, 'strainrate', mh, 'mesh', modeltime=time)\n",
    "    viscosityField.xdmf(fullpath + \"visc_\" + str(step), viscH, 'visc', mh, 'mesh', modeltime=time)"
   ]
  },
  {
   "cell_type": "markdown",
   "metadata": {
    "deletable": true,
    "editable": true
   },
   "source": [
    "## Main loop"
   ]
  },
  {
   "cell_type": "code",
   "execution_count": null,
   "metadata": {
    "collapsed": true,
    "deletable": true,
    "editable": true
   },
   "outputs": [],
   "source": []
  },
  {
   "cell_type": "code",
   "execution_count": 104,
   "metadata": {
    "collapsed": false,
    "deletable": true,
    "editable": true
   },
   "outputs": [],
   "source": [
    "time = cp.time()  # Initial time\n",
    "step = cp.step()   # Initial timestep\n",
    "steps_output = 5   # output every 10 timesteps\n",
    "metrics_output = 5\n",
    "files_output = 10\n",
    "\n",
    "files_freq  = md.filesMy*(3600.*365.*24.)/sf.time  #applies to files and gldbs\n",
    "files_this_step = False\n",
    "next_image_step = (np.floor(time/files_freq)+ 1.) *files_freq \n"
   ]
  },
  {
   "cell_type": "code",
   "execution_count": 105,
   "metadata": {
    "collapsed": true,
    "deletable": true,
    "editable": true
   },
   "outputs": [],
   "source": [
    "#checkpoint at time zero\n",
    "if not cp.restart:\n",
    "    cp.saveObjs(step, time)\n",
    "    cp.saveDicts(step, time)"
   ]
  },
  {
   "cell_type": "code",
   "execution_count": 107,
   "metadata": {
    "collapsed": false,
    "deletable": true,
    "editable": true
   },
   "outputs": [
    {
     "name": "stdout",
     "output_type": "stream",
     "text": [
      "step = 1\n",
      "step = 2\n",
      "step = 3\n",
      "step = 4\n",
      "step = 5\n",
      "step = 6\n",
      "step = 7\n",
      "step = 8\n",
      "step = 9\n"
     ]
    },
    {
     "ename": "NameError",
     "evalue": "global name 'repopulate' is not defined",
     "output_type": "error",
     "traceback": [
      "\u001b[1;31m\u001b[0m",
      "\u001b[1;31mNameError\u001b[0mTraceback (most recent call last)",
      "\u001b[1;32m<ipython-input-107-621fb30368e6>\u001b[0m in \u001b[0;36m<module>\u001b[1;34m()\u001b[0m\n\u001b[0;32m     17\u001b[0m     \u001b[1;31m#particles\u001b[0m\u001b[1;33m\u001b[0m\u001b[1;33m\u001b[0m\u001b[0m\n\u001b[0;32m     18\u001b[0m     \u001b[1;32mif\u001b[0m \u001b[0mstep\u001b[0m \u001b[1;33m%\u001b[0m \u001b[0mmd\u001b[0m\u001b[1;33m.\u001b[0m\u001b[0mswarmUpdate\u001b[0m \u001b[1;33m==\u001b[0m \u001b[1;36m0\u001b[0m\u001b[1;33m:\u001b[0m\u001b[1;33m\u001b[0m\u001b[0m\n\u001b[1;32m---> 19\u001b[1;33m         \u001b[0mswarm_update\u001b[0m\u001b[1;33m(\u001b[0m\u001b[1;33m)\u001b[0m\u001b[1;33m\u001b[0m\u001b[0m\n\u001b[0m\u001b[0;32m     20\u001b[0m \u001b[1;33m\u001b[0m\u001b[0m\n\u001b[0;32m     21\u001b[0m \u001b[1;33m\u001b[0m\u001b[0m\n",
      "\u001b[1;32m<ipython-input-101-d8eaea55099c>\u001b[0m in \u001b[0;36mswarm_update\u001b[1;34m()\u001b[0m\n\u001b[0;32m      2\u001b[0m \u001b[1;33m\u001b[0m\u001b[0m\n\u001b[0;32m      3\u001b[0m     \u001b[1;31m#run swarm repopulation\u001b[0m\u001b[1;33m\u001b[0m\u001b[1;33m\u001b[0m\u001b[0m\n\u001b[1;32m----> 4\u001b[1;33m     \u001b[0mrepopulate\u001b[0m\u001b[1;33m(\u001b[0m\u001b[1;33m)\u001b[0m\u001b[1;33m\u001b[0m\u001b[0m\n\u001b[0m\u001b[0;32m      5\u001b[0m \u001b[1;33m\u001b[0m\u001b[0m\n\u001b[0;32m      6\u001b[0m \u001b[1;33m\u001b[0m\u001b[0m\n",
      "\u001b[1;31mNameError\u001b[0m: global name 'repopulate' is not defined"
     ]
    }
   ],
   "source": [
    "while step < md.maxSteps:\n",
    "    \n",
    "    solver.solve(nonLinearIterate=True, nonLinearTolerance=md.nltol)\n",
    "    \n",
    "    # main\n",
    "    time,step = main_update()\n",
    "    \n",
    "    #markers / markerLines\n",
    "    if step % md.swarmUpdate == 0:\n",
    "        markerLine_update()    \n",
    "    \n",
    "    #checkpoint\n",
    "    if step % md.checkpointEvery == 0:\n",
    "        cp.saveObjs(step, time)\n",
    "        cp.saveDicts(step, time)\n",
    "        \n",
    "    #particles\n",
    "    if step % md.swarmUpdate == 0:\n",
    "        swarm_update()\n",
    "        \n",
    "        \n",
    "    #Viz\n",
    "    if files_this_step:\n",
    "        viz_update()    \n",
    "        \n",
    "    #xdmfs\n",
    "    if files_this_step:\n",
    "        xdmfs_update()\n",
    "    \n",
    "        \n",
    "    print 'step =',step\n",
    "    \n",
    "\n",
    "    \n",
    "\n",
    "print 'step =',step"
   ]
  },
  {
   "cell_type": "code",
   "execution_count": null,
   "metadata": {
    "collapsed": true,
    "deletable": true,
    "editable": true
   },
   "outputs": [],
   "source": [
    "#Done!"
   ]
  }
 ],
 "metadata": {
  "kernelspec": {
   "display_name": "Python 2",
   "language": "python",
   "name": "python2"
  },
  "language_info": {
   "codemirror_mode": {
    "name": "ipython",
    "version": 2
   },
   "file_extension": ".py",
   "mimetype": "text/x-python",
   "name": "python",
   "nbconvert_exporter": "python",
   "pygments_lexer": "ipython2",
   "version": "2.7.9"
  },
  "widgets": {
   "state": {},
   "version": "1.1.2"
  }
 },
 "nbformat": 4,
 "nbformat_minor": 1
}
