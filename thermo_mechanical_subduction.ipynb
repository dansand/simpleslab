{
 "cells": [
  {
   "cell_type": "markdown",
   "metadata": {
    "deletable": true,
    "editable": true
   },
   "source": [
    "## 2D thermo mechanical subduction models\n",
    "\n",
    "This notebook develops a flexible model for 2d thermo-mechanical subduction using Underworld2. All functionality is parallel-compatible. The code has been run on 48 processors, at a vertical resolution of 256 elements (Q1).\n",
    "\n",
    "Some of the features of this model:\n",
    "\n",
    "* use swarms and distance 'halos' to impose geometry / thermal structure -\n",
    "* easy switch between thermal and compositional models\n",
    "* paramter non-dimensionlisation\n",
    "* checkpointing\n",
    "* command line arguments can be supplied to control paramters and modelling choices\n",
    "\n",
    "\n",
    "\n",
    "<hr>\n",
    "<a rel=\"license\" href=\"http://creativecommons.org/licenses/by-nc-sa/4.0/\"><img alt=\"Creative Commons License\" style=\"border-width:0\" src=\"https://i.creativecommons.org/l/by-nc-sa/4.0/88x31.png\" /></a><br />This work is copyright Dan Sandiford and Louis Moresi. It is licensed under a <a rel=\"license\" href=\"http://creativecommons.org/licenses/by-nc-sa/4.0/\">Creative Commons Attribution-NonCommercial-ShareAlike 4.0 International License</a>."
   ]
  },
  {
   "cell_type": "markdown",
   "metadata": {},
   "source": [
    "## Package requirements\n",
    "\n",
    "Assuming you're running underworld2 through a docker image, you will need the following python packages:\n",
    "\n",
    "* easydict  https://pypi.python.org/pypi/easydict/\n",
    "\n",
    "It should be no problem to do `pip install easydict` (though you'll need to do this for each container you start)\n",
    "\n",
    "You'll also need a copy of my scripts and tools: https://github.com/dansand/unsupported.git\n",
    "\n",
    "This is occasionally merged with the official underworld2 module of the same name, but it's safest to grab a copy of the repo: \n",
    "\n",
    "`git clone https://github.com/dansand/unsupported.git`, \n",
    "\n",
    "(easiest to clone straight into in the same directory as this notebook.)\n",
    "\n",
    "To add the module to the pythonpath do:\n",
    "\n",
    "```python\n",
    "import os\n",
    "import sys\n",
    "\n",
    "if os.getcwd() == '/workspace/newSlab':\n",
    "    sys.path.append('./unsupported')\n",
    "    \n",
    "```"
   ]
  },
  {
   "cell_type": "code",
   "execution_count": 2,
   "metadata": {
    "collapsed": false,
    "deletable": true,
    "editable": true
   },
   "outputs": [],
   "source": [
    "#If run through Docker we'll point at the local 'unsupported dir.'\n",
    "#On hpc, the path should also include a directory holding the unsupported_dan.\n",
    "import os\n",
    "import sys\n",
    "\n",
    "if os.getcwd() == '/workspace/newSlab':\n",
    "    #sys.path.append('./unsupported') #unsupported module located in current working dir\n",
    "    sys.path.append('../unsupported') #unsupported module located in parent dir.\n",
    "    "
   ]
  },
  {
   "cell_type": "code",
   "execution_count": 3,
   "metadata": {
    "collapsed": false,
    "deletable": true,
    "editable": true
   },
   "outputs": [
    {
     "name": "stderr",
     "output_type": "stream",
     "text": [
      "../unsupported/unsupported_dan/utilities/__init__.py:9: UserWarning: \n",
      "\n",
      "The alchemy module is not supported.\n",
      "Questions should be addressed to sandd@student.unimelb.edu.au \n",
      " \n",
      "  Questions should be addressed to sandd@student.unimelb.edu.au \\n \"\"\"\n",
      "../unsupported/unsupported_dan/interfaces/__init__.py:9: UserWarning: \n",
      "\n",
      "The interface module is not supported.\n",
      "Questions should be addressed to louis.moresi@unimelb.edu.au \n",
      " \n",
      "  Questions should be addressed to louis.moresi@unimelb.edu.au \\n \"\"\"\n",
      "../unsupported/unsupported_dan/faults/__init__.py:9: UserWarning: \n",
      "\n",
      "The fault module is not supported.\n",
      "Questions should be addressed to louis.moresi@unimelb.edu.au \n",
      " \n",
      "  Questions should be addressed to louis.moresi@unimelb.edu.au \\n \"\"\"\n",
      "../unsupported/unsupported_dan/alchemy/__init__.py:9: UserWarning: \n",
      "\n",
      "The alchemy module is not supported.\n",
      "Questions should be addressed to sandd@student.unimelb.edu.au \n",
      " \n",
      "  Questions should be addressed to sandd@student.unimelb.edu.au \\n \"\"\"\n",
      "../unsupported/unsupported_dan/checkpoint/__init__.py:9: UserWarning: \n",
      "\n",
      "The checkpoint module is not supported.\n",
      "Questions should be addressed to sandd@student.unimelb.edu.au \n",
      " \n",
      "  Questions should be addressed to sandd@student.unimelb.edu.au \\n \"\"\"\n"
     ]
    }
   ],
   "source": [
    "import numpy as np\n",
    "import underworld as uw\n",
    "import math\n",
    "from underworld import function as fn\n",
    "import glucifer\n",
    "import os\n",
    "import sys\n",
    "from easydict import EasyDict as edict\n",
    "import operator\n",
    "import pickle\n",
    "\n",
    "\n",
    "#\n",
    "from unsupported_dan.utilities.interpolation import nn_evaluation\n",
    "from unsupported_dan.interfaces.marker2D import markerLine2D\n",
    "from unsupported_dan.faults.faults2D import fault2D, fault_collection\n",
    "from unsupported_dan.alchemy.materialGraph import MatGraph\n",
    "from unsupported_dan.checkpoint.checkpoint import checkpoint\n",
    "\n"
   ]
  },
  {
   "cell_type": "markdown",
   "metadata": {
    "deletable": true,
    "editable": true
   },
   "source": [
    "## Setup output directories"
   ]
  },
  {
   "cell_type": "code",
   "execution_count": 4,
   "metadata": {
    "collapsed": true,
    "deletable": true,
    "editable": true
   },
   "outputs": [],
   "source": [
    "###########\n",
    "#Standard output directory setup\n",
    "###########\n",
    "\n",
    "\n",
    "#Model letter identifier demarker\n",
    "Model = \"T\"\n",
    "\n",
    "#Model number identifier demarker:\n",
    "ModNum = 1\n",
    "\n",
    "#Any isolated letter / integer command line args are interpreted as Model/ModelNum\n",
    "\n",
    "if len(sys.argv) == 1:\n",
    "    ModNum = ModNum \n",
    "elif sys.argv[1] == '-f': #\n",
    "    ModNum = ModNum \n",
    "else:\n",
    "    for farg in sys.argv[1:]:\n",
    "        if not '=' in farg: #then Assume it's a not a paramter argument\n",
    "            try:\n",
    "                ModNum = int(farg) #try to convert everingthing to a float, else remains string\n",
    "            except ValueError:\n",
    "                Model  = farg\n",
    "                \n",
    "                \n",
    "###########\n",
    "#Standard output directory setup\n",
    "###########\n",
    "\n",
    "outputPath = \"results\" + \"/\" +  str(Model) + \"/\" + str(ModNum) + \"/\" \n",
    "imagePath = outputPath + 'images/'\n",
    "filePath = outputPath + 'files/'\n",
    "#checkpointPath = outputPath + 'checkpoint/'\n",
    "dbPath = outputPath + 'gldbs/'\n",
    "xdmfPath = outputPath + 'xdmf/'\n",
    "outputFile = 'results_model' + Model + '_' + str(ModNum) + '.dat'\n",
    "\n",
    "if uw.rank()==0:\n",
    "    # make directories if they don't exist\n",
    "    if not os.path.isdir(outputPath):\n",
    "        os.makedirs(outputPath)\n",
    "    if not os.path.isdir(imagePath):\n",
    "        os.makedirs(imagePath)\n",
    "    if not os.path.isdir(dbPath):\n",
    "        os.makedirs(dbPath)\n",
    "    if not os.path.isdir(filePath):\n",
    "        os.makedirs(filePath)\n",
    "    if not os.path.isdir(xdmfPath):\n",
    "        os.makedirs(xdmfPath)\n",
    "        \n",
    "uw.barrier() #Barrier here so no procs run the check in the next cell too early        "
   ]
  },
  {
   "cell_type": "markdown",
   "metadata": {
    "collapsed": false,
    "deletable": true,
    "editable": true
   },
   "source": [
    "## Checkpointing"
   ]
  },
  {
   "cell_type": "code",
   "execution_count": 6,
   "metadata": {
    "collapsed": false,
    "deletable": true,
    "editable": true
   },
   "outputs": [
    {
     "ename": "NameError",
     "evalue": "name 'outputPath' is not defined",
     "output_type": "error",
     "traceback": [
      "\u001b[1;31m\u001b[0m",
      "\u001b[1;31mNameError\u001b[0mTraceback (most recent call last)",
      "\u001b[1;32m<ipython-input-6-a54a90cc9dc4>\u001b[0m in \u001b[0;36m<module>\u001b[1;34m()\u001b[0m\n\u001b[0;32m      2\u001b[0m \u001b[1;33m\u001b[0m\u001b[0m\n\u001b[0;32m      3\u001b[0m \u001b[1;31m#cp = checkpoint(outputPath + 'checkpoint/', loadpath='./results/A/1/checkpoint/10')\u001b[0m\u001b[1;33m\u001b[0m\u001b[1;33m\u001b[0m\u001b[0m\n\u001b[1;32m----> 4\u001b[1;33m \u001b[0mcp\u001b[0m \u001b[1;33m=\u001b[0m \u001b[0mcheckpoint\u001b[0m\u001b[1;33m(\u001b[0m\u001b[0moutputPath\u001b[0m \u001b[1;33m+\u001b[0m \u001b[1;34m'checkpoint/'\u001b[0m\u001b[1;33m)\u001b[0m\u001b[1;33m\u001b[0m\u001b[0m\n\u001b[0m\u001b[0;32m      5\u001b[0m \u001b[1;33m\u001b[0m\u001b[0m\n\u001b[0;32m      6\u001b[0m \u001b[1;31m#*************CHECKPOINT-BLOCK**************#\u001b[0m\u001b[1;33m\u001b[0m\u001b[1;33m\u001b[0m\u001b[0m\n",
      "\u001b[1;31mNameError\u001b[0m: name 'outputPath' is not defined"
     ]
    }
   ],
   "source": [
    "#*************CHECKPOINT-BLOCK**************#\n",
    "\n",
    "#cp = checkpoint(outputPath + 'checkpoint/', loadpath='./results/A/1/checkpoint/10')\n",
    "cp = checkpoint(outputPath + 'checkpoint/')\n",
    "\n",
    "#*************CHECKPOINT-BLOCK**************#\n"
   ]
  },
  {
   "cell_type": "markdown",
   "metadata": {
    "deletable": true,
    "editable": true
   },
   "source": [
    "## Model parameters and scaling"
   ]
  },
  {
   "cell_type": "code",
   "execution_count": null,
   "metadata": {
    "collapsed": false,
    "deletable": true,
    "editable": true
   },
   "outputs": [],
   "source": []
  },
  {
   "cell_type": "code",
   "execution_count": 7,
   "metadata": {
    "collapsed": false,
    "deletable": true,
    "editable": true
   },
   "outputs": [],
   "source": [
    "dp = edict({})\n",
    "#Main physical paramters\n",
    "dp.depth=1000e3                         #Depth\n",
    "dp.refDensity=3300.                        #reference density\n",
    "dp.refGravity=9.8                          #surface gravity\n",
    "dp.viscosityScale=1e20                       #reference upper mantle visc., \n",
    "dp.refDiffusivity=1e-6                     #thermal diffusivity\n",
    "dp.refExpansivity=3e-5                     #surface thermal expansivity\n",
    "dp.gasConstant=8.314                    #gas constant\n",
    "dp.specificHeat=1250.                   #Specific heat (Jkg-1K-1)\n",
    "dp.potentialTemp=1573.                  #mantle potential temp (K)\n",
    "dp.surfaceTemp=273.                     #surface temp (K)\n",
    "#Rheology - flow law paramters\n",
    "dp.cohesionMantle=20e6                   #mantle cohesion in Byerlee law\n",
    "dp.cohesionCrust=1e6                    #crust cohesion in Byerlee law\n",
    "dp.frictionMantle=0.2                   #mantle friction coefficient in Byerlee law (tan(phi))\n",
    "dp.frictionCrust=0.02                   #crust friction coefficient \n",
    "dp.diffusionPreExp=5.34e-10             #1./1.87e9, pre-exp factor for diffusion creep\n",
    "dp.diffusionEnergy=3e5 \n",
    "dp.diffusionVolume=5e-6\n",
    "dp.lowerMantlePreExp=4.23e-15           #1./2.36e14\n",
    "dp.lowerMantleEnergy=2.0e5\n",
    "dp.lowerMantleVolume=1.5e-6\n",
    "dp.lowerMantleViscFac = 30.\n",
    "\n",
    "\n",
    "dp.interfacePreExp=2e7*5.34e-10            \n",
    "dp.interfaceEnergy=0.5*3e5\n",
    "dp.interfaceVolume=10.*5e-6\n",
    "#dp.crustExponent=3.5  \n",
    "\n",
    "dp.dislocationPreExp=5e-16              #pre-exp factor for dislocation creep\n",
    "dp.dislocationEnergy=5.4e5\n",
    "dp.dislocationVolume=0.9*12e-6\n",
    "dp.dislocationExponent=3.5              #Dislocation creep stress exponent\n",
    "\n",
    "    #dp.peierlsPreExp=1e-150                 #pre-exp factor for Peierls creep\n",
    "    #dp.peierlsEnergy=5.4e5\n",
    "    #dp.peierlsVolume=10e-6\n",
    "    #dp.peierlsExponent=20.                  #Peierls creep stress exponent \n",
    "    \n",
    "\n",
    "\n",
    "#Rheology - cutoff values\n",
    "dp.viscosityMin=1e18\n",
    "dp.viscosityMax=1e25                #viscosity max in the mantle material\n",
    "dp.viscosityMinCrust=1e20               #viscosity min in the weak-crust material\n",
    "dp.viscosityMaxCrust=1e20               #viscosity max in the weak-crust material\n",
    "dp.yieldStressMax=300*1e6              #\n",
    "dp.crustViscCutoffDepth = 100e3\n",
    "dp.crustViscEndWidth = 20e3\n",
    "\n",
    "#Intrinsic Lengths\n",
    "dp.mantleCrustDepth=10.*1e3              #Crust depth\n",
    "dp.faultThickness = 10.*1e3              #interface material (crust) an top of slabs\n",
    "dp.crustMantleDepth=250.*1e3 \n",
    "dp.lowerMantleDepth=660.*1e3  \n",
    "dp.crustLimitDepth=650.*1e3             #Deeper than this, crust material rheology reverts to mantle rheology\n",
    "#Slab and plate init. parameters\n",
    "dp.subZoneLoc=-100e3                    #X position of subduction zone...km\n",
    "dp.leftRidge=-1.*(5000e3)               #\n",
    "dp.rightRidge=(5000e3)\n",
    "dp.maxDepth=150e3\n",
    "dp.theta=40                             #Angle of slab\n",
    "dp.radiusOfCurv = 250e3                          #radius of curvature\n",
    "dp.slabMaxAge=70e6                     #age of subduction plate at trench\n",
    "dp.plateMaxAge=100e6                    #max age of slab (Plate model)\n",
    "dp.opMaxAge=35e6                       #age of op\n",
    "#Misc\n",
    "dp.stickyAirDepth=100e3                 #depth of sticky air layer\n",
    "dp.viscosityStickyAir=1e19              #stick air viscosity, normal\n",
    "#derived params\n",
    "dp.deltaTemp = dp.potentialTemp-dp.surfaceTemp\n",
    "dp.tempGradMantle = (dp.refExpansivity*dp.refGravity*(dp.potentialTemp))/dp.specificHeat\n",
    "dp.tempGradSlab = (dp.refExpansivity*dp.refGravity*(dp.surfaceTemp + 400.))/dp.specificHeat\n",
    "\n",
    "#temporary, for visc. special cases\n",
    "dp.velCmY = 4.\n",
    "\n",
    "\n",
    "\n",
    "#Modelling and Physics switches\n",
    "\n",
    "md = edict({})\n",
    "md.refineMeshStatic=True\n",
    "md.stickyAir=False\n",
    "md.aspectRatio=5.\n",
    "md.res=32\n",
    "md.ppc=25                                 #particles per cell\n",
    "md.elementType=\"Q1/dQ0\"\n",
    "#md.elementType=\"Q2/DPC1\"\n",
    "md.secInvFac=math.sqrt(1.)\n",
    "md.courantFac=0.5                         #extra limitation on timestepping\n",
    "md.thermal = True                        #thermal system or compositional\n",
    "md.swarmInitialFac = 0.6                 #initial swarm layout will be int(md.ppc*md.swarmInitialFac), popControl will densify later\n",
    "md.compBuoyancy = False\n",
    "md.nltol = 0.01\n",
    "md.maxSteps = 20000\n",
    "md.checkpointEvery = 50\n",
    "md.swarmUpdate = 10\n",
    "md.druckerAlpha = 0.\n",
    "md.druckerAlphaFault = 0.\n",
    "md.penaltyMethod = True\n",
    "md.opuniform = False\n",
    "md.spuniform = False\n",
    "md.opfixed = False\n",
    "md.spfixed = False\n",
    "md.buoyancyFac = 1.0\n",
    "#The following are time-based actions\n",
    "md.filesMy = 1.0e6 #dimensional time interval to write files\n",
    "md.diffuseInitial = 5e6 # years to run initial diffusion for. Or set to zero\n",
    "\n",
    "#some temporary flags\n",
    "md.specialCaseU = 0 #md.specialCaseU=0, byerlee down to bdt\n",
    "md.specialCaseL = 0 #md.specialCaseL=0, byerlee down to decoupling\n",
    "\n",
    "md.deepCohesionFac = 1.0\n",
    "md.deepFcFac = 0.0\n"
   ]
  },
  {
   "cell_type": "code",
   "execution_count": 10,
   "metadata": {
    "collapsed": false,
    "deletable": true,
    "editable": true
   },
   "outputs": [
    {
     "name": "stderr",
     "output_type": "stream",
     "text": [
      "../unsupported/unsupported_dan/cl_args/__init__.py:9: UserWarning: \n",
      "\n",
      "The interface module is not supported.\n",
      "Questions should be addressed to sandd@student@unimelb.edu.au \n",
      " \n",
      "  Questions should be addressed to sandd@student@unimelb.edu.au \\n \"\"\"\n"
     ]
    }
   ],
   "source": [
    "uw.barrier()\n",
    "\n",
    "##Parse any command-line args\n",
    "\n",
    "from unsupported_dan.cl_args import easy_args\n",
    "sysArgs = sys.argv\n",
    "\n",
    "#We want to run this on both the parameter dict, and the model dict\n",
    "easy_args(sysArgs, dp)\n",
    "easy_args(sysArgs, md)\n",
    "\n",
    "\n",
    "uw.barrier()"
   ]
  },
  {
   "cell_type": "code",
   "execution_count": 12,
   "metadata": {
    "collapsed": false,
    "deletable": true,
    "editable": true
   },
   "outputs": [],
   "source": [
    "sf = edict({})\n",
    "\n",
    "sf.lengthScale=2900e3\n",
    "sf.viscosityScale = dp.viscosityScale\n",
    "sf.stress = (dp.refDiffusivity*sf.viscosityScale)/sf.lengthScale**2\n",
    "#sf.lithGrad = dp.refDensity*dp.refGravity*(sf.lengthScale)**3/(sf.viscosityScale*dp.refDiffusivity) \n",
    "sf.lithGrad = (sf.viscosityScale*dp.refDiffusivity) /(dp.refDensity*dp.refGravity*(sf.lengthScale)**3)\n",
    "sf.velocity = dp.refDiffusivity/sf.lengthScale\n",
    "sf.strainRate = dp.refDiffusivity/(sf.lengthScale**2)\n",
    "sf.time = 1./sf.strainRate\n",
    "sf.actVolume = (dp.gasConstant*dp.deltaTemp)/(dp.refDensity*dp.refGravity*sf.lengthScale)\n",
    "sf.actEnergy = (dp.gasConstant*dp.deltaTemp)\n",
    "sf.diffusionPreExp = 1./sf.viscosityScale\n",
    "sf.deltaTemp  = dp.deltaTemp\n",
    "sf.pressureDepthGrad = (dp.refDensity*dp.refGravity*sf.lengthScale**3)/(dp.viscosityScale*dp.refDiffusivity)\n",
    "\n",
    "\n",
    "#dimesionless params\n",
    "ndp  = edict({})\n",
    "\n",
    "ndp.rayleigh = md.buoyancyFac*(dp.refExpansivity*dp.refDensity*dp.refGravity*dp.deltaTemp*sf.lengthScale**3)/(dp.viscosityScale*dp.refDiffusivity)\n",
    "\n",
    "#Take care with these definitions, \n",
    "ndp.surfaceTemp = dp.surfaceTemp/sf.deltaTemp  #Ts\n",
    "ndp.potentialTemp = dp.potentialTemp/sf.deltaTemp - ndp.surfaceTemp #Tp' = Tp - TS\n",
    "\n",
    "ndp.tempGradMantle = dp.tempGradMantle/(sf.deltaTemp/sf.lengthScale)\n",
    "ndp.tempGradSlab = dp.tempGradSlab/(sf.deltaTemp/sf.lengthScale)\n",
    "\n",
    "#lengths / distances\n",
    "ndp.depth = dp.depth/sf.lengthScale\n",
    "ndp.leftLim = -0.5*ndp.depth*md.aspectRatio\n",
    "ndp.rightLim = 0.5*ndp.depth*md.aspectRatio\n",
    "ndp.faultThickness = dp.faultThickness/sf.lengthScale\n",
    "ndp.leftRidge = max(ndp.leftLim,  dp.leftRidge/sf.lengthScale)\n",
    "ndp.rightRidge = min(ndp.rightLim, dp.rightRidge/sf.lengthScale)\n",
    "ndp.mantleCrustDepth =  dp.mantleCrustDepth/sf.lengthScale\n",
    "ndp.crustLimitDepth = dp.crustLimitDepth/sf.lengthScale\n",
    "ndp.lowerMantleDepth = dp.lowerMantleDepth/sf.lengthScale\n",
    "\n",
    "\n",
    "#times - for convenience and sanity the dimensional values are in years, conversion to seconds happens here\n",
    "ndp.slabMaxAge =  dp.slabMaxAge*(3600*24*365)/sf.time\n",
    "ndp.plateMaxAge =  dp.plateMaxAge*(3600*24*365)/sf.time\n",
    "ndp.opMaxAge = dp.opMaxAge*(3600*24*365)/sf.time\n",
    "\n",
    "\n",
    "#Rheology - flow law paramters\n",
    "ndp.cohesionMantle=dp.cohesionMantle/sf.stress                  #mantle cohesion in Byerlee law\n",
    "ndp.cohesionCrust=dp.cohesionCrust/sf.stress                  #crust cohesion in Byerlee law\n",
    "ndp.frictionMantle=dp.frictionMantle/sf.lithGrad                  #mantle friction coefficient in Byerlee law (tan(phi))\n",
    "ndp.frictionCrust=dp.frictionCrust/sf.lithGrad                  #crust friction coefficient \n",
    "ndp.diffusionPreExp=dp.diffusionPreExp/sf.diffusionPreExp                #pre-exp factor for diffusion creep\n",
    "ndp.diffusionEnergy=dp.diffusionEnergy/sf.actEnergy\n",
    "ndp.diffusionVolume=dp.diffusionVolume/sf.actVolume\n",
    "\n",
    "\n",
    "#\n",
    "ndp.interfacePreExp = dp.interfacePreExp/sf.diffusionPreExp           \n",
    "ndp.interfaceEnergy = dp.interfaceEnergy/sf.actEnergy\n",
    "ndp.interfaceVolume = dp.interfaceVolume/sf.actVolume\n",
    "\n",
    "\n",
    "\n",
    "ndp.lowerMantlePreExp=dp.lowerMantlePreExp/sf.diffusionPreExp \n",
    "ndp.lowerMantleEnergy=dp.lowerMantleEnergy/sf.actEnergy\n",
    "ndp.lowerMantleVolume=dp.lowerMantleVolume/sf.actVolume\n",
    "ndp.yieldStressMax=dp.yieldStressMax/sf.stress \n",
    "#Rheology - cutoff values\n",
    "ndp.viscosityMin= dp.viscosityMin /sf.viscosityScale\n",
    "ndp.viscosityMax=dp.viscosityMax/sf.viscosityScale\n",
    "ndp.viscosityMinCrust= dp.viscosityMinCrust /sf.viscosityScale\n",
    "ndp.viscosityMaxCrust = dp.viscosityMaxCrust/sf.viscosityScale\n",
    "ndp.lowerMantleViscFac = dp.lowerMantleViscFac\n",
    "ndp.crustViscCutoffDepth = dp.crustViscCutoffDepth/sf.lengthScale\n",
    "ndp.crustViscEndWidth = dp.crustViscEndWidth/sf.lengthScale\n",
    "\n",
    "\n",
    "\n",
    "\n",
    "#Slab and plate init. parameters\n",
    "ndp.subZoneLoc = dp.subZoneLoc/sf.lengthScale\n",
    "ndp.maxDepth = dp.maxDepth/sf.lengthScale\n",
    "ndp.radiusOfCurv = dp.radiusOfCurv/sf.lengthScale\n",
    "\n"
   ]
  },
  {
   "cell_type": "code",
   "execution_count": 13,
   "metadata": {
    "collapsed": false,
    "deletable": true,
    "editable": true
   },
   "outputs": [],
   "source": [
    "#*************CHECKPOINT-BLOCK**************#\n",
    "\n",
    "\n",
    "#if restart, attempt to read in saved dicts. \n",
    "if cp.restart:\n",
    "    try:\n",
    "        with open(os.path.join(cp.loadpath, 'dp.pkl'), 'rb') as fp:\n",
    "                            dp = pickle.load(fp)\n",
    "        with open(os.path.join(cp.loadpath, 'sf.pkl'), 'rb') as fp:\n",
    "                            sf = pickle.load(fp)\n",
    "        with open(os.path.join(cp.loadpath, 'md.pkl'), 'rb') as fp:\n",
    "                            md = pickle.load(fp)\n",
    "\n",
    "    except:\n",
    "        print(\"couldn't load paramter dictionaries on restart\")\n",
    "\n",
    "\n",
    "    \n",
    "#add dicts to the checkpointinng object\n",
    "cp.addDict(dp, 'dp')\n",
    "cp.addDict(sf, 'sf')\n",
    "cp.addDict(md, 'md')\n",
    "#*************CHECKPOINT-BLOCK**************#\n"
   ]
  },
  {
   "cell_type": "code",
   "execution_count": null,
   "metadata": {
    "collapsed": true,
    "deletable": true,
    "editable": true
   },
   "outputs": [],
   "source": []
  },
  {
   "cell_type": "markdown",
   "metadata": {
    "deletable": true,
    "editable": true
   },
   "source": [
    "## Build Mesh and FE variables"
   ]
  },
  {
   "cell_type": "code",
   "execution_count": 14,
   "metadata": {
    "collapsed": false,
    "deletable": true,
    "editable": true
   },
   "outputs": [],
   "source": [
    "#Domain and Mesh paramters\n",
    "yres = int(md.res)\n",
    "xres = int(md.res*12) \n",
    "\n",
    "\n",
    "\n",
    "mesh = uw.mesh.FeMesh_Cartesian( elementType = (md.elementType),\n",
    "                                 elementRes  = (xres, yres), \n",
    "                                 minCoord    = (ndp.leftLim, 1. - ndp.depth), \n",
    "                                 maxCoord    = (ndp.rightLim, 1.)) \n",
    "\n",
    "velocityField   = uw.mesh.MeshVariable( mesh=mesh,         nodeDofCount=2 )\n",
    "pressureField   = uw.mesh.MeshVariable( mesh=mesh.subMesh, nodeDofCount=1 )\n",
    "temperatureField    = uw.mesh.MeshVariable( mesh=mesh,         nodeDofCount=1 )\n",
    "\n",
    "if md.thermal:\n",
    "    temperatureDotField = uw.mesh.MeshVariable( mesh=mesh,         nodeDofCount=1 ) #create this only if Adv-diff\n",
    "    diffusivityFn = fn.misc.constant(1.)\n",
    "    \n",
    "    \n",
    "    \n",
    "# Any extra mesh vars. we want to define (mostly to facilite saving as xdmf)\n",
    "strainRateField    = uw.mesh.MeshVariable( mesh=mesh,         nodeDofCount=1 )\n",
    "viscosityField    = uw.mesh.MeshVariable( mesh=mesh,         nodeDofCount=1 )\n",
    "    \n"
   ]
  },
  {
   "cell_type": "code",
   "execution_count": 15,
   "metadata": {
    "collapsed": true,
    "deletable": true,
    "editable": true
   },
   "outputs": [],
   "source": [
    "#*************CHECKPOINT-BLOCK**************#\n",
    "cp.addObject(velocityField,'velocityField')\n",
    "cp.addObject(pressureField,'pressureField')\n",
    "if md.thermal:\n",
    "    cp.addObject(temperatureField,'temperatureField')\n",
    "    cp.addObject(temperatureDotField,'temperatureDotField')\n",
    "    \n",
    "\n",
    "#*************CHECKPOINT-BLOCK**************#"
   ]
  },
  {
   "cell_type": "code",
   "execution_count": 16,
   "metadata": {
    "collapsed": false,
    "deletable": true,
    "editable": true
   },
   "outputs": [],
   "source": [
    "#print(cp.objDict.keys())"
   ]
  },
  {
   "cell_type": "code",
   "execution_count": 17,
   "metadata": {
    "collapsed": false,
    "deletable": true,
    "editable": true
   },
   "outputs": [],
   "source": [
    "#*************CHECKPOINT-BLOCK**************#\n",
    "\n",
    "if cp.restart:\n",
    "    velocityField.load(cp.loadpath + '/velocityField.h5')\n",
    "    pressureField.load(cp.loadpath + '/pressureField.h5')\n",
    "    if md.thermal:\n",
    "        temperatureField.load(cp.loadpath + '/temperatureField.h5')\n",
    "        temperatureDotField.load(cp.loadpath + '/temperatureDotField.h5')\n",
    "#*************CHECKPOINT-BLOCK**************#\n"
   ]
  },
  {
   "cell_type": "code",
   "execution_count": 18,
   "metadata": {
    "collapsed": false,
    "deletable": true,
    "editable": true
   },
   "outputs": [],
   "source": [
    "#miscellaneous Uw functions functions\n",
    "\n",
    "coordinate = fn.input()\n",
    "depthFn = mesh.maxCoord[1] - coordinate[1] #a function providing the depth\n",
    "\n",
    "\n",
    "xFn = coordinate[0]  #a function providing the x-coordinate\n",
    "yFn = coordinate[1]\n",
    "\n",
    "\n",
    "\n",
    "\n",
    "\n",
    "#Create a binary circle\n",
    "def inCircleFnGenerator(centre, radius):\n",
    "    coord = fn.input()\n",
    "    offsetFn = coord - centre\n",
    "    return fn.math.dot( offsetFn, offsetFn ) < radius**2\n"
   ]
  },
  {
   "cell_type": "markdown",
   "metadata": {
    "deletable": true,
    "editable": true
   },
   "source": [
    "## Static Mesh refinement"
   ]
  },
  {
   "cell_type": "code",
   "execution_count": 120,
   "metadata": {
    "collapsed": false,
    "deletable": true,
    "editable": true
   },
   "outputs": [],
   "source": [
    "if md.refineMeshStatic:\n",
    "    mesh.reset()\n",
    "\n",
    "    jWalls = mesh.specialSets[\"MinJ_VertexSet\"] + mesh.specialSets[\"MaxJ_VertexSet\"]\n",
    "    yFn = coordinate[1]\n",
    "    yField = uw.mesh.MeshVariable( mesh=mesh, nodeDofCount=1 )\n",
    "    yField.data[:] = 0.\n",
    "    yBC = uw.conditions.DirichletCondition( variable=yField, indexSetsPerDof=(jWalls,) )\n",
    "\n",
    "    # set bottom wall temperature bc\n",
    "    for index in mesh.specialSets[\"MinJ_VertexSet\"]:\n",
    "        yField.data[index] = mesh.minCoord[1]\n",
    "    # set top wall temperature bc\n",
    "    for index in mesh.specialSets[\"MaxJ_VertexSet\"]:\n",
    "        yField.data[index] = mesh.maxCoord[1]\n",
    "\n",
    "\n",
    "\n",
    "    s = 4\n",
    "    intensityFac = 6.\n",
    "    intensityFn = (((yFn - mesh.minCoord[1])/(mesh.maxCoord[1]-mesh.minCoord[1]))**s)\n",
    "    intensityFn *= intensityFac\n",
    "    intensityFn += 1.\n",
    "\n",
    "\n",
    "    yLaplaceEquation = uw.systems.SteadyStateHeat(temperatureField=yField, fn_diffusivity=intensityFn, conditions=[yBC,])\n",
    "\n",
    "    # get the demarker heat equation solver\n",
    "    yLaplaceSolver = uw.systems.Solver(yLaplaceEquation)\n",
    "    # solve\n",
    "    yLaplaceSolver.solve()\n",
    "\n",
    "\n",
    "    #Get the array of Y positions - copy may be necessary, not sure. \n",
    "    newYpos = yField.data.copy() \n",
    "\n",
    "    uw.barrier()\n",
    "    with mesh.deform_mesh():\n",
    "         mesh.data[:,1] = newYpos[:,0]"
   ]
  },
  {
   "cell_type": "markdown",
   "metadata": {
    "deletable": true,
    "editable": true
   },
   "source": [
    "## Boundary Conditions"
   ]
  },
  {
   "cell_type": "code",
   "execution_count": 95,
   "metadata": {
    "collapsed": false,
    "deletable": true,
    "editable": true
   },
   "outputs": [],
   "source": [
    "#Stokes BCs\n",
    "\n",
    "iWalls = mesh.specialSets[\"MinI_VertexSet\"] + mesh.specialSets[\"MaxI_VertexSet\"]\n",
    "jWalls = mesh.specialSets[\"MinJ_VertexSet\"] + mesh.specialSets[\"MaxJ_VertexSet\"]\n",
    "tWalls = mesh.specialSets[\"MaxJ_VertexSet\"]\n",
    "bWalls =mesh.specialSets[\"MinJ_VertexSet\"]\n",
    "      \n",
    "        \n",
    "freeslipBC = uw.conditions.DirichletCondition( variable      = velocityField, \n",
    "                                               indexSetsPerDof = ( iWalls, jWalls) )"
   ]
  },
  {
   "cell_type": "code",
   "execution_count": 96,
   "metadata": {
    "collapsed": true,
    "deletable": true,
    "editable": true
   },
   "outputs": [],
   "source": [
    "#Energy BCs\n",
    "\n",
    "if md.thermal:\n",
    "    dirichTempBC = uw.conditions.DirichletCondition(     variable=temperatureField, \n",
    "                                              indexSetsPerDof=(tWalls,) )"
   ]
  },
  {
   "cell_type": "code",
   "execution_count": null,
   "metadata": {
    "collapsed": false,
    "deletable": true,
    "editable": true
   },
   "outputs": [],
   "source": []
  },
  {
   "cell_type": "markdown",
   "metadata": {
    "deletable": true,
    "editable": true
   },
   "source": [
    "## Swarm"
   ]
  },
  {
   "cell_type": "code",
   "execution_count": 97,
   "metadata": {
    "collapsed": true,
    "deletable": true,
    "editable": true
   },
   "outputs": [],
   "source": [
    "#Materials\n",
    "mantleID = 0\n",
    "crustID = 1\n",
    "airID = 2      #in case we use sticky air\n",
    "\n",
    "#list of all material indexes\n",
    "material_list = [mantleID, crustID, airID]"
   ]
  },
  {
   "cell_type": "code",
   "execution_count": 98,
   "metadata": {
    "collapsed": false,
    "deletable": true,
    "editable": true
   },
   "outputs": [],
   "source": [
    "#*************CHECKPOINT-BLOCK**************#\n",
    "\n",
    "swarm = uw.swarm.Swarm(mesh=mesh, particleEscape=True)\n",
    "cp.addObject(swarm,'swarm')\n",
    "materialVariable      = swarm.add_variable( dataType=\"int\", count=1 )\n",
    "cp.addObject(materialVariable,'materialVariable')\n",
    "proxyTempVariable = swarm.add_variable( dataType=\"double\", count=1 )\n",
    "if not md.thermal:\n",
    "    cp.addObject(proxyTempVariable,'proxyTempVariable')\n",
    "\n",
    "\n",
    "if cp.restart:\n",
    "    swarm.load(cp.loadpath + '/swarm.h5')\n",
    "    materialVariable.load(cp.loadpath + '/materialVariable.h5')\n",
    "    if not md.thermal:\n",
    "        proxyTempVariable.load(cp.loadpath + '/proxyTempVariable.h5')   \n",
    "\n",
    "\n",
    "else:\n",
    "    layout = uw.swarm.layouts.PerCellRandomLayout(swarm=swarm, particlesPerCell=int(md.ppc*md.swarmInitialFac))\n",
    "    swarm.populate_using_layout( layout=layout ) # Now use it to populate.\n",
    "    proxyTempVariable.data[:] = 0.0\n",
    "    materialVariable.data[:] = mantleID\n",
    "\n",
    "#*************CHECKPOINT-BLOCK**************#\n"
   ]
  },
  {
   "cell_type": "code",
   "execution_count": 99,
   "metadata": {
    "collapsed": true,
    "deletable": true,
    "editable": true
   },
   "outputs": [],
   "source": [
    "#These variables don;t need checkpointing. They can / should be rebuilt\n",
    "\n",
    "signedDistanceVariable = swarm.add_variable( dataType=\"double\", count=1 )\n",
    "#directorVector   = swarm.add_variable( dataType=\"double\", count=2)\n",
    "\n",
    "#directorVector.data[:,:] = 0.0\n",
    "signedDistanceVariable.data[:] = 0.0\n"
   ]
  },
  {
   "cell_type": "code",
   "execution_count": 100,
   "metadata": {
    "collapsed": false,
    "deletable": true,
    "editable": true
   },
   "outputs": [],
   "source": [
    "\n",
    "#Pass this to Figures to see full extent\n",
    "bBox=((mesh.minCoord[0], mesh.minCoord[1]),(mesh.maxCoord[0], mesh.maxCoord[1]))"
   ]
  },
  {
   "cell_type": "markdown",
   "metadata": {
    "deletable": true,
    "editable": true
   },
   "source": [
    "## Initial Conditions"
   ]
  },
  {
   "cell_type": "code",
   "execution_count": 101,
   "metadata": {
    "collapsed": false,
    "deletable": true,
    "editable": true
   },
   "outputs": [],
   "source": [
    "#plate depth\n",
    "\n",
    "#Flags to control plate behaviour: md.opuniform, md.spuniform, md.opfixed, md.spfixed\n",
    "\n",
    "#T&S 4.126\n",
    "thicknessAtTrench = 2.32*math.sqrt(1.*ndp.slabMaxAge)\n",
    "\n",
    "sig = 150e3/sf.lengthScale\n",
    "ridgeFn = 1. -  \\\n",
    "                fn.math.exp(-1.*(xFn - ndp.leftRidge)**2/(2 * sig**2))- \\\n",
    "                fn.math.exp(-1.*(xFn - ndp.rightRidge)**2/(2 * sig**2))\n",
    "\n",
    "spAge = ndp.slabMaxAge*fn.math.abs((ndp.leftRidge - xFn)/(ndp.subZoneLoc - ndp.leftRidge))\n",
    "opAge = ndp.opMaxAge*fn.math.abs((ndp.rightRidge - xFn)/(ndp.subZoneLoc - ndp.rightRidge))\n",
    "\n",
    "if md.spuniform:\n",
    "    if not md.spfixed:\n",
    "        spAge = ridgeFn*ndp.slabMaxAge\n",
    "    else:\n",
    "        spAge = fn.misc.constant(ndp.slabMaxAge)\n",
    "        \n",
    "if md.opuniform:\n",
    "    if not md.opfixed:\n",
    "        opAge = ridgeFn*ndp.opMaxAge\n",
    "    else:\n",
    "        opAge = fn.misc.constant(ndp.opMaxAge)\n",
    "\n",
    "proxyageFn = fn.branching.conditional([(xFn <= ndp.subZoneLoc, spAge), #idea is to make this arbitrarily complex\n",
    "                                  (True, opAge)])\n",
    "\n"
   ]
  },
  {
   "cell_type": "markdown",
   "metadata": {
    "deletable": true,
    "editable": true
   },
   "source": [
    "## Marker lines  for slab, fault, tracking"
   ]
  },
  {
   "cell_type": "code",
   "execution_count": 103,
   "metadata": {
    "collapsed": true,
    "deletable": true,
    "editable": true
   },
   "outputs": [],
   "source": [
    "def slab_top(trench, normal, gradientFn, ds, maxDepth, mesh):\n",
    "    \"\"\"\n",
    "    Create points representing the top of a slab from trench to maxDepth\n",
    "    \n",
    "    Parameter\n",
    "    ---------\n",
    "    trench : list or list like \n",
    "            Points represnting trench location, \n",
    "    normal: list or list like\n",
    "            vector in the horizontal plane normal to trench\n",
    "    gradientFn: function\n",
    "             function that returns the dip or the slab dz/ds \n",
    "             where s is the distance along the normal vector\n",
    "    ds: float\n",
    "            distance between points, in model coordinates\n",
    "    \n",
    "    max depth: float, or list or list like\n",
    "            Maximum depth of slab\n",
    "    mesh: uw 2 mesh   \n",
    "    \n",
    "    \"\"\"\n",
    "    \n",
    "    #convert everything to numpy arrays\n",
    "    trench = np.array(trench)\n",
    "    normal = np.array(normal)/np.linalg.norm(normal)\n",
    "    maxDepth = np.array(maxDepth)\n",
    "    \n",
    "    #test if gradientFn is a function   \n",
    "    points = []\n",
    "    points.append(list(trench))\n",
    "    \n",
    "    #set starting values\n",
    "    #normal/= np.linalg.norm(normal)#unitize\n",
    "    vertical = np.zeros(mesh.dim)\n",
    "    vertical[-1] = -1.\n",
    "\n",
    "    P0 = trench.copy()\n",
    "    F = gradientFn(0.)\n",
    "    #print(F)\n",
    "    H = 0.\n",
    "    V = 0.\n",
    "    #print(normal, F)\n",
    "    S = normal.copy()\n",
    "\n",
    "    S[-1] = F     #assumes the last component is vertical\n",
    "    S/= np.linalg.norm(S) #unitize\n",
    "\n",
    "    \n",
    "    while V < maxDepth:\n",
    "        \n",
    "        #Get next set of points\n",
    "        P1 = P0 + S*ds\n",
    "        points.append(list(P1))\n",
    "        P0 = P1\n",
    "        \n",
    "        #update, H, V, F, S\n",
    "        H +=  np.dot(S*ds, normal)\n",
    "        V +=  abs(((S*ds)[-1]))\n",
    "        F = gradientFn(H)        \n",
    "        S = normal.copy()\n",
    "        S[-1] = F     #assumes the last component is vertical\n",
    "        S/= np.linalg.norm(S) #unitize\n",
    "\n",
    "        \n",
    "        \n",
    "        \n",
    "    return(np.array(points))\n",
    "    "
   ]
  },
  {
   "cell_type": "code",
   "execution_count": 104,
   "metadata": {
    "collapsed": true,
    "deletable": true,
    "editable": true
   },
   "outputs": [],
   "source": [
    "#Create some slab gradient functions to use with slab_top()\n",
    "\n",
    "\n",
    "def linearGradientFn(S):\n",
    "    return np.tan(np.deg2rad(-45.))\n",
    "\n",
    "\n",
    "def circGradientFn(S):\n",
    "    if S == 0.:\n",
    "        return 0.\n",
    "    elif S < ndp.radiusOfCurv:\n",
    "        return -S/np.sqrt((ndp.radiusOfCurv**2 - S**2))\n",
    "    else:\n",
    "        return -1e5\n",
    "    \n",
    "    \n",
    "def polyGradientFn(S):\n",
    "    if S == 0.:\n",
    "        return 0.\n",
    "    else:\n",
    "        return -1*(S/ndp.radiusOfCurv)**2\n"
   ]
  },
  {
   "cell_type": "markdown",
   "metadata": {
    "deletable": true,
    "editable": true
   },
   "source": [
    "### slab top"
   ]
  },
  {
   "cell_type": "code",
   "execution_count": 105,
   "metadata": {
    "collapsed": true,
    "deletable": true,
    "editable": true
   },
   "outputs": [],
   "source": [
    "ds = 5e3/sf.lengthScale\n",
    "normal = [1.,0.]\n",
    "\n",
    "\n",
    "\n",
    "#data1 = slab_top([ndp.subZoneLoc, 1.0], normal, linearGradientFn, ds, ndp.maxDepth, mesh)\n",
    "data2 = slab_top([ndp.subZoneLoc, 1.0], normal, polyGradientFn, ds, ndp.maxDepth, mesh)\n",
    "#data3 = slab_top([ndp.subZoneLoc, 1.0], normal, circGradientFn, ds, ndp.maxDepth, mesh)"
   ]
  },
  {
   "cell_type": "code",
   "execution_count": 106,
   "metadata": {
    "collapsed": true,
    "deletable": true,
    "editable": true
   },
   "outputs": [],
   "source": [
    "slabxs = data2[:,0]\n",
    "slabys = data2[:,1]"
   ]
  },
  {
   "cell_type": "code",
   "execution_count": 107,
   "metadata": {
    "collapsed": true,
    "deletable": true,
    "editable": true
   },
   "outputs": [],
   "source": [
    "slabLine = markerLine2D(mesh, velocityField, slabxs, slabys, thicknessAtTrench, 1.)\n"
   ]
  },
  {
   "cell_type": "code",
   "execution_count": 108,
   "metadata": {
    "collapsed": false,
    "deletable": true,
    "editable": true
   },
   "outputs": [
    {
     "name": "stdout",
     "output_type": "stream",
     "text": [
      "1\n"
     ]
    }
   ],
   "source": [
    "#Assign the signed distance for the slab - in this case we only want the portion where the signed distance is positive\n",
    "\n",
    "\n",
    "#Note distance=2.*thicknessAtTrench: we actually want to allow distance greater than thicknessAtTrench in the kDTree query, \n",
    "#as some of these distances will not be orthogonal to the marker line, the dot product in the function will project these distances onto the normal vector\n",
    "#We'll cull distances greater than thicknessAtTrench with a numpy boolean slice - this is a big advantage in parallel\n",
    "\n",
    "\n",
    "sd, pts = slabLine.compute_signed_distance(swarm.particleCoordinates.data, distance=2.*thicknessAtTrench)\n",
    "signedDistanceVariable.data[np.logical_and(sd>0, sd<=slabLine.thickness)] = sd[np.logical_and(sd>0, sd<=slabLine.thickness)]\n",
    "\n",
    "\n",
    "\n",
    "#signedDistanceVariable.data[signedDistanceVariable.data > thicknessAtTrench] = 0.\n",
    "\n",
    "\n",
    "\n",
    "#signedDistanceVariable.data[:] = sd\n"
   ]
  },
  {
   "cell_type": "code",
   "execution_count": 109,
   "metadata": {
    "collapsed": false,
    "deletable": true,
    "editable": true
   },
   "outputs": [],
   "source": [
    "slabXConds = operator.and_(xFn > slabxs.min(), xFn < slabxs.max())\n",
    "slabYConds = depthFn < 1. - slabys.min()\n",
    "\n",
    "#Two functions we'll use to limit the region of the initial thermal stancil\n",
    "slabRegion =  fn.branching.conditional([(operator.and_(slabXConds,slabYConds), True),\n",
    "                          (True, False)])\n",
    "\n",
    "#slabCirc = inCircleFnGenerator((ndp.subZoneLoc, 1.0 - ndp.maxDepth), ndp.maxDepth)"
   ]
  },
  {
   "cell_type": "code",
   "execution_count": 110,
   "metadata": {
    "collapsed": false,
    "deletable": true,
    "editable": true
   },
   "outputs": [],
   "source": [
    "bufferlength = 1e3/sf.lengthScale\n",
    "\n",
    "plateDepthFn = fn.branching.conditional([(depthFn < thicknessAtTrench, depthFn),\n",
    "                                        (True, 1.)])\n",
    "\n",
    "#plateTempProxFn = fn.math.erf((depthFn*sf.lengthScale)/(2.3*fn.math.sqrt(dp.refDiffusivity*proxyageFn)))\n",
    "plateTempProxFn = ndp.potentialTemp*fn.math.erf((plateDepthFn)/(2.*fn.math.sqrt(1.*proxyageFn)))\n",
    "\n",
    "#slabTempProx  = fn.math.erf((signedDistanceVariable*sf.lengthScale)/(2.*fn.math.sqrt(dp.refDiffusivity*proxyageFn)))\n",
    "slabTempProx  = ndp.potentialTemp*fn.math.erf((signedDistanceVariable)/(2.*np.sqrt(1.*ndp.slabMaxAge)))\n",
    "\n",
    "\n",
    "proxytempConds = fn.branching.conditional([(signedDistanceVariable < bufferlength, plateTempProxFn),\n",
    "                          #(operator.and_(slabRegion, slabCirc), fn.misc.min(slabTempProx , plateTempProxFn)),\n",
    "                          (slabRegion,  fn.misc.min(slabTempProx , plateTempProxFn)),                 \n",
    "\n",
    "                          (True, plateTempProxFn)]) \n",
    "\n",
    "\n",
    "#*************CHECKPOINT-BLOCK**************#\n",
    "\n",
    "if not cp.restart:\n",
    "    proxyTempVariable.data[:] = proxytempConds.evaluate(swarm)\n",
    "\n",
    "#*************CHECKPOINT-BLOCK**************#\n"
   ]
  },
  {
   "cell_type": "markdown",
   "metadata": {
    "deletable": true,
    "editable": true
   },
   "source": [
    "### marker\n",
    "\n",
    "In this notebook, the markerLine helps us set up the weak interface material, as well as tracking various flow metrics\n",
    "\n",
    "It could also be used it to define a proximity of Transversely Isotropic frictional behaviour"
   ]
  },
  {
   "cell_type": "code",
   "execution_count": 111,
   "metadata": {
    "collapsed": false,
    "deletable": true,
    "editable": true
   },
   "outputs": [],
   "source": [
    "morexs = np.arange(mesh.minCoord[0] + 100e3/sf.lengthScale, ndp.subZoneLoc, ds)[:-1]\n",
    "moreys = mesh.maxCoord[1]*np.ones(morexs.shape)\n"
   ]
  },
  {
   "cell_type": "code",
   "execution_count": 112,
   "metadata": {
    "collapsed": false,
    "deletable": true,
    "editable": true
   },
   "outputs": [],
   "source": [
    "#Build marker: copy the slab line, then move using the normal vector (director)\n",
    "\n",
    "markerxs = np.concatenate((morexs,slabxs[:-2]))\n",
    "markerys = np.concatenate((moreys,slabys[:-2]))\n",
    "marker = markerLine2D(mesh, velocityField,markerxs, markerys, ndp.faultThickness,  1)\n",
    "\n",
    "with marker.swarm.deform_swarm():\n",
    "    marker.swarm.particleCoordinates.data[:] += marker.director.data*ndp.faultThickness\n",
    "    \n",
    "\n",
    "marker.rebuild()\n",
    "marker.swarm.update_particle_owners()"
   ]
  },
  {
   "cell_type": "code",
   "execution_count": 113,
   "metadata": {
    "collapsed": false,
    "deletable": true,
    "editable": true
   },
   "outputs": [
    {
     "name": "stdout",
     "output_type": "stream",
     "text": [
      "got to test point\n"
     ]
    }
   ],
   "source": [
    "print('got to test point')\n",
    "\n",
    "uw.barrier()"
   ]
  },
  {
   "cell_type": "code",
   "execution_count": 114,
   "metadata": {
    "collapsed": false,
    "deletable": true,
    "editable": true
   },
   "outputs": [
    {
     "name": "stdout",
     "output_type": "stream",
     "text": [
      "1\n"
     ]
    }
   ],
   "source": [
    "#inform the mesh of the marker\n",
    "\n",
    "sd, pts0 = marker.compute_signed_distance(swarm.particleCoordinates.data, distance=thicknessAtTrench)\n",
    "sp, pts0 = marker.compute_marker_proximity(swarm.particleCoordinates.data, distance=ndp.faultThickness)\n",
    "\n",
    "#*************CHECKPOINT-BLOCK**************#\n",
    "if not cp.restart:\n",
    "    materialVariable.data[np.logical_and(sd<0,sp == marker.ID)] = sp[np.logical_and(sd<0,sp == marker.ID)]\n",
    "#*************CHECKPOINT-BLOCK**************#\n",
    "\n",
    "    \n",
    "    \n",
    "#dv, nzv = marker.compute_normals(swarm.particleCoordinates.data)\n",
    "#directorVector.data[nzv] = dv[nzv]"
   ]
  },
  {
   "cell_type": "markdown",
   "metadata": {
    "deletable": true,
    "editable": true
   },
   "source": [
    "### surface"
   ]
  },
  {
   "cell_type": "code",
   "execution_count": 115,
   "metadata": {
    "collapsed": false,
    "deletable": true,
    "editable": true
   },
   "outputs": [
    {
     "name": "stderr",
     "output_type": "stream",
     "text": [
      "/usr/local/lib/python2.7/dist-packages/ipykernel/__main__.py:1: DeprecationWarning: object of type <type 'float'> cannot be safely interpreted as an integer.\n",
      "  if __name__ == '__main__':\n"
     ]
    }
   ],
   "source": [
    "surfacexs = np.linspace(mesh.minCoord[0], mesh.maxCoord[0], md.res*md.aspectRatio*2)\n",
    "surfaceys = np.ones(surfacexs.shape[0])\n",
    "surfaceLine = markerLine2D(mesh, velocityField,surfacexs, surfaceys , ndp.faultThickness,  2)"
   ]
  },
  {
   "cell_type": "code",
   "execution_count": 116,
   "metadata": {
    "collapsed": false,
    "deletable": true,
    "editable": true
   },
   "outputs": [],
   "source": [
    "#variables for surface\n",
    "\n",
    "surfVelx = uw.swarm.SwarmVariable(surfaceLine.swarm, 'double', 1)\n",
    "surfStrain = uw.swarm.SwarmVariable(surfaceLine.swarm, 'double', 1)\n",
    "surfVisc = uw.swarm.SwarmVariable(surfaceLine.swarm, 'double', 1)\n",
    "surfTgrad = uw.swarm.SwarmVariable(surfaceLine.swarm, 'double', 1)\n",
    "\n",
    "\n",
    "#variables for mid-lithsphere (saved on surface swarm)\n",
    "midlithEvalEvalPoints = uw.swarm.SwarmVariable(surfaceLine.swarm, 'double', 2)\n",
    "midlithVisc = uw.swarm.SwarmVariable(surfaceLine.swarm, 'double', 1)\n",
    "midlithSr2Inv = uw.swarm.SwarmVariable(surfaceLine.swarm, 'double', 1)\n",
    "midlithStrainTens = uw.swarm.SwarmVariable(surfaceLine.swarm, 'double', 3)"
   ]
  },
  {
   "cell_type": "markdown",
   "metadata": {
    "deletable": true,
    "editable": true
   },
   "source": [
    "## Interpolate to temperature field"
   ]
  },
  {
   "cell_type": "code",
   "execution_count": 117,
   "metadata": {
    "collapsed": false,
    "deletable": true,
    "editable": true
   },
   "outputs": [],
   "source": [
    "def swarmToTemp():\n",
    "\n",
    "    _ix, _weights, _dist = nn_evaluation(swarm.particleCoordinates.data, mesh.data, n=4, weighted=True)\n",
    "\n",
    "\n",
    "    #_dist.shape, mesh.data.shape\n",
    "    #if \n",
    "    tempMapTol = 0.2\n",
    "    tempMapMask = _dist.min(axis=1) < tempMapTol*(1. - mesh.minCoord[1])/mesh.elementRes[1] \n",
    "    \n",
    "    #temperatureField.data[:] = 0.\n",
    "    temperatureField.data[:] = ndp.potentialTemp #first set to dimensionless potential temp\n",
    "\n",
    "    #now used IDW to assign temp from particles to Field\n",
    "    #this is looking pretty ugly; nn_evaluation could use some grooming\n",
    "    temperatureField.data[:,0][tempMapMask] = np.average(proxyTempVariable.evaluate(swarm)[_ix][tempMapMask][:,:,0],weights=_weights[tempMapMask], axis=1)\n",
    "\n",
    "    #now cleanup any values that have fallen outside the Bcs\n",
    "\n",
    "    temperatureField.data[temperatureField.data > 1.] = ndp.potentialTemp\n",
    "    temperatureField.data[temperatureField.data < 0.] = 0.\n",
    "    \n",
    "    #and cleanup the BCs\n",
    "    \n",
    "    temperatureField.data[bWalls.data] = ndp.potentialTemp\n",
    "    temperatureField.data[tWalls.data] = 0.\n"
   ]
  },
  {
   "cell_type": "code",
   "execution_count": 118,
   "metadata": {
    "collapsed": true,
    "deletable": true,
    "editable": true
   },
   "outputs": [],
   "source": [
    "#map proxy temp (swarm var) to mesh variable\n",
    "\n",
    "if not cp.restart:\n",
    "    swarmToTemp()"
   ]
  },
  {
   "cell_type": "code",
   "execution_count": 119,
   "metadata": {
    "collapsed": false,
    "deletable": true,
    "editable": true
   },
   "outputs": [],
   "source": [
    "#fig= glucifer.Figure(quality=3, boundingBox= bBox)\n",
    "\n",
    "#fig.append( glucifer.objects.Surface(mesh, temperatureField ))\n",
    "#fig.append( glucifer.objects.Points(swarm, temperatureField, pointSize=2))\n",
    "#\n",
    "#fig.show()\n",
    "#fig.save_database('test.gldb')"
   ]
  },
  {
   "cell_type": "code",
   "execution_count": null,
   "metadata": {
    "collapsed": false,
    "deletable": true,
    "editable": true
   },
   "outputs": [],
   "source": []
  },
  {
   "cell_type": "markdown",
   "metadata": {
    "deletable": true,
    "editable": true
   },
   "source": [
    "## adiabatic temp correction"
   ]
  },
  {
   "cell_type": "code",
   "execution_count": 120,
   "metadata": {
    "collapsed": false,
    "deletable": true,
    "editable": true
   },
   "outputs": [],
   "source": [
    "#Adiabatic correction: this is added to the arrhenius laws to simulate the adiabatic component\n",
    "#We'll use a double linearisation of the adiabatic temp function:\n",
    "\n",
    "#ndp.tempGradMantle linearised at the mantle potential temp\n",
    "#dp.tempGradSlab linearised at typical slab temp\n",
    "\n",
    "\n",
    "tempAtTrench  = ndp.potentialTemp*math.erf((thicknessAtTrench)/(2.*math.sqrt(1.*ndp.slabMaxAge))) \n",
    "#this is the isotherm used to define the slab / mantle boundary, should be 0.9*Tp,\n",
    "\n",
    "\n",
    "dp.tempGradMantle, dp.tempGradSlab\n",
    "\n",
    "if md.thermal:\n",
    "    adiabaticCorrectFn = fn.branching.conditional([(temperatureField > tempAtTrench, depthFn*ndp.tempGradMantle), #idea is to make this arbitrarily complex\n",
    "                                      (True, depthFn*ndp.tempGradSlab) ])\n",
    "else:\n",
    "    adiabaticCorrectFn = fn.branching.conditional([(proxyTempVariable > tempAtTrench, depthFn*ndp.tempGradMantle), #idea is to make this arbitrarily complex\n",
    "                                      (True, depthFn*ndp.tempGradSlab) ])\n",
    "\n",
    "\n",
    "#This will need alteration if we are using non Global particles. The adiabaticCorrectFn will need to be wrapped in a \n",
    "#swarm.fn_particle_found() conditional"
   ]
  },
  {
   "cell_type": "code",
   "execution_count": 121,
   "metadata": {
    "collapsed": false,
    "deletable": true,
    "editable": true
   },
   "outputs": [],
   "source": [
    "#ndp.tempGradMantle\n",
    "#ndp.tempGradMantle"
   ]
  },
  {
   "cell_type": "code",
   "execution_count": 122,
   "metadata": {
    "collapsed": false,
    "deletable": true,
    "editable": true
   },
   "outputs": [],
   "source": [
    "#fig= glucifer.Figure(quality=3, boundingBox= bBox)\n",
    "\n",
    "#fig.append( glucifer.objects.Mesh(mesh ))\n",
    "#fig.append( glucifer.objects.Points(swarm, proxyTempVariable + adiabaticCorrectFn, pointSize=1))\n",
    "\n",
    "#fig.show()"
   ]
  },
  {
   "cell_type": "markdown",
   "metadata": {
    "deletable": true,
    "editable": true
   },
   "source": [
    "## Swarm densification\n",
    "\n",
    "Try to build our initial geometry with less particles that are required dynamically, then use population_control to fill out the swarm"
   ]
  },
  {
   "cell_type": "code",
   "execution_count": 123,
   "metadata": {
    "collapsed": true,
    "deletable": true,
    "editable": true
   },
   "outputs": [],
   "source": [
    "population_control = uw.swarm.PopulationControl(swarm, deleteThreshold=0.006, splitThreshold=0.25, maxDeletions=1, maxSplits=3, aggressive=True,aggressiveThreshold=0.9, particlesPerCell=int(md.ppc))\n",
    "\n",
    "\n",
    "#"
   ]
  },
  {
   "cell_type": "code",
   "execution_count": 124,
   "metadata": {
    "collapsed": false,
    "deletable": true,
    "editable": true
   },
   "outputs": [],
   "source": [
    "def repopulate():\n",
    "    thresh = 5000.\n",
    "    diff = thresh + 1\n",
    "    count = 1\n",
    "    maxLoops = 10\n",
    "    pg = np.copy(swarm.particleGlobalCount)\n",
    "    while abs(diff) > thresh and count < maxLoops + 1:\n",
    "        population_control.repopulate()\n",
    "        diff = swarm.particleGlobalCount - pg\n",
    "        pg = swarm.particleGlobalCount\n",
    "        #print(str(count), str(pg), str(diff))\n",
    "        count += 1\n",
    "    "
   ]
  },
  {
   "cell_type": "code",
   "execution_count": 125,
   "metadata": {
    "collapsed": false,
    "deletable": true,
    "editable": true
   },
   "outputs": [],
   "source": [
    "#run repop function\n",
    "repopulate()"
   ]
  },
  {
   "cell_type": "code",
   "execution_count": 126,
   "metadata": {
    "collapsed": false,
    "deletable": true,
    "editable": true
   },
   "outputs": [],
   "source": [
    "#((float(swarm.particleGlobalCount)/mesh.elementsGlobal))/md.ppc"
   ]
  },
  {
   "cell_type": "markdown",
   "metadata": {
    "deletable": true,
    "editable": true
   },
   "source": [
    "## MOR restriction Fn\n",
    "\n",
    "Use the temperature gradient to define a restriction around the Ridges\n",
    "This coud be used to determin locations for crust creation, etc."
   ]
  },
  {
   "cell_type": "code",
   "execution_count": 127,
   "metadata": {
    "collapsed": false,
    "deletable": true,
    "editable": true
   },
   "outputs": [],
   "source": [
    "depthMorTest = 50e3/sf.lengthScale\n",
    "\n",
    "nearSurfTempGrad = fn.branching.conditional( ((depthFn < depthMorTest, temperatureField.fn_gradient[1] ), \n",
    "                                           (True,                      0.)  ))\n",
    "\n",
    "morRestrictFn = fn.math.abs(nearSurfTempGrad) < 50.\n"
   ]
  },
  {
   "cell_type": "code",
   "execution_count": 128,
   "metadata": {
    "collapsed": false,
    "deletable": true,
    "editable": true
   },
   "outputs": [],
   "source": [
    "#%pylab inline\n",
    "#plt.scatter(mesh.data[tWalls.data][:,0],nearSurfTempGrad.evaluate(tWalls))\n",
    "#"
   ]
  },
  {
   "cell_type": "code",
   "execution_count": 129,
   "metadata": {
    "collapsed": false,
    "deletable": true,
    "editable": true
   },
   "outputs": [],
   "source": [
    "#fig= glucifer.Figure(quality=3, boundingBox= bBox)\n",
    "#fig.append( glucifer.objects.Surface(mesh,repopMaskFn))\n",
    "#fig.append( glucifer.objects.Points(swarm, morRestrictFn, pointSize=2))\n",
    "\n",
    "#fig.show()\n"
   ]
  },
  {
   "cell_type": "markdown",
   "metadata": {
    "deletable": true,
    "editable": true
   },
   "source": [
    "##  Material Graph"
   ]
  },
  {
   "cell_type": "code",
   "execution_count": 130,
   "metadata": {
    "collapsed": false,
    "deletable": true,
    "editable": true
   },
   "outputs": [],
   "source": [
    "###################\n",
    "#initial particle layout\n",
    "###################\n",
    "\n",
    "#Setup the graph object\n",
    "MG = MatGraph()\n",
    "\n",
    "#First thing to do is to add all the material types to the graph (i.e add nodes)\n",
    "MG.add_nodes_from(material_list)\n",
    "\n",
    "#mantle  => crust\n",
    "MG.add_transition((mantleID,crustID), depthFn, operator.lt, ndp.mantleCrustDepth)\n",
    "MG.add_transition((mantleID,crustID), morRestrictFn, operator.gt, 0.5)\n",
    "MG.add_transition((mantleID,crustID), xFn, operator.lt, ndp.subZoneLoc)\n",
    "\n",
    "                  \n",
    "#crust  => mantle                \n",
    "MG.add_transition((crustID, mantleID), depthFn, operator.gt, ndp.crustLimitDepth)\n",
    "\n",
    "MG.build_condition_list(materialVariable)\n",
    "\n",
    "if not cp.restart:\n",
    "    materialVariable.data[:] = fn.branching.conditional(MG.condition_list).evaluate(swarm)"
   ]
  },
  {
   "cell_type": "code",
   "execution_count": 131,
   "metadata": {
    "collapsed": false,
    "deletable": true,
    "editable": true
   },
   "outputs": [],
   "source": [
    "#Final particle transformation rules\n",
    "#restrict crust creation - avoid crust on the upper plate\n",
    "\n",
    "MG.remove_edges_from([(mantleID,crustID)])\n",
    "\n",
    "#mantle  => crust\n",
    "MG.add_transition((mantleID,crustID), depthFn, operator.lt, ndp.mantleCrustDepth)\n",
    "MG.add_transition((mantleID,crustID), morRestrictFn, operator.gt, 0.5)\n",
    "MG.add_transition((mantleID,crustID), xFn, operator.lt, (mesh.minCoord[0] - ndp.subZoneLoc)/2.)\n",
    "\n",
    "MG.build_condition_list(materialVariable)"
   ]
  },
  {
   "cell_type": "code",
   "execution_count": 132,
   "metadata": {
    "collapsed": false,
    "deletable": true,
    "editable": true
   },
   "outputs": [],
   "source": [
    "#fig3= glucifer.Figure(quality=3, boundingBox=bBox)\n",
    "#fig3.append( glucifer.objects.Points(swarm,materialVariable, pointSize=2))\n",
    "#fig3.show()\n",
    "#fig3.save_database('test.gldb')"
   ]
  },
  {
   "cell_type": "code",
   "execution_count": 133,
   "metadata": {
    "collapsed": false,
    "deletable": true,
    "editable": true
   },
   "outputs": [],
   "source": [
    "#ndp.crustLimitDepth *sf.lengthScale"
   ]
  },
  {
   "cell_type": "markdown",
   "metadata": {
    "deletable": true,
    "editable": true
   },
   "source": [
    "## choose temp field to use"
   ]
  },
  {
   "cell_type": "code",
   "execution_count": 134,
   "metadata": {
    "collapsed": true,
    "deletable": true,
    "editable": true
   },
   "outputs": [],
   "source": [
    "if md.thermal:\n",
    "    temperatureFn = temperatureField\n",
    "else:\n",
    "    temperatureFn = proxyTempVariable"
   ]
  },
  {
   "cell_type": "markdown",
   "metadata": {
    "deletable": true,
    "editable": true
   },
   "source": [
    "## Rheology"
   ]
  },
  {
   "cell_type": "code",
   "execution_count": 135,
   "metadata": {
    "collapsed": false,
    "deletable": true,
    "editable": true
   },
   "outputs": [],
   "source": [
    "#Set up any functions required by the rheology\n",
    "#strainRate_2ndInvariant.evaluate((0.000921625, 0.982207))"
   ]
  },
  {
   "cell_type": "code",
   "execution_count": 136,
   "metadata": {
    "collapsed": false,
    "deletable": true,
    "editable": true
   },
   "outputs": [],
   "source": [
    "\n",
    "symStrainrate = fn.tensor.symmetric( \n",
    "                            velocityField.fn_gradient )\n",
    "\n",
    "#Set up any functions required by the rheology\n",
    "strainRate_2ndInvariant = fn.tensor.second_invariant( \n",
    "                            fn.tensor.symmetric( \n",
    "                            velocityField.fn_gradient ))\n",
    "\n",
    "\n",
    "\n",
    "def safe_visc(func, viscmin=ndp.viscosityMin, viscmax=ndp.viscosityMax):\n",
    "    return fn.misc.max(viscmin, fn.misc.min(viscmax, func))\n",
    "\n",
    "\n",
    "\n",
    "#Add some portion of dynamic pressure to the depth-dependent Yield function\n",
    "#dynamicPressureProxyDepthFn = pressureField/ndp.rayleigh\n",
    "dynamicPressureProxyDepthFn = pressureField/sf.pressureDepthGrad\n",
    "\n",
    "druckerDepthFn = fn.misc.max(0.0, depthFn + md.druckerAlpha*(dynamicPressureProxyDepthFn))\n",
    "druckerFaultDepthFn = fn.misc.max(0.0, depthFn + md.druckerAlphaFault*(dynamicPressureProxyDepthFn))"
   ]
  },
  {
   "cell_type": "code",
   "execution_count": 137,
   "metadata": {
    "collapsed": false,
    "deletable": true,
    "editable": true
   },
   "outputs": [],
   "source": [
    "#(#1./ndp.interfacePreExp)*\\\n",
    "  #    fn.math.exp( ((ndp.interfaceEnergy + (depthFn*ndp.interfaceVolume))/((temperatureFn+ adiabaticCorrectFn + ndp.surfaceTemp))))\n",
    "#ndp.interfacePreExp, ndp.interfaceEnergy, ndp.interfaceVolume, ndp.surfaceTemp"
   ]
  },
  {
   "cell_type": "code",
   "execution_count": 138,
   "metadata": {
    "collapsed": false,
    "deletable": true,
    "editable": true
   },
   "outputs": [],
   "source": [
    "##Diffusion Creep\n",
    "diffusionUM = (1./ndp.diffusionPreExp)*\\\n",
    "            fn.math.exp( ((ndp.diffusionEnergy + (depthFn*ndp.diffusionVolume))/((temperatureFn+ adiabaticCorrectFn + ndp.surfaceTemp))))\n",
    "\n",
    "diffusionLM = ndp.lowerMantleViscFac*(1./ndp.lowerMantlePreExp)*\\\n",
    "            fn.math.exp( ((ndp.lowerMantleEnergy + (depthFn*ndp.lowerMantleVolume))/((temperatureFn+ adiabaticCorrectFn + ndp.surfaceTemp))))\n",
    "\n",
    "\n",
    "diffusionInterface = (1./ndp.interfacePreExp)*\\\n",
    "            fn.math.exp( ((ndp.interfaceEnergy + (depthFn*ndp.interfaceVolume))/((temperatureFn+ adiabaticCorrectFn + ndp.surfaceTemp))))\n",
    "\n",
    "    \n",
    "    \n",
    "diffusion = fn.branching.conditional( ((depthFn < ndp.lowerMantleDepth, diffusionUM ), \n",
    "                                           (True,                      diffusionLM )  ))\n",
    "\n",
    "#interfaceDiffusion = fn.branching.conditional( ((depthFn < ndp.lowerMantleDepth, diffusionInterface ), \n",
    "#                                           (True,                      diffusionLM )  ))\n",
    " \n",
    "#interfaceDiffusion = safe_visc(interfaceDiffusion, viscmax=1e5)\n",
    "\n",
    "    \n",
    "diffusion = safe_visc(diffusion, viscmax=1e5)\n",
    "\n",
    "\n",
    "    \n",
    "#Define the mantle Plasticity\n",
    "ys =  ndp.cohesionMantle + (druckerDepthFn*ndp.frictionMantle)\n",
    "ysf = fn.misc.min(ys, ndp.yieldStressMax)\n",
    "yielding = ysf/(2.*(strainRate_2ndInvariant) + 1e-15) \n",
    "\n",
    "\n",
    "\n"
   ]
  },
  {
   "cell_type": "code",
   "execution_count": 139,
   "metadata": {
    "collapsed": true,
    "deletable": true,
    "editable": true
   },
   "outputs": [],
   "source": [
    "##Crust plasticity\n",
    "crustys =  ndp.cohesionCrust + (druckerFaultDepthFn*ndp.frictionCrust)\n",
    "crustysf = fn.misc.min(crustys, ndp.yieldStressMax)\n",
    "#crustYielding0 = crustysf/(2.*(strainRate_2ndInvariant) + 1e-15) \n"
   ]
  },
  {
   "cell_type": "code",
   "execution_count": 142,
   "metadata": {
    "collapsed": true,
    "deletable": true,
    "editable": true
   },
   "outputs": [],
   "source": [
    "#md.specialCaseL = 4"
   ]
  },
  {
   "cell_type": "code",
   "execution_count": 220,
   "metadata": {
    "collapsed": false,
    "deletable": true,
    "editable": true
   },
   "outputs": [],
   "source": [
    "###This whole bit is going to handle some special cases\n",
    "###providing viscous approximations to different megathrust stress profiles\n",
    "\n",
    "#Rheology ad-hoc crust viscosuty\n",
    "dp.bdt = 50e3\n",
    "dp.decouple = 100e3\n",
    "#dp.velCmY = 4.\n",
    "dp.strainRate = ((dp.velCmY*1e-2)/(3600*24*365))/ (dp.faultThickness)\n",
    "dp.stressBdt = dp.cohesionCrust + dp.frictionCrust*(dp.refDensity*dp.refGravity*dp.bdt)\n",
    "dp.effViscBdt =  (dp.stressBdt/ (2*dp.strainRate ))\n",
    "dp.stressD = 1e6\n",
    "dp.effViscD = (dp.stressD)/ (2*dp.strainRate )\n",
    "dp.stressConst = 10e6\n",
    "dp.effViscC = (dp.stressConst)/ (2*dp.strainRate )\n",
    "                  \n",
    "\n",
    "\n",
    "#Set up a bunch of stresses and effective viscosities for a given subduction velocity / interface width\n",
    "ndp.strainRate = dp.strainRate/sf.strainRate\n",
    " \n",
    "ndp.bdt = dp.bdt/sf.lengthScale\n",
    "ndp.decouple = dp.decouple/sf.lengthScale\n",
    "ndp.stressBdt= dp.stressBdt/sf.stress\n",
    "ndp.effViscBdt = dp.effViscBdt/sf.viscosityScale\n",
    "ndp.stressD = dp.stressD/sf.stress\n",
    "ndp.effViscD = dp.effViscD/sf.viscosityScale\n",
    "ndp.effViscC = dp.effViscC/sf.viscosityScale\n",
    "\n",
    "\n",
    "#Flags allow us to control the stress profiles independently in the upper (< Bdt) and lower interface\n",
    "\n",
    "#deafaul is psuedo-plastic byerlee law (uppper lower visc. limits will also apply)\n",
    "crustyieldingB = crustysf/(2.*(strainRate_2ndInvariant) + 1e-15) \n",
    "\n",
    "#these alter the visc. in the upper part of the interface\n",
    "if md.specialCaseU ==1:\n",
    "    crustyieldingB  = crustysf/(2.*(ndp.strainRate)) #approx-Byerlee upper\n",
    "if md.specialCaseU ==2:\n",
    "    crustyieldingB  = ndp.effViscBdt #constant approx BDT stress in upper \n",
    "if md.specialCaseU ==3:\n",
    "    crustyieldingB  = ndp.effViscC #arbitrary constant stress in upper\n",
    "\n",
    "\n",
    "#Default for whole inteface is whatever we chose for upper... unless\n",
    "crustyielding0 = crustyieldingB\n",
    "\n",
    "#explicitly change the viscosity in the lower part of the interface\n",
    "#special cases\n",
    "if md.specialCaseL==1:\n",
    "    crustyielding0 = crustyieldingB #approx-Byerlee lower\n",
    "#special cases\n",
    "if md.specialCaseL==2: #constant approx BDT stress in lower\n",
    "    crustyielding0 = fn.branching.conditional( ((depthFn < ndp.bdt, crustyieldingB ), \n",
    "                                           (True,                      ndp.effViscBdt)  ))\n",
    "#special cases\n",
    "if md.specialCaseL==3: #decreasing stress in the lower\n",
    "    slopeEta = (ndp.effViscBdt - ndp.effViscD)/(ndp.bdt - ndp.decouple)\n",
    "    reducingViscFn = slopeEta*depthFn - (slopeEta*ndp.bdt) + ndp.effViscBdt\n",
    "    crustyielding0 = fn.branching.conditional( ((depthFn < ndp.bdt, crustyieldingB ),\n",
    "                                                (operator.and_(depthFn > ndp.bdt, depthFn < ndp.decouple),  reducingViscFn),\n",
    "                                           (True,                      ndp.effViscD)  ))\n",
    "    \n",
    "#special cases\n",
    "if md.specialCaseL==4: #decreasing stress in the lower\n",
    "    effStressLower = md.deepCohesionFac*(ndp.stressBdt) + md.deepFcFac*((depthFn - ndp.bdt) *ndp.frictionCrust)\n",
    "    effViscLower = fn.misc.max(ndp.viscosityMinCrust, effStressLower /(2.*ndp.strainRate + 1e-15))\n",
    "\n",
    "    crustyielding0 = fn.branching.conditional( ((depthFn < ndp.bdt, crustyieldingB ), \n",
    "                                           (True,                      effViscLower)  ))\n"
   ]
  },
  {
   "cell_type": "code",
   "execution_count": null,
   "metadata": {
    "collapsed": false,
    "deletable": true,
    "editable": true
   },
   "outputs": [],
   "source": []
  },
  {
   "cell_type": "code",
   "execution_count": 222,
   "metadata": {
    "collapsed": true,
    "deletable": true,
    "editable": true
   },
   "outputs": [],
   "source": [
    "def cosine_taper(increasingFn, startval, width):\n",
    "    cosinusoid= 0.5*(1. - fn.math.cos((np.pi*(increasingFn - startval))/(width)) )\n",
    "    taperFn = fn.branching.conditional( ((increasingFn < startval, 0. ),\n",
    "                                            (increasingFn > (startval + width), 1. ), \n",
    "                                           (True,                      cosinusoid)  ))\n",
    "    return taperFn\n",
    "    "
   ]
  },
  {
   "cell_type": "code",
   "execution_count": 69,
   "metadata": {
    "collapsed": false,
    "deletable": true,
    "editable": true
   },
   "outputs": [],
   "source": [
    "#This bit phases out the weak crust (effective plastic viscosity and visc. max) over specified depths\n",
    "depthTaperFn = cosine_taper(depthFn, ndp.crustViscCutoffDepth, ndp.crustViscEndWidth)\n",
    "\n",
    "crustyielding = crustyielding0*(1. - depthTaperFn) + depthTaperFn*yielding\n",
    "viscmaxCrustFn = ndp.viscosityMaxCrust*(1. - depthTaperFn) + depthTaperFn*ndp.viscosityMax\n",
    "\n",
    "\n",
    "\n",
    "#combined rheologies\n",
    "\n",
    "mantleViscosityFn = safe_visc(fn.misc.min(diffusion, yielding), viscmin=ndp.viscosityMin, viscmax=ndp.viscosityMax)\n",
    "#interfaceViscosityFn = safe_visc(fn.misc.min(diffusion, crustyielding), viscmin=ndp.viscosityMinCrust, viscmax=viscmaxCrustFn)\n",
    "\n",
    "#for the moment both the byerlee effective viscosity, and the ad-hoc deep interface visc. are contained in crustyielding\n",
    "interfaceViscosityFn = safe_visc(crustyielding, viscmin=ndp.viscosityMinCrust, viscmax=viscmaxCrustFn)"
   ]
  },
  {
   "cell_type": "code",
   "execution_count": 70,
   "metadata": {
    "collapsed": false,
    "deletable": true,
    "editable": true
   },
   "outputs": [],
   "source": [
    "viscosityMapFn = fn.branching.map( fn_key = materialVariable,\n",
    "                         mapping = {0:mantleViscosityFn,\n",
    "                                    1:interfaceViscosityFn} )\n",
    "\n",
    "\n"
   ]
  },
  {
   "cell_type": "code",
   "execution_count": 71,
   "metadata": {
    "collapsed": false,
    "deletable": true,
    "editable": true
   },
   "outputs": [],
   "source": [
    "#ctanhFn0 = 0.5*(1. + fn.math.sin((np.pi*(depthFn - ndp.crustViscCutoffDepth))/(ndp.crustViscEndWidth*20)))\n",
    "#ndp.crustViscCutoffDepth*sf.lengthScale, ndp.crustViscEndWidth*sf.lengthScale"
   ]
  },
  {
   "cell_type": "code",
   "execution_count": null,
   "metadata": {
    "collapsed": true,
    "deletable": true,
    "editable": true
   },
   "outputs": [],
   "source": []
  },
  {
   "cell_type": "code",
   "execution_count": 221,
   "metadata": {
    "collapsed": false,
    "deletable": true,
    "editable": true
   },
   "outputs": [
    {
     "name": "stdout",
     "output_type": "stream",
     "text": [
      "Populating the interactive namespace from numpy and matplotlib\n"
     ]
    },
    {
     "data": {
      "text/plain": [
       "(0.0, 2.0)"
      ]
     },
     "execution_count": 221,
     "metadata": {},
     "output_type": "execute_result"
    },
    {
     "data": {
      "image/png": "[encoded data removed]",
      "text/plain": [
       "<matplotlib.figure.Figure at 0x7fc1d043a250>"
      ]
     },
     "metadata": {},
     "output_type": "display_data"
    }
   ],
   "source": [
    "#depthTaperFn = cosine_taper(depthFn, ndp.crustViscCutoffDepth, ndp.crustViscEndWidth)\n",
    "\n",
    "#ctanhFn0 = 0.5*(1. - fn.math.cos((np.pi*(depthFn - ndp.crustViscCutoffDepth))/(ndp.crustViscEndWidth)) ) \n",
    "\n",
    "\n",
    "#ctanhFn1 = fn.branching.conditional( ((depthFn < ndp.crustViscCutoffDepth, 0. ),\n",
    "#                                            (depthFn > ndp.crustViscCutoffDepth + ndp.crustViscEndWidth, 1. ), \n",
    "#                                           (True,                      ctanhFn0)  ))\n",
    "\n",
    "#lWalls = mesh.specialSets[\"MinI_VertexSet\"]\n",
    "\n",
    "#%pylab inline\n",
    "#fig = plt.Figure()\n",
    "#ax1  = plt.subplot(1,1,1)\n",
    "\n",
    "#ax1.plot(interfaceDiffusion.evaluate(iWalls)[:,0], sf.lengthScale*(1. - mesh.data[iWalls.data][:,1])/1e3, )\n",
    "#ax1.plot(diffusion.evaluate(iWalls)[:,0], sf.lengthScale*(1. - mesh.data[iWalls.data][:,1])/1e3, )\n",
    "#ax1.plot(FaultVisc, sf.lengthScale/1e3*(1. - markerEvalPoints[:,1]) )\n",
    "\n",
    "#lWalls = mesh.specialSets[\"MinI_VertexSet\"]\n",
    "\n",
    "#crustyielding0.evaluate(lWalls)\n",
    "\n",
    "\n",
    "\n",
    "#plt.vlines(ndp.crustViscCutoffDepth*sf.lengthScale/1e3, 0, 1)\n",
    "#plt.vlines(ndp.crustViscCutoffDepth*sf.lengthScale/1e3 - 50, 0, 1e5)\n",
    "#plt.vlines(ndp.crustViscCutoffDepth*sf.lengthScale/1e3 + 50, 0, 1e5)\n",
    "\n",
    "#ax1.set_xscale('log')\n",
    "#ax1.set_ylim(250., 0.)\n",
    "\n",
    "#ax1.plot( ((1 - coordinate.evaluate(lWalls))[:,1])*sf.lengthScale/1e3, ctanhFn.evaluate(lWalls)[:,0])\n",
    "#ax1.plot( ((1 - coordinate.evaluate(lWalls))[:,1])*sf.lengthScale/1e3, ctanhFn0.evaluate(lWalls)[:,0])\n",
    "#ax1.plot( ((1 - coordinate.evaluate(lWalls))[:,1])*sf.lengthScale/1e3, depthTaperFn.evaluate(lWalls)[:,0])\n",
    "#ax1.plot( ((1 - coordinate.evaluate(lWalls))[:,1])*sf.lengthScale/1e3, depthTaperFn.evaluate(lWalls)[:,0])\n",
    "\n",
    "\n",
    "#ax1.scatter( ((1 - coordinate.evaluate(lWalls))[:,1])*sf.lengthScale/1e3, crustyielding0.evaluate(lWalls)[:,0])\n",
    "\n",
    "#ax1.set_xlim(0., 200.)\n",
    "#ax1.set_ylim(0., 2.)"
   ]
  },
  {
   "cell_type": "code",
   "execution_count": 73,
   "metadata": {
    "collapsed": false,
    "deletable": true,
    "editable": true
   },
   "outputs": [],
   "source": [
    "#fig3= glucifer.Figure(quality=3, boundingBox=bBox)\n",
    "#fig3.append( glucifer.objects.Surface(mesh,viscmaxCrustFn, pointSize=2))\n",
    "#fig3.show()\n",
    "#fig3.save_database('test.gldb')"
   ]
  },
  {
   "cell_type": "markdown",
   "metadata": {
    "collapsed": false,
    "deletable": true,
    "editable": true
   },
   "source": [
    "lWalls = mesh.specialSets[\"MinI_VertexSet\"]\n",
    "testG = temperatureFn + adiabaticCorrectFn + ndp.surfaceTemp\n",
    "\n",
    "%pylab inline\n",
    "#vals = diffusion.evaluate(mesh.data[iWalls.data])[:,0]\n",
    "vals = testG.evaluate(mesh.data[lWalls.data])[:,0]\n",
    "\n",
    "fig, ax = plt.subplots()\n",
    "\n",
    "#ax.plot(vals[0:-1] - vals[1:])\n",
    "ax.plot(mesh.data[lWalls.data][:,1], vals)\n",
    "#ax.plot(mesh.data[lWalls.data][:,1], depthFn.evaluate(mesh.data[lWalls.data]))\n",
    "\n",
    "\n",
    "ax.set_xlim(0.65, 1)"
   ]
  },
  {
   "cell_type": "code",
   "execution_count": null,
   "metadata": {
    "collapsed": true,
    "deletable": true,
    "editable": true
   },
   "outputs": [],
   "source": []
  },
  {
   "cell_type": "markdown",
   "metadata": {
    "collapsed": false,
    "deletable": true,
    "editable": true
   },
   "source": [
    "diffusionLM = ndp.lowerMantleViscFac*(1./ndp.lowerMantlePreExp)*\\\n",
    "            fn.math.exp( ((ndp.lowerMantleEnergy + (depthFn*ndp.lowerMantleVolume))/((temperatureFn+ adiabaticCorrectFn + ndp.surfaceTemp))))\n",
    "\n",
    "%pylab inline\n",
    "\n",
    "fig, ax = plt.subplots()\n",
    "ax.scatter(diffusion.evaluate(mesh.data[iWalls.data])[:,0], mesh.data[iWalls.data][:,1] )\n",
    "ax.scatter(diffusionLM.evaluate(mesh.data[iWalls.data])[:,0], mesh.data[iWalls.data][:,1] )\n",
    "\n",
    "ax.set_xlim(0.01, 1000)\n",
    "ax.set_ylim(0.65, 1)\n",
    "ax.set_xscale('log')"
   ]
  },
  {
   "cell_type": "markdown",
   "metadata": {
    "deletable": true,
    "editable": true
   },
   "source": [
    "## Buoyancy "
   ]
  },
  {
   "cell_type": "code",
   "execution_count": 197,
   "metadata": {
    "collapsed": true,
    "deletable": true,
    "editable": true
   },
   "outputs": [],
   "source": [
    "#md.compBuoyancy = True"
   ]
  },
  {
   "cell_type": "markdown",
   "metadata": {
    "collapsed": true,
    "deletable": true,
    "editable": true
   },
   "source": [
    "#Thermal Buoyancy\n",
    "\n",
    "z_hat = ( 0.0, 1.0 )\n",
    "\n",
    "\n",
    "if md.thermal:\n",
    "    thermalBuoyancyFn = ndp.rayleigh*temperatureField\n",
    "else:\n",
    "    thermalBuoyancyFn = ndp.rayleigh*proxyTempVariable"
   ]
  },
  {
   "cell_type": "code",
   "execution_count": null,
   "metadata": {
    "collapsed": true,
    "deletable": true,
    "editable": true
   },
   "outputs": [],
   "source": [
    "#Thermal Buoyancy\n",
    "\n",
    "z_hat = ( 0.0, -1.0 )\n",
    "\n",
    "\n",
    "if md.thermal:\n",
    "    thermalBuoyancyFn = ndp.rayleigh*(1. - temperatureField)\n",
    "else:\n",
    "    thermalBuoyancyFn = ndp.rayleigh*(1. - proxyTempVariable)"
   ]
  },
  {
   "cell_type": "code",
   "execution_count": null,
   "metadata": {
    "collapsed": false,
    "deletable": true,
    "editable": true
   },
   "outputs": [],
   "source": [
    "#Set up compositional buoyancy contributions\n",
    "\n",
    "\n",
    "buoyancy_factor = (dp.refGravity*sf.lengthScale**3)/(sf.viscosityScale*dp.refDiffusivity)\n",
    "\n",
    "air_comp_buoyancy  = (dp.refDensity - 1000.)*buoyancy_factor          #roughly sea-water density\n",
    "basalt_comp_buoyancy  = (dp.refDensity - 2940.)*buoyancy_factor       #\n",
    "#harz_comp_buoyancy = (dp.refDensity - 3235.)*buoyancy_factor\n",
    "pyrolite_comp_buoyancy = (dp.refDensity - 3300.)*buoyancy_factor\n",
    "\n",
    "\n",
    "#if we're using a thicker crust for numerical resolution, make a bouyancy adjustment\n",
    "averageCrustThickness = 6e3\n",
    "basalt_comp_buoyancy *=(averageCrustThickness/dp.mantleCrustDepth)"
   ]
  },
  {
   "cell_type": "code",
   "execution_count": null,
   "metadata": {
    "collapsed": false,
    "deletable": true,
    "editable": true
   },
   "outputs": [],
   "source": [
    "if not md.compBuoyancy:\n",
    "    pyrolitebuoyancyFn =  (thermalBuoyancyFn)*z_hat\n",
    "#    harzbuoyancyFn =      (ndp.RA*temperatureField) \n",
    "    basaltbuoyancyFn =    (thermalBuoyancyFn)*z_hat\n",
    "    \n",
    "    airbuoyancyFn =    (fn.misc.constant(air_comp_buoyancy))*z_hat\n",
    "\n",
    "else : \n",
    "    pyrolitebuoyancyFn =  (thermalBuoyancyFn - pyrolite_comp_buoyancy)*z_hat\n",
    "#    harzbuoyancyFn =      (ndp.RA*temperatureField*taFn) -\\\n",
    "#                           harz_comp_buoyancy\n",
    "    basaltbuoyancyFn =    (thermalBuoyancyFn - basalt_comp_buoyancy)*z_hat\n",
    "    \n",
    "    airbuoyancyFn =    (fn.misc.constant(air_comp_buoyancy))*z_hat\n",
    "                           \n",
    "                           \n",
    "                           \n",
    "buoyancyMapFn = fn.branching.map( fn_key = materialVariable,\n",
    "                         mapping = {airID:airbuoyancyFn ,\n",
    "                                    crustID:basaltbuoyancyFn, \n",
    "                                    mantleID:pyrolitebuoyancyFn} )\n",
    "#                                    harzIndex:harzbuoyancyFn} )"
   ]
  },
  {
   "cell_type": "code",
   "execution_count": null,
   "metadata": {
    "collapsed": false,
    "deletable": true,
    "editable": true
   },
   "outputs": [],
   "source": [
    "fig= glucifer.Figure(quality=3, boundingBox= bBox)\n",
    "\n",
    "fig.append( glucifer.objects.Points(swarm, buoyancyMapFn[1], pointSize=2))\n",
    "#fig.show()\n"
   ]
  },
  {
   "cell_type": "code",
   "execution_count": null,
   "metadata": {
    "collapsed": false,
    "deletable": true,
    "editable": true
   },
   "outputs": [],
   "source": []
  },
  {
   "cell_type": "markdown",
   "metadata": {
    "deletable": true,
    "editable": true
   },
   "source": [
    "## Any other functions we'll need"
   ]
  },
  {
   "cell_type": "code",
   "execution_count": null,
   "metadata": {
    "collapsed": true,
    "deletable": true,
    "editable": true
   },
   "outputs": [],
   "source": [
    "###################\n",
    "#Create integral, max/min templates \n",
    "###################\n",
    "\n",
    "\n",
    "globRestFn = 1.\n",
    "\n",
    "def volumeint(Fn = 1., rFn=globRestFn):\n",
    "    return uw.utils.Integral( Fn*rFn,  mesh )\n",
    "\n",
    "def surfint(Fn = 1., rFn=globRestFn, surfaceIndexSet=mesh.specialSets[\"MaxJ_VertexSet\"]):\n",
    "    return uw.utils.Integral( Fn*rFn, mesh=mesh, integrationType='Surface', surfaceIndexSet=surfaceIndexSet)\n",
    "\n",
    "def maxMin(Fn = 1.):\n",
    "    #maxMin(Fn = 1., rFn=globRestFn\n",
    "    #vuFn = fn.view.min_max(Fn*rFn) #the restriction functions don't work with the view.min_max fn yet\n",
    "    vuFn = fn.view.min_max(Fn)\n",
    "    return vuFn"
   ]
  },
  {
   "cell_type": "code",
   "execution_count": null,
   "metadata": {
    "collapsed": true,
    "deletable": true,
    "editable": true
   },
   "outputs": [],
   "source": [
    "#marker.compute_signed_distance"
   ]
  },
  {
   "cell_type": "markdown",
   "metadata": {
    "deletable": true,
    "editable": true
   },
   "source": [
    "## Stokes system and solver"
   ]
  },
  {
   "cell_type": "code",
   "execution_count": null,
   "metadata": {
    "collapsed": false,
    "deletable": true,
    "editable": true
   },
   "outputs": [],
   "source": [
    "print('got to Stokes')"
   ]
  },
  {
   "cell_type": "code",
   "execution_count": null,
   "metadata": {
    "collapsed": true,
    "deletable": true,
    "editable": true
   },
   "outputs": [],
   "source": [
    "#velocityField.data[:] = 0.\n",
    "#pressureField.data[:] = 0."
   ]
  },
  {
   "cell_type": "code",
   "execution_count": null,
   "metadata": {
    "collapsed": false,
    "deletable": true,
    "editable": true
   },
   "outputs": [],
   "source": [
    "stokesPIC = uw.systems.Stokes( velocityField  = velocityField, \n",
    "                                   pressureField  = pressureField,\n",
    "                                   conditions     = [freeslipBC,],\n",
    "                                   fn_viscosity   = viscosityMapFn, \n",
    "                                   fn_bodyforce   = buoyancyMapFn )\n",
    "\n"
   ]
  },
  {
   "cell_type": "code",
   "execution_count": null,
   "metadata": {
    "collapsed": false,
    "deletable": true,
    "editable": true
   },
   "outputs": [],
   "source": [
    "solver = uw.systems.Solver(stokesPIC)\n",
    "\n",
    "\n",
    "if md.penaltyMethod:\n",
    "    solver.set_inner_method(\"mumps\")\n",
    "    solver.options.scr.ksp_type=\"cg\"\n",
    "    solver.set_penalty(1.0e7)\n",
    "    solver.options.scr.ksp_rtol = 1.0e-4\n",
    "\n",
    "else:\n",
    "    solver.options.main.Q22_pc_type='gkgdiag'\n",
    "    solver.options.scr.ksp_rtol=5e-5\n",
    "    solver.set_inner_method('mg')\n",
    "    solver.options.mg.levels = 4\n",
    "    \n",
    "    \n",
    "    \n",
    "#avoid this solve if restarting\n",
    "if not cp.restart:\n",
    "    solver.solve(nonLinearIterate=True, nonLinearTolerance=md.nltol)\n",
    "    solver.print_stats()"
   ]
  },
  {
   "cell_type": "code",
   "execution_count": null,
   "metadata": {
    "collapsed": false,
    "deletable": true,
    "editable": true
   },
   "outputs": [],
   "source": [
    "#remove drift in pressure\n",
    "_pressure = surfint(pressureField)\n",
    "_surfLength = surfint()\n",
    "surfLength = _surfLength.evaluate()[0]\n",
    "\n",
    "pressureSurf = _pressure.evaluate()[0]   \n",
    "pressureField.data[:] -= pressureSurf/surfLength"
   ]
  },
  {
   "cell_type": "code",
   "execution_count": null,
   "metadata": {
    "collapsed": false,
    "deletable": true,
    "editable": true
   },
   "outputs": [],
   "source": [
    "#This is the dynamic pressure converted to a proxy dimensionless depth, so it can be composed with the Byerlee's law\n",
    "#dynamicPressureProxyDepthFn = pressureField/ndp.rayleigh\n",
    "#cp.restart"
   ]
  },
  {
   "cell_type": "code",
   "execution_count": 198,
   "metadata": {
    "collapsed": false,
    "deletable": true,
    "editable": true
   },
   "outputs": [
    {
     "data": {
      "text/html": [
       "<img src='data:image/png;base64,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'>"
      ],
      "text/plain": [
       "<IPython.core.display.HTML object>"
      ]
     },
     "metadata": {},
     "output_type": "display_data"
    }
   ],
   "source": [
    "#fig= glucifer.Figure(quality=3)\n",
    "\n",
    "#fig.append( glucifer.objects.Mesh(mesh, opacity=0.2))\n",
    "#fig.append( glucifer.objects.Points(swarm, dynamicPressureProxyDepthFn + depthFn, pointSize=2))\n",
    "#fig.append( glucifer.objects.Points(swarm, viscosityMapFn, pointSize=2))\n",
    "\n",
    "#fig.append( glucifer.objects.Points(marker.swarm,  pointSize=2))\n",
    "\n",
    "#fig.append( glucifer.objects.VectorArrows(mesh, velocityField, arrowHead=1, scaling=0.00005))\n",
    "#fig.append( glucifer.objects.Surface(mesh,difftanhFn ))\n",
    "#fig.show()\n",
    "#fig.save_database('test.gldb')"
   ]
  },
  {
   "cell_type": "code",
   "execution_count": null,
   "metadata": {
    "collapsed": false,
    "deletable": true,
    "editable": true
   },
   "outputs": [],
   "source": [
    "#%pylab inline\n",
    "#plt.scatter(mesh.data[tWalls.data][:,0], pressureField.evaluate(mesh.data[tWalls.data] - (0., 20e3/sf.lengthScale)), s=0.5) \n",
    "#plt.scatter(mesh.data[tWalls.data][:,0], pressureField.evaluate(tWalls), s=0.5) \n"
   ]
  },
  {
   "cell_type": "markdown",
   "metadata": {
    "deletable": true,
    "editable": true
   },
   "source": [
    "## Setup advection-diffusion, swarm advection"
   ]
  },
  {
   "cell_type": "code",
   "execution_count": null,
   "metadata": {
    "collapsed": true,
    "deletable": true,
    "editable": true
   },
   "outputs": [],
   "source": [
    "advector = uw.systems.SwarmAdvector( swarm=swarm, velocityField=velocityField, order=2 )\n",
    "\n",
    "\n",
    "\n",
    "\n",
    "if md.thermal:\n",
    "    advDiff = uw.systems.AdvectionDiffusion( phiField       = temperatureField, \n",
    "                                         phiDotField    = temperatureDotField, \n",
    "                                         velocityField  = velocityField,\n",
    "                                         fn_sourceTerm    = 0.0,\n",
    "                                         fn_diffusivity = 1., \n",
    "                                         #conditions     = [neumannTempBC, dirichTempBC] )\n",
    "                                         conditions     = [ dirichTempBC] )\n"
   ]
  },
  {
   "cell_type": "markdown",
   "metadata": {
    "deletable": true,
    "editable": true
   },
   "source": [
    "## Initial thermal diffusion\n",
    "\n",
    "Working, but not tuned or tested"
   ]
  },
  {
   "cell_type": "code",
   "execution_count": null,
   "metadata": {
    "collapsed": true,
    "deletable": true,
    "editable": true
   },
   "outputs": [],
   "source": [
    "if md.diffuseInitial and md.thermal:\n",
    "\n",
    "    velocityField0   = uw.mesh.MeshVariable( mesh=mesh,         nodeDofCount=2 )\n",
    "    velocityField0.data[:] = 0.0\n",
    "\n",
    "    testDepth = 50e3/sf.lengthScale\n",
    "    testWidth = 10e3/sf.lengthScale \n",
    "\n",
    "    difftanhFn = 0.5*(fn.math.tanh((depthFn - testDepth)/(testWidth))) + 0.5\n",
    "\n",
    "\n",
    "    advDiff0 = uw.systems.AdvectionDiffusion( phiField       = temperatureField, \n",
    "                                             phiDotField    = temperatureDotField, \n",
    "                                             velocityField  = velocityField0,\n",
    "                                             fn_sourceTerm    = 0.0,\n",
    "                                             fn_diffusivity = difftanhFn, \n",
    "                                             #conditions     = [neumannTempBC, dirichTempBC] )\n",
    "                                             conditions     = [ dirichTempBC] )\n",
    "\n",
    "\n",
    "\n",
    "\n",
    "    diff_for  = md.diffuseInitial*(3600.*365.*24.)/sf.time\n",
    "    dt_diff = 0.\n",
    "    step_diff = 0.\n",
    "    while dt_diff < diff_for:\n",
    "        dt_now = advDiff0.get_max_dt()\n",
    "        advDiff0.integrate(dt_now)\n",
    "        dt_diff += dt_now\n",
    "        step_diff += 1\n",
    "        print('years and step: {} {}'.format((dt_diff*sf.time)/(3600.*365.*24.), step_diff))   \n",
    "\n",
    "    \n",
    "\n",
    "    #delete stuff if not needed\n",
    "\n",
    "    del difftanhFn\n",
    "    del advDiff0\n",
    "    del velocityField0\n",
    "\n",
    "\n",
    "    proxyTempVariable.data[:] = temperatureField.evaluate(swarm)"
   ]
  },
  {
   "cell_type": "code",
   "execution_count": null,
   "metadata": {
    "collapsed": true,
    "deletable": true,
    "editable": true
   },
   "outputs": [],
   "source": []
  },
  {
   "cell_type": "code",
   "execution_count": null,
   "metadata": {
    "collapsed": false,
    "deletable": true,
    "editable": true
   },
   "outputs": [],
   "source": [
    "print('past first solve')"
   ]
  },
  {
   "cell_type": "markdown",
   "metadata": {
    "deletable": true,
    "editable": true
   },
   "source": [
    "## Viz"
   ]
  },
  {
   "cell_type": "code",
   "execution_count": null,
   "metadata": {
    "collapsed": false,
    "deletable": true,
    "editable": true
   },
   "outputs": [],
   "source": [
    "#Build a depth dependent mask for the vizualisation\n",
    "\n",
    "depthVariable      = swarm.add_variable( dataType=\"float\", count=1 )\n",
    "depthVariable.data[:] = depthFn.evaluate(swarm)\n",
    "\n",
    "vizVariable      = swarm.add_variable( dataType=\"int\", count=1 )\n",
    "vizVariable.data[:] = 0\n",
    "\n",
    "for index, value in enumerate(depthVariable.data[:]):\n",
    "    #print index, value\n",
    "    if np.random.rand(1)**30 > value/(mesh.maxCoord[1] - mesh.minCoord[1]):\n",
    "        vizVariable.data[index] = 1\n",
    "    #if value > 660e3/sf.lengthScale:\n",
    "    #    vizVariable.data[index] = 0\n",
    "        \n",
    "        \n",
    "del index, value    #get rid of any variables that might be pointing at the .data handles (these are!)\n",
    "\n",
    "#Now randomly cull more particles if desired\n",
    "\n",
    "removeRandom = True\n",
    "if removeRandom:\n",
    "    reducFac = 0.6  #0.9 > remove 90%\n",
    "    nonzs = np.where(vizVariable.data[:,0] == 1)[0].copy()\n",
    "    nstart =  nonzs.shape[0]\n",
    "    nend = int(np.ceil(nstart*reducFac))\n",
    "    np.random.shuffle(nonzs)\n",
    "    nstart, nend\n",
    "\n",
    "    vizVariable.data[nonzs[:nend]] = 0\n",
    "    del nonzs, nstart, nend\n",
    "\n",
    "\n",
    "\n",
    "#Build any Functios we need for Viz\n",
    "\n",
    "stressII = 2.*strainRate_2ndInvariant*viscosityMapFn\n",
    "stressXX = 2.*symStrainrate[0]*viscosityMapFn\n",
    "\n",
    "\n"
   ]
  },
  {
   "cell_type": "code",
   "execution_count": null,
   "metadata": {
    "collapsed": false,
    "deletable": true,
    "editable": true
   },
   "outputs": [],
   "source": [
    "#Set up the gLucifer stores\n",
    "\n",
    "fullpath = os.path.join(outputPath + \"gldbs/\")\n",
    "store1 = glucifer.Store(fullpath + 'subduction1.gldb')\n",
    "store2 = glucifer.Store(fullpath + 'subduction2.gldb')\n",
    "store3 = glucifer.Store(fullpath + 'subduction3.gldb')\n",
    "store4 = glucifer.Store(fullpath + 'subduction4.gldb')\n",
    "store5 = glucifer.Store(fullpath + 'subduction5.gldb')\n",
    "store6 = glucifer.Store(fullpath + 'subduction6.gldb')\n",
    "\n",
    "\n",
    "fig1 = glucifer.Figure(store1,figsize=(300*np.round(md.aspectRatio,2),300))\n",
    "if md.thermal:\n",
    "    fig1.append( glucifer.objects.Points(swarm, temperatureField, pointSize=2,  valueRange=[0.0, 1.0], fn_mask=vizVariable))\n",
    "else:\n",
    "    fig1.append( glucifer.objects.Points(swarm, proxyTempVariable, pointSize=2, valueRange=[0.0, 1.0],  fn_mask=vizVariable))\n",
    "\n",
    " \n",
    "\n",
    "\n",
    "fig2 = glucifer.Figure(store2,figsize=(300*np.round(md.aspectRatio,2),300))\n",
    "fig2.append( glucifer.objects.Points(swarm, viscosityMapFn, pointSize=2, fn_mask=vizVariable, logScale=True, valueRange=[100.*ndp.viscosityMin, ndp.viscosityMax]))\n",
    "fig2.append( glucifer.objects.VectorArrows(mesh, velocityField, arrowHead=1, scaling=0.00005))\n",
    "\n",
    "\n",
    "fig3 = glucifer.Figure(store3,figsize=(300*np.round(md.aspectRatio,2),300))\n",
    "fig3.append( glucifer.objects.Points(swarm, pressureField, pointSize=2, fn_mask=vizVariable))\n",
    "fig3.append( glucifer.objects.Mesh(mesh))\n",
    "\n",
    "fig3.append( glucifer.objects.Points(marker.swarm, pointSize=5, colourBar=False))\n",
    "\n",
    "\n",
    "fig4 = glucifer.Figure(store4,figsize=(300*np.round(md.aspectRatio,2),300))\n",
    "fig4.append( glucifer.objects.Points(swarm, strainRate_2ndInvariant , pointSize=2, fn_mask=vizVariable))\n",
    "fig4.append( glucifer.objects.Points(marker.swarm, pointSize=5, colourBar=False))\n",
    "\n",
    "fig5 = glucifer.Figure(store5,figsize=(300*np.round(md.aspectRatio,2),300))\n",
    "fig5.append( glucifer.objects.Points(swarm, stressII , pointSize=2, fn_mask=vizVariable, valueRange=[0.0,ndp.yieldStressMax]))\n",
    "fig5.append( glucifer.objects.Points(swarm, stressXX , pointSize=2, fn_mask=vizVariable, valueRange=[-1*ndp.yieldStressMax/2.,ndp.yieldStressMax/2.]))\n",
    "fig5.append(glucifer.objects.Contours(mesh, temperatureField))\n",
    "\n",
    "fig6 = glucifer.Figure(store6,figsize=(300*np.round(md.aspectRatio,2),300))\n",
    "fig6.append( glucifer.objects.Points(swarm, materialVariable, pointSize=2, fn_mask=vizVariable))\n",
    "fig6.append( glucifer.objects.Mesh(mesh))\n"
   ]
  },
  {
   "cell_type": "markdown",
   "metadata": {
    "deletable": true,
    "editable": true
   },
   "source": [
    "## Integrals and metrics"
   ]
  },
  {
   "cell_type": "code",
   "execution_count": null,
   "metadata": {
    "collapsed": false,
    "deletable": true,
    "editable": true
   },
   "outputs": [],
   "source": [
    "_pressure = surfint(pressureField)\n",
    "_surfLength = surfint()\n",
    "surfLength = _surfLength.evaluate()[0]\n",
    "pressureSurf = _pressure.evaluate()[0]   \n",
    "pressureField.data[:] -= pressureSurf/surfLength"
   ]
  },
  {
   "cell_type": "markdown",
   "metadata": {
    "deletable": true,
    "editable": true
   },
   "source": [
    "## Update functions for main loop"
   ]
  },
  {
   "cell_type": "code",
   "execution_count": null,
   "metadata": {
    "collapsed": true,
    "deletable": true,
    "editable": true
   },
   "outputs": [],
   "source": [
    "def main_update():\n",
    "    \n",
    "    \n",
    "    if md.thermal:\n",
    "        dt = advDiff.get_max_dt()*md.courantFac #additional md.courantFac helps stabilise advDiff\n",
    "        advDiff.integrate(dt)\n",
    "        \n",
    "    else:\n",
    "        dt = advector.get_max_dt()\n",
    "        \n",
    "    advector.integrate(dt)\n",
    "    marker.advection(dt)\n",
    "    \n",
    "    #remove drift in pressure\n",
    "    pressureSurf = _pressure.evaluate()[0]   \n",
    "    pressureField.data[:] -= pressureSurf/surfLength\n",
    "    \n",
    "    \n",
    "    return time+dt, step+1\n",
    "    "
   ]
  },
  {
   "cell_type": "code",
   "execution_count": null,
   "metadata": {
    "collapsed": true,
    "deletable": true,
    "editable": true
   },
   "outputs": [],
   "source": [
    "def main_update2(next_image_step):\n",
    "    \n",
    "    \"\"\"\n",
    "    This includes some functionality for image / file writing at speciified time intervals,\n",
    "    Assumes global variables:\n",
    "        time, step, files_freq, next_image_step\n",
    "    \n",
    "    if numerical dt exceeds next specified writing point\n",
    "    override dt make sure we hit that point\n",
    "    Set some flags so that image / file writing proceeds\n",
    "    \n",
    "    \"\"\"\n",
    "    \n",
    "    \n",
    "    if md.thermal:\n",
    "        dt = advDiff.get_max_dt()*md.courantFac #additional md.courantFac helps stabilise advDiff\n",
    "        advDiff.integrate(dt)\n",
    "        \n",
    "    else:\n",
    "        dt = advector.get_max_dt()\n",
    "        \n",
    "    #This relates to file writing at set period:\n",
    "    #override dt make sure we hit certain time values\n",
    "    #Set some flags so that image / file writing proceeds\n",
    "    \n",
    "    if step == 0:\n",
    "        files_this_step = True\n",
    "    else:\n",
    "        files_this_step = False\n",
    "    \n",
    "    if time + dt >= next_image_step:\n",
    "        dt = next_image_step - time\n",
    "        files_this_step = True\n",
    "        next_image_step += files_freq #increment time for our next image / file dump\n",
    "        \n",
    "        \n",
    "    #Do advection    \n",
    "        \n",
    "    advector.integrate(dt)\n",
    "    marker.advection(dt)\n",
    "    \n",
    "    #remove drift in pressure\n",
    "    pressureSurf = _pressure.evaluate()[0]   \n",
    "    pressureField.data[:] -= pressureSurf/surfLength\n",
    "    \n",
    "    \n",
    "    return time+dt, step+1, files_this_step, next_image_step\n",
    "    "
   ]
  },
  {
   "cell_type": "code",
   "execution_count": null,
   "metadata": {
    "collapsed": true,
    "deletable": true,
    "editable": true
   },
   "outputs": [],
   "source": [
    "def viz_update():\n",
    "    \n",
    "    #Rebuild the viz. mask\n",
    "    vizVariable.data[:] = 0\n",
    "\n",
    "    for index, value in enumerate(depthVariable.data[:]):\n",
    "        #print index, value\n",
    "        if np.random.rand(1)**5 > value/(mesh.maxCoord[1] - mesh.minCoord[1]):\n",
    "            vizVariable.data[index] = 1\n",
    "\n",
    "    del index, value    #get rid of any variables that might be pointing at the .data handles (these \n",
    "    \n",
    "    if removeRandom:\n",
    "        reducFac = 0.6  #0.9 > remove 90%\n",
    "        nonzs = np.where(vizVariable.data[:,0] == 1)[0].copy()\n",
    "        nstart =  nonzs.shape[0]\n",
    "        nend = int(np.ceil(nstart*reducFac))\n",
    "        np.random.shuffle(nonzs)\n",
    "        nstart, nend\n",
    "\n",
    "        vizVariable.data[nonzs[:nend]] = 0\n",
    "        del nonzs, nstart, nend   \n",
    "    \n",
    "    #save gldbs\n",
    "    fullpath = os.path.join(outputPath + \"gldbs/\")\n",
    "    \n",
    "    store1.step = step\n",
    "    fig1.save( fullpath + \"Temp\" + str(step).zfill(5))\n",
    "    \n",
    "    store2.step = step\n",
    "    fig2.save( fullpath + \"visc\" + str(step).zfill(5))\n",
    "    \n",
    "    store3.step = step\n",
    "    fig3.save( fullpath + \"pressure\" + str(step).zfill(5))\n",
    "    \n",
    "    store4.step = step\n",
    "    fig4.save( fullpath + \"strainrate\" + str(step).zfill(5))\n",
    "    \n",
    "    store5.step = step\n",
    "    fig5.save( fullpath + \"strainrate\" + str(step).zfill(5))\n",
    "    \n",
    "    store6.step = step\n",
    "    fig6.save( fullpath + \"strainrate\" + str(step).zfill(5))\n",
    "    "
   ]
  },
  {
   "cell_type": "code",
   "execution_count": null,
   "metadata": {
    "collapsed": true,
    "deletable": true,
    "editable": true
   },
   "outputs": [],
   "source": [
    "def swarm_update():\n",
    "    \n",
    "    #run swarm repopulation\n",
    "    repopulate()\n",
    "    \n",
    "    \n",
    "    #rebuild the ridge mask guy\n",
    "    nearSurfTempGrad = fn.branching.conditional( ((depthFn < depthMorTest, temperatureField.fn_gradient[1] ), \n",
    "                                           (True,                      0.)  ))\n",
    "\n",
    "    morRestrictFn = fn.math.abs(nearSurfTempGrad) < 50.\n",
    "    \n",
    "    \n",
    "    #rebuild the material graph condition list, and apply to swarm\n",
    "    MG.build_condition_list(materialVariable)\n",
    "    materialVariable.data[:] = fn.branching.conditional(MG.condition_list).evaluate(swarm)\n",
    "    \n",
    "    \n",
    "    "
   ]
  },
  {
   "cell_type": "code",
   "execution_count": null,
   "metadata": {
    "collapsed": false,
    "deletable": true,
    "editable": true
   },
   "outputs": [],
   "source": [
    "def markerLine_update():\n",
    "    cutoffDepth = 250e3/sf.lengthScale\n",
    "    mask = marker.swarm.particleCoordinates.data[:,1] < (mesh.maxCoord[1] - cutoffDepth)\n",
    "\n",
    "    with marker.swarm.deform_swarm():\n",
    "        marker.swarm.particleCoordinates.data[mask] = (999999.,999999.)\n",
    "        \n",
    "    #Any line healing stuff to go here"
   ]
  },
  {
   "cell_type": "markdown",
   "metadata": {
    "collapsed": true,
    "deletable": true,
    "editable": true
   },
   "source": [
    "def files_update():\n",
    "    \n",
    "    #We don't evaluate on the marker but, here (2/3 of the way towards teh top of the fault region)\n",
    "    ds = ndp.faultThickness/2.5\n",
    "    \n",
    "    #Need to write a safeguard that checks that \n",
    "    markerEval = marker.swarm.particleCoordinates.data - marker.director.data[...]*ds\n",
    "    \n",
    "    midlithEval = surfaceLine.swarm.particleCoordinates.data  - [0.0, 30e3/sf.lengthScale]\n",
    "    \n",
    "    \n",
    "    #define any NN interps we'll need\n",
    "\n",
    "    ix1, weights1, d1 = nn_evaluation(swarm.particleCoordinates.data, markerEval, n=2, weighted=True)\n",
    "    ix2, weights2, d2 = nn_evaluation(swarm.particleCoordinates.data, surfaceLine.swarm.particleCoordinates.data, n=5, weighted=True)\n",
    "    ix3, weights3, d3 = nn_evaluation(swarm.particleCoordinates.data, midlithEval, n=5, weighted=True)\n",
    "  \n",
    "\n",
    "\n",
    "    #because we're using points and not a swarm, needs to be safeguarded\n",
    "    #marker stuff  \n",
    "    if markerEval.shape[0]:\n",
    "        markerEvalPoints.data[:] = markerEval\n",
    "\n",
    "        #Update the data:\n",
    "        if len(weights1): #i.e. if there is anu markerLine in this proc\n",
    "            markerVisc.data[:,0] =  np.average(viscosityMapFn.evaluate(swarm)[:,0][ix1], weights=weights1, axis=len((weights1.shape)) - 1)\n",
    "        markerSr2Inv.data[:] = strainRate_2ndInvariant.evaluate(markerEval)\n",
    "        markerSrxx.data[:] = symStrainrate[0].evaluate(markerEval)\n",
    "        markerSryy.data[:] = symStrainrate[1].evaluate(markerEval)\n",
    "        markerYieldStress.data[:] = crustysf.evaluate(markerEval)\n",
    "        markerPressure.data[:] = pressureField.evaluate(markerEval) #only relavent for thermal models\n",
    "        markerTemp.data[:] = temperatureField.evaluate(markerEval) #only relavent for thermal models\n",
    "    \n",
    "    #Surface stuff \n",
    "    \n",
    "    surfVelx.data[:] = velocityField[0].evaluate(surfaceLine.swarm)\n",
    "    surfStrain.data[:] = symStrainrate[1].evaluate(surfaceLine.swarm)#* \\\n",
    "    surfTgrad.data[:] = temperatureField.fn_gradient[1].evaluate(surfaceLine.swarm)\n",
    "\n",
    "    if len(weights2):\n",
    "        surfVisc.data[:,0] =    np.average(viscosityMapFn.evaluate(swarm)[:,0][ix2], weights=weights2, axis=len((weights2.shape)) - 1)\n",
    "        surfTgrad.data[:] = temperatureField.fn_gradient[1].evaluate(surfaceLine.swarm)\n",
    "\n",
    "    \n",
    "    #Mid lith stuff\n",
    "    \n",
    "    if midlithEval.shape[0]:\n",
    "        midlithEvalEvalPoints.data[:] = midlithEval\n",
    "        if len(weights3): #i.e. if there is anu markerLine in this proc\n",
    "                midlithVisc.data[:,0] =  np.average(viscosityMapFn.evaluate(swarm)[:,0][ix3], weights=weights3, axis=len((weights3.shape)) - 1)\n",
    "        midlithSr2Inv.data[:] = strainRate_2ndInvariant.evaluate(midlithEval)\n",
    "        midlithStrainTens.data[:] = symStrainrate.evaluate(midlithEval)\n",
    "    \n",
    "    #Save the files:\n",
    "    fullpath = os.path.join(outputPath + \"files/\")\n",
    "    \n",
    "    #marker\n",
    "    markerEvalPoints.save( fullpath + \"markerEval\" + str(step).zfill(5))\n",
    "    markerYieldStress.save( fullpath + \"markerYieldStress\" + str(step).zfill(5))\n",
    "    markerTemp.save( fullpath + \"markerTemp\" + str(step).zfill(5))\n",
    "    markerVisc.save( fullpath + \"markerVisc\" + str(step).zfill(5))\n",
    "    markerSr2Inv.save( fullpath + \"markerSr2Inv\" + str(step).zfill(5))\n",
    "    markerSrxx.save( fullpath + \"markerSrxx\" + str(step).zfill(5))\n",
    "    markerSryy.save( fullpath + \"markerSryy\" + str(step).zfill(5))\n",
    "    markerPressure.save( fullpath + \"markerPressure\" + str(step).zfill(5))\n",
    "    \n",
    "    #suface\n",
    "    surfVelx.save( fullpath + \"surfVelx\" + str(step).zfill(5))\n",
    "    surfStrain.save( fullpath + \"surfStrain\" + str(step).zfill(5))\n",
    "    surfVisc.save( fullpath + \"surfVisc\" + str(step).zfill(5))\n",
    "    surfTgrad.save( fullpath + \"surfTgrad\" + str(step).zfill(5))\n",
    "\n",
    "    \n",
    "    #mid lith\n",
    "    midlithEvalEvalPoints.save( fullpath + \"midlithEvalEvalPoints\" + str(step).zfill(5))\n",
    "    midlithVisc.save( fullpath + \"midlithVisc\" + str(step).zfill(5))\n",
    "    midlithSr2Inv.save( fullpath + \"midlithSr2Inv\" + str(step).zfill(5))\n",
    "    midlithStrainTens.save( fullpath + \"midlithStrainTens\" + str(step).zfill(5))\n",
    "\n",
    "\n",
    "\n",
    "\n",
    "    \n",
    "    \n",
    "    \n",
    "    \n"
   ]
  },
  {
   "cell_type": "code",
   "execution_count": null,
   "metadata": {
    "collapsed": true,
    "deletable": true,
    "editable": true
   },
   "outputs": [],
   "source": []
  },
  {
   "cell_type": "code",
   "execution_count": null,
   "metadata": {
    "collapsed": true,
    "deletable": true,
    "editable": true
   },
   "outputs": [],
   "source": [
    "def files_update():\n",
    "    \n",
    "    #get all coords for the marker\n",
    "    marker.swarm.shadow_particles_fetch()\n",
    "    dims = marker.swarm.particleCoordinates.data.shape[1]\n",
    "    pc = np.append(marker.swarm.particleCoordinates.data,\n",
    "                       marker.swarm.particleCoordinates.data_shadow)\n",
    "    all_coords = pc.reshape(-1,dims)\n",
    "    pd = np.append(marker.director.data,\n",
    "                       marker.director.data_shadow)\n",
    "    all_directs = pd.reshape(-1,dims)\n",
    "    \n",
    "    #We don't evaluate on the fault but at a small distance in the norma direction\n",
    "    ds = ndp.faultThickness/2.\n",
    "    markerEvalPoints = all_coords - all_directs[...]*ds\n",
    "    \n",
    "    \n",
    "    #Create the temp Swarm\n",
    "    markerEval = uw.swarm.Swarm( mesh=mesh )\n",
    "    markerEval.add_particles_with_coordinates(markerEvalPoints)\n",
    "    \n",
    "    #Create the temp Swarm vars.\n",
    "    \n",
    "    markerVisc = uw.swarm.SwarmVariable(markerEval, 'double', 1)\n",
    "    markerSr2Inv = uw.swarm.SwarmVariable(markerEval, 'double', 1)\n",
    "    markerSrxx = uw.swarm.SwarmVariable(markerEval, 'double', 1)\n",
    "    markerSryy = uw.swarm.SwarmVariable(markerEval, 'double', 1)\n",
    "    markerEvalPoints = uw.swarm.SwarmVariable(markerEval, 'double', 2)\n",
    "    markerYieldStress = uw.swarm.SwarmVariable(markerEval, 'double', 1)\n",
    "    markerTemp = uw.swarm.SwarmVariable(markerEval, 'double', 1)\n",
    "    markerPressure = uw.swarm.SwarmVariable(markerEval, 'double', 1)\n",
    "\n",
    "    \n",
    "    midlithEval = surfaceLine.swarm.particleCoordinates.data  - [0.0, 30e3/sf.lengthScale]\n",
    "    \n",
    "    \n",
    "    #define any NN interps we'll need\n",
    "\n",
    "    ix1, weights1, d1 = nn_evaluation(swarm.particleCoordinates.data, markerEval.particleCoordinates.data, n=5, weighted=True)\n",
    "    ix2, weights2, d2 = nn_evaluation(swarm.particleCoordinates.data, surfaceLine.swarm.particleCoordinates.data, n=5, weighted=True)\n",
    "    ix3, weights3, d3 = nn_evaluation(swarm.particleCoordinates.data, midlithEval, n=5, weighted=True)\n",
    "  \n",
    "\n",
    "\n",
    "    #safeguarding - prob not necessary, partial relic of earlier implementation \n",
    "    #Fault stuff  \n",
    "    if markerEval.particleCoordinates.data.shape[0]:\n",
    "        markerEvalPoints.data[:] = markerEval.particleCoordinates.data\n",
    "\n",
    "        #Update the data:\n",
    "        if len(weights1): #i.e. if there is anu markerLine in this proc\n",
    "            markerVisc.data[:,0] =  np.average(viscosityMapFn.evaluate(swarm)[:,0][ix1], weights=weights1, axis=len((weights1.shape)) - 1)\n",
    "        markerSr2Inv.data[:] = strainRate_2ndInvariant.evaluate(markerEval)\n",
    "        markerSrxx.data[:] = symStrainrate[0].evaluate(markerEval)\n",
    "        markerSryy.data[:] = symStrainrate[1].evaluate(markerEval)\n",
    "        markerYieldStress.data[:] = crustysf.evaluate(markerEval)\n",
    "        markerPressure.data[:] = pressureField.evaluate(markerEval) #only relavent for thermal models\n",
    "        markerTemp.data[:] = temperatureField.evaluate(markerEval) #only relavent for thermal models\n",
    "    \n",
    "    #Surface stuff \n",
    "    \n",
    "    surfVelx.data[:] = velocityField[0].evaluate(surfaceLine.swarm)\n",
    "    surfStrain.data[:] = symStrainrate[1].evaluate(surfaceLine.swarm)#* \\\n",
    "    surfTgrad.data[:] = temperatureField.fn_gradient[1].evaluate(surfaceLine.swarm)\n",
    "\n",
    "    if len(weights2):\n",
    "        surfVisc.data[:,0] =    np.average(viscosityMapFn.evaluate(swarm)[:,0][ix2], weights=weights2, axis=len((weights2.shape)) - 1)\n",
    "        surfTgrad.data[:] = temperatureField.fn_gradient[1].evaluate(surfaceLine.swarm)\n",
    "\n",
    "    \n",
    "    #Mid lith stuff\n",
    "    \n",
    "    if midlithEval.shape[0]:\n",
    "        midlithEvalEvalPoints.data[:] = midlithEval\n",
    "        if len(weights3): #i.e. if there is anu markerLine in this proc\n",
    "                midlithVisc.data[:,0] =  np.average(viscosityMapFn.evaluate(swarm)[:,0][ix3], weights=weights3, axis=len((weights3.shape)) - 1)\n",
    "        midlithSr2Inv.data[:] = strainRate_2ndInvariant.evaluate(midlithEval)\n",
    "        midlithStrainTens.data[:] = symStrainrate.evaluate(midlithEval)\n",
    "    \n",
    "    #Save the files:\n",
    "    fullpath = os.path.join(outputPath + \"files/\")\n",
    "    \n",
    "    #marker\n",
    "    markerEvalPoints.save( fullpath + \"markerEval\" + str(step).zfill(5))\n",
    "    markerYieldStress.save( fullpath + \"markerYieldStress\" + str(step).zfill(5))\n",
    "    markerTemp.save( fullpath + \"markerTemp\" + str(step).zfill(5))\n",
    "    markerVisc.save( fullpath + \"markerVisc\" + str(step).zfill(5))\n",
    "    markerSr2Inv.save( fullpath + \"markerSr2Inv\" + str(step).zfill(5))\n",
    "    markerSrxx.save( fullpath + \"markerSrxx\" + str(step).zfill(5))\n",
    "    markerSryy.save( fullpath + \"markerSryy\" + str(step).zfill(5))\n",
    "    markerPressure.save( fullpath + \"markerPressure\" + str(step).zfill(5))\n",
    "    \n",
    "    #suface\n",
    "    surfVelx.save( fullpath + \"surfVelx\" + str(step).zfill(5))\n",
    "    surfStrain.save( fullpath + \"surfStrain\" + str(step).zfill(5))\n",
    "    surfVisc.save( fullpath + \"surfVisc\" + str(step).zfill(5))\n",
    "    surfTgrad.save( fullpath + \"surfTgrad\" + str(step).zfill(5))\n",
    "\n",
    "    \n",
    "    #mid lith\n",
    "    midlithEvalEvalPoints.save( fullpath + \"midlithEvalEvalPoints\" + str(step).zfill(5))\n",
    "    midlithVisc.save( fullpath + \"midlithVisc\" + str(step).zfill(5))\n",
    "    midlithSr2Inv.save( fullpath + \"midlithSr2Inv\" + str(step).zfill(5))\n",
    "    midlithStrainTens.save( fullpath + \"midlithStrainTens\" + str(step).zfill(5))\n",
    "\n",
    "\n",
    "\n",
    "    \n",
    "    uw.barrier()\n",
    "    #big delete - all components of the temporary swarm \n",
    "    \n",
    "    del pc\n",
    "    del all_coords\n",
    "    del pd\n",
    "    del all_directs\n",
    "    del markerEvalPoints\n",
    "    del markerVisc\n",
    "    del markerSr2Inv\n",
    "    del markerSrxx \n",
    "    del markerSryy\n",
    "    del markerYieldStress\n",
    "    del markerEval"
   ]
  },
  {
   "cell_type": "code",
   "execution_count": null,
   "metadata": {
    "collapsed": false,
    "deletable": true,
    "editable": true
   },
   "outputs": [],
   "source": [
    "#del markerSr2Inv\n",
    "#markerSr2Inv"
   ]
  },
  {
   "cell_type": "code",
   "execution_count": null,
   "metadata": {
    "collapsed": true,
    "deletable": true,
    "editable": true
   },
   "outputs": [],
   "source": [
    "#step = 2\n",
    "#\n",
    "#files_update()"
   ]
  },
  {
   "cell_type": "code",
   "execution_count": null,
   "metadata": {
    "collapsed": true,
    "deletable": true,
    "editable": true
   },
   "outputs": [],
   "source": [
    "def xdmfs_update():\n",
    "    \n",
    "    #define any NN interps we'll need\n",
    "    ix1, weights1, d1 = nn_evaluation(swarm.particleCoordinates.data, mesh.data, n=5, weighted=True)\n",
    "    \n",
    "    \n",
    "    #rebuild any mesh vars that are not self-updating\n",
    "    viscosityField.data[:,0] =  np.average(viscosityMapFn.evaluate(swarm)[:,0][ix1], weights=weights1, axis=len((weights1.shape)) - 1)\n",
    "    strainRateField.data[:] = strainRate_2ndInvariant.evaluate(mesh)\n",
    "     \n",
    "    \n",
    "    fullpath = os.path.join(outputPath + \"xdmf/\")\n",
    "    #if not os.path.exists(fullpath+\"mesh.h5\"):\n",
    "    #    _mH = mesh.save(fullpath+\"mesh.h5\")\n",
    "    \n",
    "    try:\n",
    "        _mH\n",
    "    except:\n",
    "        _mH = mesh.save(fullpath+\"mesh.h5\")\n",
    "    \n",
    "    \n",
    "    #Part 1\n",
    "    mh = _mH\n",
    "    vH = velocityField.save(fullpath + \"velocity_\" + str(step) +\".h5\")\n",
    "    tH = temperatureField.save(fullpath + \"temp_\" + str(step) + \".h5\")\n",
    "    srH = strainRateField.save(fullpath + \"strainrate_\" + str(step) +\".h5\")\n",
    "    viscH = viscosityField.save(fullpath + \"visc_\" + str(step) + \".h5\")\n",
    "    \n",
    "    #part2\n",
    "    \n",
    "    velocityField.xdmf(fullpath + \"velocity_\" + str(step), vH, 'velocity', mh, 'mesh', modeltime=time)\n",
    "    temperatureField.xdmf(fullpath + \"temp_\" + str(step), tH, 'temperature', mh, 'mesh', modeltime=time)\n",
    "    strainRateField.xdmf(fullpath + \"strainrate_\" + str(step), srH, 'strainrate', mh, 'mesh', modeltime=time)\n",
    "    viscosityField.xdmf(fullpath + \"visc_\" + str(step), viscH, 'visc', mh, 'mesh', modeltime=time)"
   ]
  },
  {
   "cell_type": "code",
   "execution_count": null,
   "metadata": {
    "collapsed": true,
    "deletable": true,
    "editable": true
   },
   "outputs": [],
   "source": [
    "def update_wedge_pos():\n",
    "    pass\n",
    "    "
   ]
  },
  {
   "cell_type": "code",
   "execution_count": null,
   "metadata": {
    "collapsed": false,
    "deletable": true,
    "editable": true
   },
   "outputs": [],
   "source": [
    "wedgeFn = update_wedge_pos()"
   ]
  },
  {
   "cell_type": "markdown",
   "metadata": {
    "deletable": true,
    "editable": true
   },
   "source": [
    "## Main loop"
   ]
  },
  {
   "cell_type": "code",
   "execution_count": null,
   "metadata": {
    "collapsed": true,
    "deletable": true,
    "editable": true
   },
   "outputs": [],
   "source": []
  },
  {
   "cell_type": "code",
   "execution_count": null,
   "metadata": {
    "collapsed": false,
    "deletable": true,
    "editable": true
   },
   "outputs": [],
   "source": [
    "time = cp.time()  # Initial time\n",
    "step = cp.step()   # Initial timestep\n",
    "steps_output = 5   # output every 10 timesteps\n",
    "metrics_output = 5\n",
    "files_output = 10\n",
    "\n",
    "files_freq  = md.filesMy*(3600.*365.*24.)/sf.time  #applies to files and gldbs\n",
    "files_this_step = False\n",
    "next_image_step = (np.floor(time/files_freq)+ 1.) *files_freq \n"
   ]
  },
  {
   "cell_type": "code",
   "execution_count": null,
   "metadata": {
    "collapsed": true,
    "deletable": true,
    "editable": true
   },
   "outputs": [],
   "source": [
    "#checkpoint at time zero\n",
    "if not cp.restart:\n",
    "    cp.saveObjs(step, time)\n",
    "    cp.saveDicts(step, time)"
   ]
  },
  {
   "cell_type": "code",
   "execution_count": null,
   "metadata": {
    "collapsed": false,
    "deletable": true,
    "editable": true
   },
   "outputs": [],
   "source": [
    "while step < md.maxSteps:\n",
    "    \n",
    "    solver.solve(nonLinearIterate=True, nonLinearTolerance=md.nltol)\n",
    "    \n",
    "    # main\n",
    "    time,step,files_this_step, next_image_step = main_update2(next_image_step)\n",
    "    \n",
    "    #markers / markerLines\n",
    "    if step % md.swarmUpdate == 0:\n",
    "        markerLine_update()    \n",
    "    \n",
    "    #checkpoint\n",
    "    if step % md.checkpointEvery == 0:\n",
    "        cp.saveObjs(step, time)\n",
    "        cp.saveDicts(step, time)\n",
    "        \n",
    "    #particles\n",
    "    if step % md.swarmUpdate == 0:\n",
    "        swarm_update()\n",
    "        \n",
    "        \n",
    "    #Viz\n",
    "    if files_this_step:\n",
    "        viz_update()    \n",
    "\n",
    "        \n",
    "    #files\n",
    "    if files_this_step:\n",
    "        files_update()\n",
    "        \n",
    "        \n",
    "    #xdmfs\n",
    "    if files_this_step:\n",
    "        xdmfs_update()\n",
    "    \n",
    "        \n",
    "    print 'step =',step\n",
    "    \n",
    "\n",
    "    \n",
    "\n",
    "print 'step =',step"
   ]
  },
  {
   "cell_type": "code",
   "execution_count": null,
   "metadata": {
    "collapsed": true,
    "deletable": true,
    "editable": true
   },
   "outputs": [],
   "source": []
  },
  {
   "cell_type": "code",
   "execution_count": null,
   "metadata": {
    "collapsed": true,
    "deletable": true,
    "editable": true
   },
   "outputs": [],
   "source": [
    "#ix1, weights1, d1 = nn_evaluation(swarm.particleCoordinates.data, mesh.data[tWalls.data], n=5, weighted=True)\n",
    "#surfStressData =    np.average(stressFn[1].evaluate(swarm)[:,0][ix1], weights=weights1, axis=len((weights1.shape)) - 1)"
   ]
  },
  {
   "cell_type": "code",
   "execution_count": null,
   "metadata": {
    "collapsed": true,
    "deletable": true,
    "editable": true
   },
   "outputs": [],
   "source": [
    "#vx = velocityField[0].evaluate(mesh.data[tWalls.data])\n",
    "#press = pressureField.evaluate(mesh.data[tWalls.data])"
   ]
  },
  {
   "cell_type": "code",
   "execution_count": null,
   "metadata": {
    "collapsed": false,
    "deletable": true,
    "editable": true
   },
   "outputs": [],
   "source": [
    "#%pylab inline\n",
    "\n",
    "# new style method 1; unpack the axes\n",
    "#fig, (ax1, ax2) = plt.subplots(2, 1, sharex=True, sharey=False)\n",
    "#ax1.plot((-1.*surfStressData*sf.stress), c='r')\n",
    "#ax1.plot((press*sf.stress))\n",
    "#ax2.plot(vx)\n"
   ]
  },
  {
   "cell_type": "code",
   "execution_count": null,
   "metadata": {
    "collapsed": false,
    "deletable": true,
    "editable": true
   },
   "outputs": [],
   "source": [
    "#We don't evaluate on the marker but, here\n",
    "#ds = ndp.faultThickness/2.\n",
    "#markerEval = marker.swarm.particleCoordinates.data - marker.director.data[...]*ds\n",
    "\n",
    "#marker2 = markerLine2D(mesh, velocityField,markerEval[:,0], markerEval[:,1], ndp.faultThickness,  6)\n",
    "\n",
    "#with marker2.swarm.deform_swarm():\n",
    "#    marker2.swarm.particleCoordinates.data[:] += marker2.director.data*ndp.faultThickness"
   ]
  },
  {
   "cell_type": "code",
   "execution_count": null,
   "metadata": {
    "collapsed": false,
    "deletable": true,
    "editable": true,
    "scrolled": true
   },
   "outputs": [],
   "source": [
    "#fig1 = glucifer.Figure(figsize=(300*np.round(md.aspectRatio,2),300))\n",
    "\n",
    "#fig2.append( glucifer.objects.Points(swarm, materialVariable, pointSize=2, fn_mask=vizVariable))\n",
    "#fig1.append( glucifer.objects.Points(swarm, materialVariable,pointSize=2, fn_mask=vizVariable))\n",
    "#fig1.append( glucifer.objects.Points(marker.swarm, colours='red'))\n",
    "#fig1.append( glucifer.objects.Points(marker2.swarm))\n",
    "\n",
    "#fig2.append( glucifer.objects.Points(testMarker.swarm))\n",
    "\n",
    "\n",
    "#fig1.append( glucifer.objects.VectorArrows(mesh, velocityField, arrowHead=5, scaling=0.00005))\n",
    "#fig1.save_database('test.gldb')"
   ]
  },
  {
   "cell_type": "code",
   "execution_count": null,
   "metadata": {
    "collapsed": false,
    "deletable": true,
    "editable": true
   },
   "outputs": [],
   "source": [
    "#import pickle\n",
    "##with open('dp.pkl', 'rb') as fp:\n",
    "#    dill = pickle.load(fp)\n",
    "#dill"
   ]
  }
 ],
 "metadata": {
  "kernelspec": {
   "display_name": "Python 2",
   "language": "python",
   "name": "python2"
  },
  "language_info": {
   "codemirror_mode": {
    "name": "ipython",
    "version": 2
   },
   "file_extension": ".py",
   "mimetype": "text/x-python",
   "name": "python",
   "nbconvert_exporter": "python",
   "pygments_lexer": "ipython2",
   "version": "2.7.9"
  },
  "widgets": {
   "state": {},
   "version": "1.1.2"
  }
 },
 "nbformat": 4,
 "nbformat_minor": 1
}
